{
 "cells": [
  {
   "cell_type": "markdown",
   "metadata": {},
   "source": [
    "# Overview"
   ]
  },
  {
   "cell_type": "markdown",
   "metadata": {},
   "source": [
    "1. Project Instructions & Prerequisites\n",
    "2. Learning Objectives\n",
    "3. Data Preparation\n",
    "4. Create Categorical Features with TF Feature Columns\n",
    "5. Create Continuous/Numerical Features with TF Feature Columns\n",
    "6. Build Deep Learning Regression Model with Sequential API and TF Probability Layers\n",
    "7. Evaluating Potential Model Biases with Aequitas Toolkit\n"
   ]
  },
  {
   "cell_type": "markdown",
   "metadata": {},
   "source": [
    "#  1. Project Instructions & Prerequisites"
   ]
  },
  {
   "cell_type": "markdown",
   "metadata": {},
   "source": [
    "## Project Instructions"
   ]
  },
  {
   "cell_type": "markdown",
   "metadata": {},
   "source": [
    "**Context**: EHR data is becoming a key source of real-world evidence (RWE) for the pharmaceutical industry and regulators to [make decisions on clinical trials](https://www.fda.gov/news-events/speeches-fda-officials/breaking-down-barriers-between-clinical-trials-and-clinical-care-incorporating-real-world-evidence). You are a data scientist for an exciting unicorn healthcare startup that has created a groundbreaking diabetes drug that is ready for clinical trial testing. It is a very unique and sensitive drug that requires administering the drug over at least 5-7 days of time in the hospital with frequent monitoring/testing and patient medication adherence training with a mobile application. You have been provided a patient dataset from a client partner and are tasked with building a predictive model that can identify which type of patients the company should focus their efforts testing this drug on. Target patients are people that are likely to be in the hospital for this duration of time and will not incur significant additional costs for administering this drug to the patient and monitoring.  \n",
    "\n",
    "In order to achieve your goal you must build a regression model that can predict the estimated hospitalization time for a patient and use this to select/filter patients for your study.\n"
   ]
  },
  {
   "cell_type": "markdown",
   "metadata": {},
   "source": [
    "**Expected Hospitalization Time Regression Model:** Utilizing a synthetic dataset(denormalized at the line level augmentation) built off of the UCI Diabetes readmission dataset, students will build a regression model that predicts the expected days of hospitalization time and then convert this to a binary prediction of whether to include or exclude that patient from the clinical trial.\n",
    "\n",
    "This project will demonstrate the importance of building the right data representation at the encounter level, with appropriate filtering and preprocessing/feature engineering of key medical code sets. This project will also require students to analyze and interpret their model for biases across key demographic groups. \n",
    "\n",
    "Please see the project rubric online for more details on the areas your project will be evaluated."
   ]
  },
  {
   "cell_type": "markdown",
   "metadata": {},
   "source": [
    "### Dataset"
   ]
  },
  {
   "cell_type": "markdown",
   "metadata": {},
   "source": [
    "Due to healthcare PHI regulations (HIPAA, HITECH), there are limited number of publicly available datasets and some datasets require training and approval. So, for the purpose of this exercise, we are using a dataset from UC Irvine(https://archive.ics.uci.edu/ml/datasets/Diabetes+130-US+hospitals+for+years+1999-2008) that has been modified for this course. Please note that it is limited in its representation of some key features such as diagnosis codes which are usually an unordered list in 835s/837s (the HL7 standard interchange formats used for claims and remits)."
   ]
  },
  {
   "cell_type": "markdown",
   "metadata": {},
   "source": [
    "**Data Schema**\n",
    "The dataset reference information can be https://github.com/udacity/nd320-c1-emr-data-starter/blob/master/project/data_schema_references/\n",
    ". There are two CSVs that provide more details on the fields and some of the mapped values."
   ]
  },
  {
   "cell_type": "markdown",
   "metadata": {},
   "source": [
    "## Project Submission "
   ]
  },
  {
   "cell_type": "markdown",
   "metadata": {},
   "source": [
    "When submitting this project, make sure to run all the cells before saving the notebook. Save the notebook file as \"student_project_submission.ipynb\" and save another copy as an HTML file by clicking \"File\" -> \"Download as..\"->\"html\". Include the \"utils.py\" and \"student_utils.py\" files in your submission. The student_utils.py should be where you put most of your code that you write and the summary and text explanations should be written inline in the notebook. Once you download these files, compress them into one zip file for submission."
   ]
  },
  {
   "cell_type": "markdown",
   "metadata": {},
   "source": [
    "## Prerequisites "
   ]
  },
  {
   "cell_type": "markdown",
   "metadata": {},
   "source": [
    "- Intermediate level knowledge of Python\n",
    "- Basic knowledge of probability and statistics\n",
    "- Basic knowledge of machine learning concepts\n",
    "- Installation of Tensorflow 2.0 and other dependencies(conda environment.yml or virtualenv requirements.txt file provided)"
   ]
  },
  {
   "cell_type": "markdown",
   "metadata": {},
   "source": [
    "## Environment Setup"
   ]
  },
  {
   "cell_type": "markdown",
   "metadata": {},
   "source": [
    "For step by step instructions on creating your environment, please go to https://github.com/udacity/nd320-c1-emr-data-starter/blob/master/project/README.md."
   ]
  },
  {
   "cell_type": "markdown",
   "metadata": {},
   "source": [
    "# 2.  Learning Objectives"
   ]
  },
  {
   "cell_type": "markdown",
   "metadata": {},
   "source": [
    "By the end of the project, you will be able to \n",
    "   - Use the Tensorflow Dataset API to scalably extract, transform, and load datasets and build datasets aggregated at the line, encounter, and patient data levels(longitudinal)\n",
    "   - Analyze EHR datasets to check for common issues (data leakage, statistical properties, missing values, high cardinality) by performing exploratory data analysis.\n",
    "   - Create categorical features from Key Industry Code Sets (ICD, CPT, NDC) and reduce dimensionality for high cardinality features by using embeddings \n",
    "   - Create derived features(bucketing, cross-features, embeddings) utilizing Tensorflow feature columns on both continuous and categorical input features\n",
    "   - SWBAT use the Tensorflow Probability library to train a model that provides uncertainty range predictions that allow for risk adjustment/prioritization and triaging of predictions\n",
    "   - Analyze and determine biases for a model for key demographic groups by evaluating performance metrics across groups by using the Aequitas framework \n"
   ]
  },
  {
   "cell_type": "markdown",
   "metadata": {},
   "source": [
    "# 3. Data Preparation"
   ]
  },
  {
   "cell_type": "code",
   "execution_count": 1,
   "metadata": {},
   "outputs": [],
   "source": [
    "# from __future__ import absolute_import, division, print_function, unicode_literals\n",
    "import os\n",
    "import numpy as np\n",
    "import tensorflow as tf\n",
    "from tensorflow.keras import layers\n",
    "import tensorflow_probability as tfp\n",
    "import matplotlib.pyplot as plt\n",
    "import seaborn as sns\n",
    "import pandas as pd\n",
    "import aequitas as ae\n",
    "import sklearn\n",
    "# Put all of the helper functions in utils\n",
    "from utils import build_vocab_files, show_group_stats_viz, aggregate_dataset, preprocess_df, df_to_dataset, posterior_mean_field, prior_trainable\n",
    "pd.set_option('display.max_columns', 500)\n",
    "# this allows you to make changes and save in student_utils.py and the file is reloaded every time you run a code block\n",
    "%load_ext autoreload\n",
    "%autoreload"
   ]
  },
  {
   "cell_type": "code",
   "execution_count": 2,
   "metadata": {},
   "outputs": [],
   "source": [
    "#OPEN ISSUE ON MAC OSX for TF model training\n",
    "import os\n",
    "os.environ['KMP_DUPLICATE_LIB_OK']='True'"
   ]
  },
  {
   "cell_type": "markdown",
   "metadata": {},
   "source": [
    "## Dataset Loading and Schema Review"
   ]
  },
  {
   "cell_type": "markdown",
   "metadata": {},
   "source": [
    "Load the dataset and view a sample of the dataset along with reviewing the schema reference files to gain a deeper understanding of the dataset. The dataset is located at the following path https://github.com/udacity/nd320-c1-emr-data-starter/blob/master/project/starter_code/data/final_project_dataset.csv. Also, review the information found in the data schema https://github.com/udacity/nd320-c1-emr-data-starter/blob/master/project/data_schema_references/"
   ]
  },
  {
   "cell_type": "code",
   "execution_count": 3,
   "metadata": {},
   "outputs": [],
   "source": [
    "dataset_path = \"./data/final_project_dataset.csv\"\n",
    "df = pd.read_csv(dataset_path)"
   ]
  },
  {
   "cell_type": "markdown",
   "metadata": {},
   "source": [
    "## Determine Level of Dataset (Line or Encounter)"
   ]
  },
  {
   "cell_type": "code",
   "execution_count": 4,
   "metadata": {},
   "outputs": [
    {
     "data": {
      "text/html": [
       "<div>\n",
       "<style scoped>\n",
       "    .dataframe tbody tr th:only-of-type {\n",
       "        vertical-align: middle;\n",
       "    }\n",
       "\n",
       "    .dataframe tbody tr th {\n",
       "        vertical-align: top;\n",
       "    }\n",
       "\n",
       "    .dataframe thead th {\n",
       "        text-align: right;\n",
       "    }\n",
       "</style>\n",
       "<table border=\"1\" class=\"dataframe\">\n",
       "  <thead>\n",
       "    <tr style=\"text-align: right;\">\n",
       "      <th></th>\n",
       "      <th>encounter_id</th>\n",
       "      <th>patient_nbr</th>\n",
       "      <th>race</th>\n",
       "      <th>gender</th>\n",
       "      <th>age</th>\n",
       "      <th>weight</th>\n",
       "      <th>admission_type_id</th>\n",
       "      <th>discharge_disposition_id</th>\n",
       "      <th>admission_source_id</th>\n",
       "      <th>time_in_hospital</th>\n",
       "      <th>payer_code</th>\n",
       "      <th>medical_specialty</th>\n",
       "      <th>primary_diagnosis_code</th>\n",
       "      <th>other_diagnosis_codes</th>\n",
       "      <th>number_outpatient</th>\n",
       "      <th>number_inpatient</th>\n",
       "      <th>number_emergency</th>\n",
       "      <th>num_lab_procedures</th>\n",
       "      <th>number_diagnoses</th>\n",
       "      <th>num_medications</th>\n",
       "      <th>num_procedures</th>\n",
       "      <th>ndc_code</th>\n",
       "      <th>max_glu_serum</th>\n",
       "      <th>A1Cresult</th>\n",
       "      <th>change</th>\n",
       "      <th>readmitted</th>\n",
       "    </tr>\n",
       "  </thead>\n",
       "  <tbody>\n",
       "    <tr>\n",
       "      <th>0</th>\n",
       "      <td>2278392</td>\n",
       "      <td>8222157</td>\n",
       "      <td>Caucasian</td>\n",
       "      <td>Female</td>\n",
       "      <td>[0-10)</td>\n",
       "      <td>?</td>\n",
       "      <td>6</td>\n",
       "      <td>25</td>\n",
       "      <td>1</td>\n",
       "      <td>1</td>\n",
       "      <td>?</td>\n",
       "      <td>Pediatrics-Endocrinology</td>\n",
       "      <td>250.83</td>\n",
       "      <td>?|?</td>\n",
       "      <td>0</td>\n",
       "      <td>0</td>\n",
       "      <td>0</td>\n",
       "      <td>41</td>\n",
       "      <td>1</td>\n",
       "      <td>1</td>\n",
       "      <td>0</td>\n",
       "      <td>NaN</td>\n",
       "      <td>None</td>\n",
       "      <td>None</td>\n",
       "      <td>No</td>\n",
       "      <td>NO</td>\n",
       "    </tr>\n",
       "    <tr>\n",
       "      <th>1</th>\n",
       "      <td>149190</td>\n",
       "      <td>55629189</td>\n",
       "      <td>Caucasian</td>\n",
       "      <td>Female</td>\n",
       "      <td>[10-20)</td>\n",
       "      <td>?</td>\n",
       "      <td>1</td>\n",
       "      <td>1</td>\n",
       "      <td>7</td>\n",
       "      <td>3</td>\n",
       "      <td>?</td>\n",
       "      <td>?</td>\n",
       "      <td>276</td>\n",
       "      <td>250.01|255</td>\n",
       "      <td>0</td>\n",
       "      <td>0</td>\n",
       "      <td>0</td>\n",
       "      <td>59</td>\n",
       "      <td>9</td>\n",
       "      <td>18</td>\n",
       "      <td>0</td>\n",
       "      <td>68071-1701</td>\n",
       "      <td>None</td>\n",
       "      <td>None</td>\n",
       "      <td>Ch</td>\n",
       "      <td>&gt;30</td>\n",
       "    </tr>\n",
       "    <tr>\n",
       "      <th>2</th>\n",
       "      <td>64410</td>\n",
       "      <td>86047875</td>\n",
       "      <td>AfricanAmerican</td>\n",
       "      <td>Female</td>\n",
       "      <td>[20-30)</td>\n",
       "      <td>?</td>\n",
       "      <td>1</td>\n",
       "      <td>1</td>\n",
       "      <td>7</td>\n",
       "      <td>2</td>\n",
       "      <td>?</td>\n",
       "      <td>?</td>\n",
       "      <td>648</td>\n",
       "      <td>250|V27</td>\n",
       "      <td>2</td>\n",
       "      <td>1</td>\n",
       "      <td>0</td>\n",
       "      <td>11</td>\n",
       "      <td>6</td>\n",
       "      <td>13</td>\n",
       "      <td>5</td>\n",
       "      <td>0378-1110</td>\n",
       "      <td>None</td>\n",
       "      <td>None</td>\n",
       "      <td>No</td>\n",
       "      <td>NO</td>\n",
       "    </tr>\n",
       "    <tr>\n",
       "      <th>3</th>\n",
       "      <td>500364</td>\n",
       "      <td>82442376</td>\n",
       "      <td>Caucasian</td>\n",
       "      <td>Male</td>\n",
       "      <td>[30-40)</td>\n",
       "      <td>?</td>\n",
       "      <td>1</td>\n",
       "      <td>1</td>\n",
       "      <td>7</td>\n",
       "      <td>2</td>\n",
       "      <td>?</td>\n",
       "      <td>?</td>\n",
       "      <td>8</td>\n",
       "      <td>250.43|403</td>\n",
       "      <td>0</td>\n",
       "      <td>0</td>\n",
       "      <td>0</td>\n",
       "      <td>44</td>\n",
       "      <td>7</td>\n",
       "      <td>16</td>\n",
       "      <td>1</td>\n",
       "      <td>68071-1701</td>\n",
       "      <td>None</td>\n",
       "      <td>None</td>\n",
       "      <td>Ch</td>\n",
       "      <td>NO</td>\n",
       "    </tr>\n",
       "    <tr>\n",
       "      <th>4</th>\n",
       "      <td>16680</td>\n",
       "      <td>42519267</td>\n",
       "      <td>Caucasian</td>\n",
       "      <td>Male</td>\n",
       "      <td>[40-50)</td>\n",
       "      <td>?</td>\n",
       "      <td>1</td>\n",
       "      <td>1</td>\n",
       "      <td>7</td>\n",
       "      <td>1</td>\n",
       "      <td>?</td>\n",
       "      <td>?</td>\n",
       "      <td>197</td>\n",
       "      <td>157|250</td>\n",
       "      <td>0</td>\n",
       "      <td>0</td>\n",
       "      <td>0</td>\n",
       "      <td>51</td>\n",
       "      <td>5</td>\n",
       "      <td>8</td>\n",
       "      <td>0</td>\n",
       "      <td>0049-4110</td>\n",
       "      <td>None</td>\n",
       "      <td>None</td>\n",
       "      <td>Ch</td>\n",
       "      <td>NO</td>\n",
       "    </tr>\n",
       "  </tbody>\n",
       "</table>\n",
       "</div>"
      ],
      "text/plain": [
       "   encounter_id  patient_nbr             race  gender      age weight  \\\n",
       "0       2278392      8222157        Caucasian  Female   [0-10)      ?   \n",
       "1        149190     55629189        Caucasian  Female  [10-20)      ?   \n",
       "2         64410     86047875  AfricanAmerican  Female  [20-30)      ?   \n",
       "3        500364     82442376        Caucasian    Male  [30-40)      ?   \n",
       "4         16680     42519267        Caucasian    Male  [40-50)      ?   \n",
       "\n",
       "   admission_type_id  discharge_disposition_id  admission_source_id  \\\n",
       "0                  6                        25                    1   \n",
       "1                  1                         1                    7   \n",
       "2                  1                         1                    7   \n",
       "3                  1                         1                    7   \n",
       "4                  1                         1                    7   \n",
       "\n",
       "   time_in_hospital payer_code         medical_specialty  \\\n",
       "0                 1          ?  Pediatrics-Endocrinology   \n",
       "1                 3          ?                         ?   \n",
       "2                 2          ?                         ?   \n",
       "3                 2          ?                         ?   \n",
       "4                 1          ?                         ?   \n",
       "\n",
       "  primary_diagnosis_code other_diagnosis_codes  number_outpatient  \\\n",
       "0                 250.83                   ?|?                  0   \n",
       "1                    276            250.01|255                  0   \n",
       "2                    648               250|V27                  2   \n",
       "3                      8            250.43|403                  0   \n",
       "4                    197               157|250                  0   \n",
       "\n",
       "   number_inpatient  number_emergency  num_lab_procedures  number_diagnoses  \\\n",
       "0                 0                 0                  41                 1   \n",
       "1                 0                 0                  59                 9   \n",
       "2                 1                 0                  11                 6   \n",
       "3                 0                 0                  44                 7   \n",
       "4                 0                 0                  51                 5   \n",
       "\n",
       "   num_medications  num_procedures    ndc_code max_glu_serum A1Cresult change  \\\n",
       "0                1               0         NaN          None      None     No   \n",
       "1               18               0  68071-1701          None      None     Ch   \n",
       "2               13               5   0378-1110          None      None     No   \n",
       "3               16               1  68071-1701          None      None     Ch   \n",
       "4                8               0   0049-4110          None      None     Ch   \n",
       "\n",
       "  readmitted  \n",
       "0         NO  \n",
       "1        >30  \n",
       "2         NO  \n",
       "3         NO  \n",
       "4         NO  "
      ]
     },
     "execution_count": 4,
     "metadata": {},
     "output_type": "execute_result"
    }
   ],
   "source": [
    "df.head()"
   ]
  },
  {
   "cell_type": "code",
   "execution_count": 5,
   "metadata": {},
   "outputs": [
    {
     "data": {
      "text/html": [
       "<div>\n",
       "<style scoped>\n",
       "    .dataframe tbody tr th:only-of-type {\n",
       "        vertical-align: middle;\n",
       "    }\n",
       "\n",
       "    .dataframe tbody tr th {\n",
       "        vertical-align: top;\n",
       "    }\n",
       "\n",
       "    .dataframe thead th {\n",
       "        text-align: right;\n",
       "    }\n",
       "</style>\n",
       "<table border=\"1\" class=\"dataframe\">\n",
       "  <thead>\n",
       "    <tr style=\"text-align: right;\">\n",
       "      <th></th>\n",
       "      <th>count</th>\n",
       "      <th>mean</th>\n",
       "      <th>std</th>\n",
       "      <th>min</th>\n",
       "      <th>25%</th>\n",
       "      <th>50%</th>\n",
       "      <th>75%</th>\n",
       "      <th>max</th>\n",
       "    </tr>\n",
       "  </thead>\n",
       "  <tbody>\n",
       "    <tr>\n",
       "      <th>encounter_id</th>\n",
       "      <td>143424.0</td>\n",
       "      <td>1.674290e+08</td>\n",
       "      <td>1.019046e+08</td>\n",
       "      <td>12522.0</td>\n",
       "      <td>88295964.0</td>\n",
       "      <td>154763706.0</td>\n",
       "      <td>232089688.5</td>\n",
       "      <td>443867222.0</td>\n",
       "    </tr>\n",
       "    <tr>\n",
       "      <th>patient_nbr</th>\n",
       "      <td>143424.0</td>\n",
       "      <td>5.493608e+07</td>\n",
       "      <td>3.857840e+07</td>\n",
       "      <td>135.0</td>\n",
       "      <td>23572188.0</td>\n",
       "      <td>46307830.5</td>\n",
       "      <td>88236270.0</td>\n",
       "      <td>189502619.0</td>\n",
       "    </tr>\n",
       "    <tr>\n",
       "      <th>admission_type_id</th>\n",
       "      <td>143424.0</td>\n",
       "      <td>2.027694e+00</td>\n",
       "      <td>1.427585e+00</td>\n",
       "      <td>1.0</td>\n",
       "      <td>1.0</td>\n",
       "      <td>1.0</td>\n",
       "      <td>3.0</td>\n",
       "      <td>8.0</td>\n",
       "    </tr>\n",
       "    <tr>\n",
       "      <th>discharge_disposition_id</th>\n",
       "      <td>143424.0</td>\n",
       "      <td>3.655316e+00</td>\n",
       "      <td>5.219279e+00</td>\n",
       "      <td>1.0</td>\n",
       "      <td>1.0</td>\n",
       "      <td>1.0</td>\n",
       "      <td>3.0</td>\n",
       "      <td>28.0</td>\n",
       "    </tr>\n",
       "    <tr>\n",
       "      <th>admission_source_id</th>\n",
       "      <td>143424.0</td>\n",
       "      <td>5.701096e+00</td>\n",
       "      <td>4.064532e+00</td>\n",
       "      <td>1.0</td>\n",
       "      <td>1.0</td>\n",
       "      <td>7.0</td>\n",
       "      <td>7.0</td>\n",
       "      <td>25.0</td>\n",
       "    </tr>\n",
       "    <tr>\n",
       "      <th>time_in_hospital</th>\n",
       "      <td>143424.0</td>\n",
       "      <td>4.490190e+00</td>\n",
       "      <td>2.999667e+00</td>\n",
       "      <td>1.0</td>\n",
       "      <td>2.0</td>\n",
       "      <td>4.0</td>\n",
       "      <td>6.0</td>\n",
       "      <td>14.0</td>\n",
       "    </tr>\n",
       "    <tr>\n",
       "      <th>number_outpatient</th>\n",
       "      <td>143424.0</td>\n",
       "      <td>3.624289e-01</td>\n",
       "      <td>1.249295e+00</td>\n",
       "      <td>0.0</td>\n",
       "      <td>0.0</td>\n",
       "      <td>0.0</td>\n",
       "      <td>0.0</td>\n",
       "      <td>42.0</td>\n",
       "    </tr>\n",
       "    <tr>\n",
       "      <th>number_inpatient</th>\n",
       "      <td>143424.0</td>\n",
       "      <td>6.008548e-01</td>\n",
       "      <td>1.207934e+00</td>\n",
       "      <td>0.0</td>\n",
       "      <td>0.0</td>\n",
       "      <td>0.0</td>\n",
       "      <td>1.0</td>\n",
       "      <td>21.0</td>\n",
       "    </tr>\n",
       "    <tr>\n",
       "      <th>number_emergency</th>\n",
       "      <td>143424.0</td>\n",
       "      <td>1.950859e-01</td>\n",
       "      <td>9.204102e-01</td>\n",
       "      <td>0.0</td>\n",
       "      <td>0.0</td>\n",
       "      <td>0.0</td>\n",
       "      <td>0.0</td>\n",
       "      <td>76.0</td>\n",
       "    </tr>\n",
       "    <tr>\n",
       "      <th>num_lab_procedures</th>\n",
       "      <td>143424.0</td>\n",
       "      <td>4.325575e+01</td>\n",
       "      <td>1.965732e+01</td>\n",
       "      <td>1.0</td>\n",
       "      <td>32.0</td>\n",
       "      <td>44.0</td>\n",
       "      <td>57.0</td>\n",
       "      <td>132.0</td>\n",
       "    </tr>\n",
       "    <tr>\n",
       "      <th>number_diagnoses</th>\n",
       "      <td>143424.0</td>\n",
       "      <td>7.424434e+00</td>\n",
       "      <td>1.924872e+00</td>\n",
       "      <td>1.0</td>\n",
       "      <td>6.0</td>\n",
       "      <td>8.0</td>\n",
       "      <td>9.0</td>\n",
       "      <td>16.0</td>\n",
       "    </tr>\n",
       "    <tr>\n",
       "      <th>num_medications</th>\n",
       "      <td>143424.0</td>\n",
       "      <td>1.677603e+01</td>\n",
       "      <td>8.397130e+00</td>\n",
       "      <td>1.0</td>\n",
       "      <td>11.0</td>\n",
       "      <td>15.0</td>\n",
       "      <td>21.0</td>\n",
       "      <td>81.0</td>\n",
       "    </tr>\n",
       "    <tr>\n",
       "      <th>num_procedures</th>\n",
       "      <td>143424.0</td>\n",
       "      <td>1.349021e+00</td>\n",
       "      <td>1.719104e+00</td>\n",
       "      <td>0.0</td>\n",
       "      <td>0.0</td>\n",
       "      <td>1.0</td>\n",
       "      <td>2.0</td>\n",
       "      <td>6.0</td>\n",
       "    </tr>\n",
       "  </tbody>\n",
       "</table>\n",
       "</div>"
      ],
      "text/plain": [
       "                             count          mean           std      min  \\\n",
       "encounter_id              143424.0  1.674290e+08  1.019046e+08  12522.0   \n",
       "patient_nbr               143424.0  5.493608e+07  3.857840e+07    135.0   \n",
       "admission_type_id         143424.0  2.027694e+00  1.427585e+00      1.0   \n",
       "discharge_disposition_id  143424.0  3.655316e+00  5.219279e+00      1.0   \n",
       "admission_source_id       143424.0  5.701096e+00  4.064532e+00      1.0   \n",
       "time_in_hospital          143424.0  4.490190e+00  2.999667e+00      1.0   \n",
       "number_outpatient         143424.0  3.624289e-01  1.249295e+00      0.0   \n",
       "number_inpatient          143424.0  6.008548e-01  1.207934e+00      0.0   \n",
       "number_emergency          143424.0  1.950859e-01  9.204102e-01      0.0   \n",
       "num_lab_procedures        143424.0  4.325575e+01  1.965732e+01      1.0   \n",
       "number_diagnoses          143424.0  7.424434e+00  1.924872e+00      1.0   \n",
       "num_medications           143424.0  1.677603e+01  8.397130e+00      1.0   \n",
       "num_procedures            143424.0  1.349021e+00  1.719104e+00      0.0   \n",
       "\n",
       "                                 25%          50%          75%          max  \n",
       "encounter_id              88295964.0  154763706.0  232089688.5  443867222.0  \n",
       "patient_nbr               23572188.0   46307830.5   88236270.0  189502619.0  \n",
       "admission_type_id                1.0          1.0          3.0          8.0  \n",
       "discharge_disposition_id         1.0          1.0          3.0         28.0  \n",
       "admission_source_id              1.0          7.0          7.0         25.0  \n",
       "time_in_hospital                 2.0          4.0          6.0         14.0  \n",
       "number_outpatient                0.0          0.0          0.0         42.0  \n",
       "number_inpatient                 0.0          0.0          1.0         21.0  \n",
       "number_emergency                 0.0          0.0          0.0         76.0  \n",
       "num_lab_procedures              32.0         44.0         57.0        132.0  \n",
       "number_diagnoses                 6.0          8.0          9.0         16.0  \n",
       "num_medications                 11.0         15.0         21.0         81.0  \n",
       "num_procedures                   0.0          1.0          2.0          6.0  "
      ]
     },
     "execution_count": 5,
     "metadata": {},
     "output_type": "execute_result"
    }
   ],
   "source": [
    "df.describe().transpose()"
   ]
  },
  {
   "cell_type": "code",
   "execution_count": 6,
   "metadata": {},
   "outputs": [
    {
     "data": {
      "text/plain": [
       "Index(['encounter_id', 'patient_nbr', 'race', 'gender', 'age', 'weight',\n",
       "       'admission_type_id', 'discharge_disposition_id', 'admission_source_id',\n",
       "       'time_in_hospital', 'payer_code', 'medical_specialty',\n",
       "       'primary_diagnosis_code', 'other_diagnosis_codes', 'number_outpatient',\n",
       "       'number_inpatient', 'number_emergency', 'num_lab_procedures',\n",
       "       'number_diagnoses', 'num_medications', 'num_procedures', 'ndc_code',\n",
       "       'max_glu_serum', 'A1Cresult', 'change', 'readmitted'],\n",
       "      dtype='object')"
      ]
     },
     "execution_count": 6,
     "metadata": {},
     "output_type": "execute_result"
    }
   ],
   "source": [
    "df.columns"
   ]
  },
  {
   "cell_type": "code",
   "execution_count": 7,
   "metadata": {},
   "outputs": [],
   "source": [
    "d1 = pd.DataFrame({'Total lines(Records)': [df.shape[0]], \n",
    "                   'Unique Encounter Count' : [df['encounter_id'].nunique()],\n",
    "                   'Unique Patient Count' : [df['patient_nbr'].nunique()]})"
   ]
  },
  {
   "cell_type": "code",
   "execution_count": 8,
   "metadata": {},
   "outputs": [
    {
     "data": {
      "text/html": [
       "<div>\n",
       "<style scoped>\n",
       "    .dataframe tbody tr th:only-of-type {\n",
       "        vertical-align: middle;\n",
       "    }\n",
       "\n",
       "    .dataframe tbody tr th {\n",
       "        vertical-align: top;\n",
       "    }\n",
       "\n",
       "    .dataframe thead th {\n",
       "        text-align: right;\n",
       "    }\n",
       "</style>\n",
       "<table border=\"1\" class=\"dataframe\">\n",
       "  <thead>\n",
       "    <tr style=\"text-align: right;\">\n",
       "      <th></th>\n",
       "      <th>Total lines(Records)</th>\n",
       "      <th>Unique Encounter Count</th>\n",
       "      <th>Unique Patient Count</th>\n",
       "    </tr>\n",
       "  </thead>\n",
       "  <tbody>\n",
       "    <tr>\n",
       "      <th>0</th>\n",
       "      <td>143424</td>\n",
       "      <td>101766</td>\n",
       "      <td>71518</td>\n",
       "    </tr>\n",
       "  </tbody>\n",
       "</table>\n",
       "</div>"
      ],
      "text/plain": [
       "   Total lines(Records)  Unique Encounter Count  Unique Patient Count\n",
       "0                143424                  101766                 71518"
      ]
     },
     "execution_count": 8,
     "metadata": {},
     "output_type": "execute_result"
    }
   ],
   "source": [
    "d1"
   ]
  },
  {
   "cell_type": "markdown",
   "metadata": {},
   "source": [
    "**Question 1**: Based off of analysis of the data, what level is this dataset? Is it at the line or encounter level? Are there any key fields besides the encounter_id and patient_nbr fields that we should use to aggregate on? Knowing this information will help inform us what level of aggregation is necessary for future steps and is a step that is often overlooked. "
   ]
  },
  {
   "cell_type": "markdown",
   "metadata": {},
   "source": [
    "Student Response: As we can see from above analysis , Total Records count(Lines Count) in the dataset is higher than unique encounter record counts and unique patient counts.  Therefore, dataset is at line level.  \n"
   ]
  },
  {
   "cell_type": "markdown",
   "metadata": {},
   "source": [
    "## Analyze Dataset"
   ]
  },
  {
   "cell_type": "markdown",
   "metadata": {},
   "source": [
    "**Question 2**: Utilizing the library of your choice (recommend Pandas and Seaborn or matplotlib though), perform exploratory data analysis on the dataset. In particular be sure to address the following questions:  \n",
    "    - a. Field(s) with high amount of missing/zero values\n",
    "    - b. Based off the frequency histogram for each numerical field, which numerical field(s) has/have a Gaussian(normal) distribution shape?\n",
    "    - c. Which field(s) have high cardinality and why (HINT: ndc_code is one feature)\n",
    "    - d. Please describe the demographic distributions in the dataset for the age and gender fields. "
   ]
  },
  {
   "cell_type": "markdown",
   "metadata": {},
   "source": [
    "Response to point a :\n",
    "1.  Only NDC column has null values.  There are 23462 NULL values for NDC code.\n",
    "2.  Following columns : number_outpatient, number_inpatient,number_emergency, num_procedures have zero values.  This is \n",
    "    expected values since few patients may not have inpatient, outpatient or emergency visits in the past.\n",
    "\n",
    "Response to point b :\n",
    "1.  Based on SNS distribution plot (as shown in below analysis),  there are no data elements which has true gaussian\n",
    "    distribution although \"num_lab_procedures\" follows somewhat gaussian distribution.\n",
    "\n",
    "Response to point c :  \n",
    "Below are top 3 categorical columns with highest cardinality.  It make sense that these fields have high cardanality since patients can multiple codes ( primary, principal, secondary,medication codes) for multiple encounters - as part of overall patient history.  Also, there are thousands of ICD10-CM and NDC codes exists in health care systems. \n",
    "1)  other_diagnosis_codes : 19374\n",
    "2)  primary_diagnosis_code : 717\n",
    "3)  ndc_code : 251\n",
    "\n",
    "Response to point d :\n",
    "1)  Age and Gender distribution is shown below.\n",
    "2)  As we can see from Age distribution, Top 3 Age bins are : 70-80, 60-70 & 50-60.  \n",
    "3)  Based on Gender distribution,  there are more female patients in this dataset as compared to Male patients.\n"
   ]
  },
  {
   "cell_type": "code",
   "execution_count": 9,
   "metadata": {},
   "outputs": [],
   "source": [
    "# Find Null values, Zeros values and Cardanility for each columns in the dataframe (df)\n",
    "d2 = pd.DataFrame(  {'Column Name':df.columns,\n",
    "                    'Null Value Count': df.isnull().sum(),\n",
    "                    'Null Value Count(%)': df.isnull().sum()*100/len(df),\n",
    "                    'Zero Value Count': df.isin([0]).sum(),\n",
    "                    'Zero Value Count(%)': df.isin([0]).sum()*100/len(df),\n",
    "                    'Cardinality' : df.nunique()\n",
    "                  })"
   ]
  },
  {
   "cell_type": "code",
   "execution_count": 10,
   "metadata": {},
   "outputs": [
    {
     "data": {
      "text/html": [
       "<div>\n",
       "<style scoped>\n",
       "    .dataframe tbody tr th:only-of-type {\n",
       "        vertical-align: middle;\n",
       "    }\n",
       "\n",
       "    .dataframe tbody tr th {\n",
       "        vertical-align: top;\n",
       "    }\n",
       "\n",
       "    .dataframe thead th {\n",
       "        text-align: right;\n",
       "    }\n",
       "</style>\n",
       "<table border=\"1\" class=\"dataframe\">\n",
       "  <thead>\n",
       "    <tr style=\"text-align: right;\">\n",
       "      <th></th>\n",
       "      <th>Column Name</th>\n",
       "      <th>Null Value Count</th>\n",
       "      <th>Null Value Count(%)</th>\n",
       "      <th>Zero Value Count</th>\n",
       "      <th>Zero Value Count(%)</th>\n",
       "      <th>Cardinality</th>\n",
       "    </tr>\n",
       "  </thead>\n",
       "  <tbody>\n",
       "    <tr>\n",
       "      <th>encounter_id</th>\n",
       "      <td>encounter_id</td>\n",
       "      <td>0</td>\n",
       "      <td>0.00000</td>\n",
       "      <td>0</td>\n",
       "      <td>0.000000</td>\n",
       "      <td>101766</td>\n",
       "    </tr>\n",
       "    <tr>\n",
       "      <th>patient_nbr</th>\n",
       "      <td>patient_nbr</td>\n",
       "      <td>0</td>\n",
       "      <td>0.00000</td>\n",
       "      <td>0</td>\n",
       "      <td>0.000000</td>\n",
       "      <td>71518</td>\n",
       "    </tr>\n",
       "    <tr>\n",
       "      <th>race</th>\n",
       "      <td>race</td>\n",
       "      <td>0</td>\n",
       "      <td>0.00000</td>\n",
       "      <td>0</td>\n",
       "      <td>0.000000</td>\n",
       "      <td>6</td>\n",
       "    </tr>\n",
       "    <tr>\n",
       "      <th>gender</th>\n",
       "      <td>gender</td>\n",
       "      <td>0</td>\n",
       "      <td>0.00000</td>\n",
       "      <td>0</td>\n",
       "      <td>0.000000</td>\n",
       "      <td>3</td>\n",
       "    </tr>\n",
       "    <tr>\n",
       "      <th>age</th>\n",
       "      <td>age</td>\n",
       "      <td>0</td>\n",
       "      <td>0.00000</td>\n",
       "      <td>0</td>\n",
       "      <td>0.000000</td>\n",
       "      <td>10</td>\n",
       "    </tr>\n",
       "    <tr>\n",
       "      <th>weight</th>\n",
       "      <td>weight</td>\n",
       "      <td>0</td>\n",
       "      <td>0.00000</td>\n",
       "      <td>0</td>\n",
       "      <td>0.000000</td>\n",
       "      <td>10</td>\n",
       "    </tr>\n",
       "    <tr>\n",
       "      <th>admission_type_id</th>\n",
       "      <td>admission_type_id</td>\n",
       "      <td>0</td>\n",
       "      <td>0.00000</td>\n",
       "      <td>0</td>\n",
       "      <td>0.000000</td>\n",
       "      <td>8</td>\n",
       "    </tr>\n",
       "    <tr>\n",
       "      <th>discharge_disposition_id</th>\n",
       "      <td>discharge_disposition_id</td>\n",
       "      <td>0</td>\n",
       "      <td>0.00000</td>\n",
       "      <td>0</td>\n",
       "      <td>0.000000</td>\n",
       "      <td>26</td>\n",
       "    </tr>\n",
       "    <tr>\n",
       "      <th>admission_source_id</th>\n",
       "      <td>admission_source_id</td>\n",
       "      <td>0</td>\n",
       "      <td>0.00000</td>\n",
       "      <td>0</td>\n",
       "      <td>0.000000</td>\n",
       "      <td>17</td>\n",
       "    </tr>\n",
       "    <tr>\n",
       "      <th>time_in_hospital</th>\n",
       "      <td>time_in_hospital</td>\n",
       "      <td>0</td>\n",
       "      <td>0.00000</td>\n",
       "      <td>0</td>\n",
       "      <td>0.000000</td>\n",
       "      <td>14</td>\n",
       "    </tr>\n",
       "    <tr>\n",
       "      <th>payer_code</th>\n",
       "      <td>payer_code</td>\n",
       "      <td>0</td>\n",
       "      <td>0.00000</td>\n",
       "      <td>0</td>\n",
       "      <td>0.000000</td>\n",
       "      <td>18</td>\n",
       "    </tr>\n",
       "    <tr>\n",
       "      <th>medical_specialty</th>\n",
       "      <td>medical_specialty</td>\n",
       "      <td>0</td>\n",
       "      <td>0.00000</td>\n",
       "      <td>0</td>\n",
       "      <td>0.000000</td>\n",
       "      <td>73</td>\n",
       "    </tr>\n",
       "    <tr>\n",
       "      <th>primary_diagnosis_code</th>\n",
       "      <td>primary_diagnosis_code</td>\n",
       "      <td>0</td>\n",
       "      <td>0.00000</td>\n",
       "      <td>0</td>\n",
       "      <td>0.000000</td>\n",
       "      <td>717</td>\n",
       "    </tr>\n",
       "    <tr>\n",
       "      <th>other_diagnosis_codes</th>\n",
       "      <td>other_diagnosis_codes</td>\n",
       "      <td>0</td>\n",
       "      <td>0.00000</td>\n",
       "      <td>0</td>\n",
       "      <td>0.000000</td>\n",
       "      <td>19374</td>\n",
       "    </tr>\n",
       "    <tr>\n",
       "      <th>number_outpatient</th>\n",
       "      <td>number_outpatient</td>\n",
       "      <td>0</td>\n",
       "      <td>0.00000</td>\n",
       "      <td>120027</td>\n",
       "      <td>83.686831</td>\n",
       "      <td>39</td>\n",
       "    </tr>\n",
       "    <tr>\n",
       "      <th>number_inpatient</th>\n",
       "      <td>number_inpatient</td>\n",
       "      <td>0</td>\n",
       "      <td>0.00000</td>\n",
       "      <td>96698</td>\n",
       "      <td>67.421073</td>\n",
       "      <td>21</td>\n",
       "    </tr>\n",
       "    <tr>\n",
       "      <th>number_emergency</th>\n",
       "      <td>number_emergency</td>\n",
       "      <td>0</td>\n",
       "      <td>0.00000</td>\n",
       "      <td>127444</td>\n",
       "      <td>88.858211</td>\n",
       "      <td>33</td>\n",
       "    </tr>\n",
       "    <tr>\n",
       "      <th>num_lab_procedures</th>\n",
       "      <td>num_lab_procedures</td>\n",
       "      <td>0</td>\n",
       "      <td>0.00000</td>\n",
       "      <td>0</td>\n",
       "      <td>0.000000</td>\n",
       "      <td>118</td>\n",
       "    </tr>\n",
       "    <tr>\n",
       "      <th>number_diagnoses</th>\n",
       "      <td>number_diagnoses</td>\n",
       "      <td>0</td>\n",
       "      <td>0.00000</td>\n",
       "      <td>0</td>\n",
       "      <td>0.000000</td>\n",
       "      <td>16</td>\n",
       "    </tr>\n",
       "    <tr>\n",
       "      <th>num_medications</th>\n",
       "      <td>num_medications</td>\n",
       "      <td>0</td>\n",
       "      <td>0.00000</td>\n",
       "      <td>0</td>\n",
       "      <td>0.000000</td>\n",
       "      <td>75</td>\n",
       "    </tr>\n",
       "    <tr>\n",
       "      <th>num_procedures</th>\n",
       "      <td>num_procedures</td>\n",
       "      <td>0</td>\n",
       "      <td>0.00000</td>\n",
       "      <td>65788</td>\n",
       "      <td>45.869589</td>\n",
       "      <td>7</td>\n",
       "    </tr>\n",
       "    <tr>\n",
       "      <th>ndc_code</th>\n",
       "      <td>ndc_code</td>\n",
       "      <td>23462</td>\n",
       "      <td>16.35849</td>\n",
       "      <td>0</td>\n",
       "      <td>0.000000</td>\n",
       "      <td>251</td>\n",
       "    </tr>\n",
       "    <tr>\n",
       "      <th>max_glu_serum</th>\n",
       "      <td>max_glu_serum</td>\n",
       "      <td>0</td>\n",
       "      <td>0.00000</td>\n",
       "      <td>0</td>\n",
       "      <td>0.000000</td>\n",
       "      <td>4</td>\n",
       "    </tr>\n",
       "    <tr>\n",
       "      <th>A1Cresult</th>\n",
       "      <td>A1Cresult</td>\n",
       "      <td>0</td>\n",
       "      <td>0.00000</td>\n",
       "      <td>0</td>\n",
       "      <td>0.000000</td>\n",
       "      <td>4</td>\n",
       "    </tr>\n",
       "    <tr>\n",
       "      <th>change</th>\n",
       "      <td>change</td>\n",
       "      <td>0</td>\n",
       "      <td>0.00000</td>\n",
       "      <td>0</td>\n",
       "      <td>0.000000</td>\n",
       "      <td>2</td>\n",
       "    </tr>\n",
       "    <tr>\n",
       "      <th>readmitted</th>\n",
       "      <td>readmitted</td>\n",
       "      <td>0</td>\n",
       "      <td>0.00000</td>\n",
       "      <td>0</td>\n",
       "      <td>0.000000</td>\n",
       "      <td>3</td>\n",
       "    </tr>\n",
       "  </tbody>\n",
       "</table>\n",
       "</div>"
      ],
      "text/plain": [
       "                                       Column Name  Null Value Count  \\\n",
       "encounter_id                          encounter_id                 0   \n",
       "patient_nbr                            patient_nbr                 0   \n",
       "race                                          race                 0   \n",
       "gender                                      gender                 0   \n",
       "age                                            age                 0   \n",
       "weight                                      weight                 0   \n",
       "admission_type_id                admission_type_id                 0   \n",
       "discharge_disposition_id  discharge_disposition_id                 0   \n",
       "admission_source_id            admission_source_id                 0   \n",
       "time_in_hospital                  time_in_hospital                 0   \n",
       "payer_code                              payer_code                 0   \n",
       "medical_specialty                medical_specialty                 0   \n",
       "primary_diagnosis_code      primary_diagnosis_code                 0   \n",
       "other_diagnosis_codes        other_diagnosis_codes                 0   \n",
       "number_outpatient                number_outpatient                 0   \n",
       "number_inpatient                  number_inpatient                 0   \n",
       "number_emergency                  number_emergency                 0   \n",
       "num_lab_procedures              num_lab_procedures                 0   \n",
       "number_diagnoses                  number_diagnoses                 0   \n",
       "num_medications                    num_medications                 0   \n",
       "num_procedures                      num_procedures                 0   \n",
       "ndc_code                                  ndc_code             23462   \n",
       "max_glu_serum                        max_glu_serum                 0   \n",
       "A1Cresult                                A1Cresult                 0   \n",
       "change                                      change                 0   \n",
       "readmitted                              readmitted                 0   \n",
       "\n",
       "                          Null Value Count(%)  Zero Value Count  \\\n",
       "encounter_id                          0.00000                 0   \n",
       "patient_nbr                           0.00000                 0   \n",
       "race                                  0.00000                 0   \n",
       "gender                                0.00000                 0   \n",
       "age                                   0.00000                 0   \n",
       "weight                                0.00000                 0   \n",
       "admission_type_id                     0.00000                 0   \n",
       "discharge_disposition_id              0.00000                 0   \n",
       "admission_source_id                   0.00000                 0   \n",
       "time_in_hospital                      0.00000                 0   \n",
       "payer_code                            0.00000                 0   \n",
       "medical_specialty                     0.00000                 0   \n",
       "primary_diagnosis_code                0.00000                 0   \n",
       "other_diagnosis_codes                 0.00000                 0   \n",
       "number_outpatient                     0.00000            120027   \n",
       "number_inpatient                      0.00000             96698   \n",
       "number_emergency                      0.00000            127444   \n",
       "num_lab_procedures                    0.00000                 0   \n",
       "number_diagnoses                      0.00000                 0   \n",
       "num_medications                       0.00000                 0   \n",
       "num_procedures                        0.00000             65788   \n",
       "ndc_code                             16.35849                 0   \n",
       "max_glu_serum                         0.00000                 0   \n",
       "A1Cresult                             0.00000                 0   \n",
       "change                                0.00000                 0   \n",
       "readmitted                            0.00000                 0   \n",
       "\n",
       "                          Zero Value Count(%)  Cardinality  \n",
       "encounter_id                         0.000000       101766  \n",
       "patient_nbr                          0.000000        71518  \n",
       "race                                 0.000000            6  \n",
       "gender                               0.000000            3  \n",
       "age                                  0.000000           10  \n",
       "weight                               0.000000           10  \n",
       "admission_type_id                    0.000000            8  \n",
       "discharge_disposition_id             0.000000           26  \n",
       "admission_source_id                  0.000000           17  \n",
       "time_in_hospital                     0.000000           14  \n",
       "payer_code                           0.000000           18  \n",
       "medical_specialty                    0.000000           73  \n",
       "primary_diagnosis_code               0.000000          717  \n",
       "other_diagnosis_codes                0.000000        19374  \n",
       "number_outpatient                   83.686831           39  \n",
       "number_inpatient                    67.421073           21  \n",
       "number_emergency                    88.858211           33  \n",
       "num_lab_procedures                   0.000000          118  \n",
       "number_diagnoses                     0.000000           16  \n",
       "num_medications                      0.000000           75  \n",
       "num_procedures                      45.869589            7  \n",
       "ndc_code                             0.000000          251  \n",
       "max_glu_serum                        0.000000            4  \n",
       "A1Cresult                            0.000000            4  \n",
       "change                               0.000000            2  \n",
       "readmitted                           0.000000            3  "
      ]
     },
     "execution_count": 10,
     "metadata": {},
     "output_type": "execute_result"
    }
   ],
   "source": [
    "d2"
   ]
  },
  {
   "cell_type": "code",
   "execution_count": 11,
   "metadata": {},
   "outputs": [],
   "source": [
    "# Identify Numeric columns in the dataframe(df)\n",
    "Numeric_Columns = df.select_dtypes(include=[\"float\", 'int']).columns\n",
    "Categorical_Columns = df.select_dtypes(exclude=[\"float\", 'int']).columns"
   ]
  },
  {
   "cell_type": "code",
   "execution_count": 12,
   "metadata": {},
   "outputs": [
    {
     "data": {
      "text/plain": [
       "Index(['encounter_id', 'patient_nbr', 'admission_type_id',\n",
       "       'discharge_disposition_id', 'admission_source_id', 'time_in_hospital',\n",
       "       'number_outpatient', 'number_inpatient', 'number_emergency',\n",
       "       'num_lab_procedures', 'number_diagnoses', 'num_medications',\n",
       "       'num_procedures'],\n",
       "      dtype='object')"
      ]
     },
     "execution_count": 12,
     "metadata": {},
     "output_type": "execute_result"
    }
   ],
   "source": [
    "# List of numeric columns in the dataframe(df)\n",
    "Numeric_Columns"
   ]
  },
  {
   "cell_type": "code",
   "execution_count": 13,
   "metadata": {},
   "outputs": [
    {
     "data": {
      "text/plain": [
       "Index(['race', 'gender', 'age', 'weight', 'payer_code', 'medical_specialty',\n",
       "       'primary_diagnosis_code', 'other_diagnosis_codes', 'ndc_code',\n",
       "       'max_glu_serum', 'A1Cresult', 'change', 'readmitted'],\n",
       "      dtype='object')"
      ]
     },
     "execution_count": 13,
     "metadata": {},
     "output_type": "execute_result"
    }
   ],
   "source": [
    "# List of categorical columns in the dataframe(df)\n",
    "Categorical_Columns"
   ]
  },
  {
   "cell_type": "code",
   "execution_count": 14,
   "metadata": {},
   "outputs": [
    {
     "name": "stdout",
     "output_type": "stream",
     "text": [
      "encounter_id - Distribution Plot\n"
     ]
    },
    {
     "data": {
      "image/png": "[encoded data removed]",
      "text/plain": [
       "<Figure size 432x288 with 1 Axes>"
      ]
     },
     "metadata": {
      "needs_background": "light"
     },
     "output_type": "display_data"
    },
    {
     "name": "stdout",
     "output_type": "stream",
     "text": [
      "patient_nbr - Distribution Plot\n"
     ]
    },
    {
     "data": {
      "image/png": "[encoded data removed]",
      "text/plain": [
       "<Figure size 432x288 with 1 Axes>"
      ]
     },
     "metadata": {
      "needs_background": "light"
     },
     "output_type": "display_data"
    },
    {
     "name": "stdout",
     "output_type": "stream",
     "text": [
      "admission_type_id - Distribution Plot\n"
     ]
    },
    {
     "data": {
      "image/png": "[encoded data removed]",
      "text/plain": [
       "<Figure size 432x288 with 1 Axes>"
      ]
     },
     "metadata": {
      "needs_background": "light"
     },
     "output_type": "display_data"
    },
    {
     "name": "stdout",
     "output_type": "stream",
     "text": [
      "discharge_disposition_id - Distribution Plot\n"
     ]
    },
    {
     "data": {
      "image/png": "[encoded data removed]",
      "text/plain": [
       "<Figure size 432x288 with 1 Axes>"
      ]
     },
     "metadata": {
      "needs_background": "light"
     },
     "output_type": "display_data"
    },
    {
     "name": "stdout",
     "output_type": "stream",
     "text": [
      "admission_source_id - Distribution Plot\n"
     ]
    },
    {
     "data": {
      "image/png": "[encoded data removed]",
      "text/plain": [
       "<Figure size 432x288 with 1 Axes>"
      ]
     },
     "metadata": {
      "needs_background": "light"
     },
     "output_type": "display_data"
    },
    {
     "name": "stdout",
     "output_type": "stream",
     "text": [
      "time_in_hospital - Distribution Plot\n"
     ]
    },
    {
     "data": {
      "image/png": "[encoded data removed]",
      "text/plain": [
       "<Figure size 432x288 with 1 Axes>"
      ]
     },
     "metadata": {
      "needs_background": "light"
     },
     "output_type": "display_data"
    },
    {
     "name": "stdout",
     "output_type": "stream",
     "text": [
      "number_outpatient - Distribution Plot\n"
     ]
    },
    {
     "data": {
      "image/png": "[encoded data removed]",
      "text/plain": [
       "<Figure size 432x288 with 1 Axes>"
      ]
     },
     "metadata": {
      "needs_background": "light"
     },
     "output_type": "display_data"
    },
    {
     "name": "stdout",
     "output_type": "stream",
     "text": [
      "number_inpatient - Distribution Plot\n"
     ]
    },
    {
     "data": {
      "image/png": "[encoded data removed]",
      "text/plain": [
       "<Figure size 432x288 with 1 Axes>"
      ]
     },
     "metadata": {
      "needs_background": "light"
     },
     "output_type": "display_data"
    },
    {
     "name": "stdout",
     "output_type": "stream",
     "text": [
      "number_emergency - Distribution Plot\n"
     ]
    },
    {
     "data": {
      "image/png": "[encoded data removed]",
      "text/plain": [
       "<Figure size 432x288 with 1 Axes>"
      ]
     },
     "metadata": {
      "needs_background": "light"
     },
     "output_type": "display_data"
    },
    {
     "name": "stdout",
     "output_type": "stream",
     "text": [
      "num_lab_procedures - Distribution Plot\n"
     ]
    },
    {
     "data": {
      "image/png": "[encoded data removed]",
      "text/plain": [
       "<Figure size 432x288 with 1 Axes>"
      ]
     },
     "metadata": {
      "needs_background": "light"
     },
     "output_type": "display_data"
    },
    {
     "name": "stdout",
     "output_type": "stream",
     "text": [
      "number_diagnoses - Distribution Plot\n"
     ]
    },
    {
     "data": {
      "image/png": "[encoded data removed]",
      "text/plain": [
       "<Figure size 432x288 with 1 Axes>"
      ]
     },
     "metadata": {
      "needs_background": "light"
     },
     "output_type": "display_data"
    },
    {
     "name": "stdout",
     "output_type": "stream",
     "text": [
      "num_medications - Distribution Plot\n"
     ]
    },
    {
     "data": {
      "image/png": "[encoded data removed]",
      "text/plain": [
       "<Figure size 432x288 with 1 Axes>"
      ]
     },
     "metadata": {
      "needs_background": "light"
     },
     "output_type": "display_data"
    },
    {
     "name": "stdout",
     "output_type": "stream",
     "text": [
      "num_procedures - Distribution Plot\n"
     ]
    },
    {
     "data": {
      "image/png": "[encoded data removed]",
      "text/plain": [
       "<Figure size 432x288 with 1 Axes>"
      ]
     },
     "metadata": {
      "needs_background": "light"
     },
     "output_type": "display_data"
    }
   ],
   "source": [
    "# Build distribution plot for all numeric columns in the dataframe using SNS Distplot. \n",
    "for columns in Numeric_Columns:\n",
    "    sns.distplot(df[columns],kde=False,color='red')\n",
    "    plt.title(print('{} - Distribution Plot'.format(columns)))\n",
    "    plt.show()\n"
   ]
  },
  {
   "cell_type": "code",
   "execution_count": 15,
   "metadata": {},
   "outputs": [
    {
     "data": {
      "text/plain": [
       "Text(0.5, 1.0, 'Patient Age Distribution')"
      ]
     },
     "execution_count": 15,
     "metadata": {},
     "output_type": "execute_result"
    },
    {
     "data": {
      "image/png": "[encoded data removed]",
      "text/plain": [
       "<Figure size 432x288 with 1 Axes>"
      ]
     },
     "metadata": {
      "needs_background": "light"
     },
     "output_type": "display_data"
    }
   ],
   "source": [
    "# Age distribution.\n",
    "df['age'].value_counts().plot(kind='bar')\n",
    "plt.xlabel('Age Bins')\n",
    "plt.ylabel('Patient Count')\n",
    "plt.title('Patient Age Distribution')"
   ]
  },
  {
   "cell_type": "code",
   "execution_count": 16,
   "metadata": {},
   "outputs": [
    {
     "data": {
      "text/plain": [
       "Text(0.5, 1.0, 'Patient Gender Distribution')"
      ]
     },
     "execution_count": 16,
     "metadata": {},
     "output_type": "execute_result"
    },
    {
     "data": {
      "image/png": "[encoded data removed]",
      "text/plain": [
       "<Figure size 432x288 with 1 Axes>"
      ]
     },
     "metadata": {
      "needs_background": "light"
     },
     "output_type": "display_data"
    }
   ],
   "source": [
    "# Gender distribution \n",
    "df['gender'].value_counts().plot(kind='bar')\n",
    "plt.xlabel('Gender')\n",
    "plt.ylabel('Patient Count')\n",
    "plt.title('Patient Gender Distribution')"
   ]
  },
  {
   "cell_type": "markdown",
   "metadata": {},
   "source": [
    "**OPTIONAL**: Use the Tensorflow Data Validation and Analysis library to complete. \n",
    "- The Tensorflow Data Validation and Analysis library(https://www.tensorflow.org/tfx/data_validation/get_started) is a useful tool for analyzing and summarizing dataset statistics. It is especially useful because it can scale to large datasets that do not fit into memory. \n",
    "- Note that there are some bugs that are still being resolved with Chrome v80 and we have moved away from using this for the project. "
   ]
  },
  {
   "cell_type": "code",
   "execution_count": null,
   "metadata": {},
   "outputs": [],
   "source": [
    "######NOTE: The visualization will only display in Chrome browser. ########\n",
    "full_data_stats = tfdv.generate_statistics_from_csv(data_location='./data/final_project_dataset.csv') \n",
    "tfdv.visualize_statistics(full_data_stats)"
   ]
  },
  {
   "cell_type": "markdown",
   "metadata": {},
   "source": [
    "## Reduce Dimensionality of the NDC Code Feature"
   ]
  },
  {
   "cell_type": "markdown",
   "metadata": {},
   "source": [
    "**Question 3**: NDC codes are a common format to represent the wide variety of drugs that are prescribed for patient care in the United States. The challenge is that there are many codes that map to the same or similar drug. You are provided with the ndc drug lookup file https://github.com/udacity/nd320-c1-emr-data-starter/blob/master/project/data_schema_references/ndc_lookup_table.csv derived from the National Drug Codes List site(https://ndclist.com/). Please use this file to come up with a way to reduce the dimensionality of this field and create a new field in the dataset called \"generic_drug_name\" in the output dataframe. "
   ]
  },
  {
   "cell_type": "code",
   "execution_count": 17,
   "metadata": {},
   "outputs": [],
   "source": [
    "#NDC code lookup file\n",
    "ndc_code_path = \"./medication_lookup_tables/final_ndc_lookup_table\"\n",
    "ndc_code_df = pd.read_csv(ndc_code_path)"
   ]
  },
  {
   "cell_type": "code",
   "execution_count": 18,
   "metadata": {},
   "outputs": [],
   "source": [
    "from student_utils import reduce_dimension_ndc"
   ]
  },
  {
   "cell_type": "code",
   "execution_count": 19,
   "metadata": {},
   "outputs": [],
   "source": [
    "reduce_dim_df = reduce_dimension_ndc(df,ndc_code_df)"
   ]
  },
  {
   "cell_type": "code",
   "execution_count": 20,
   "metadata": {},
   "outputs": [
    {
     "data": {
      "text/html": [
       "<div>\n",
       "<style scoped>\n",
       "    .dataframe tbody tr th:only-of-type {\n",
       "        vertical-align: middle;\n",
       "    }\n",
       "\n",
       "    .dataframe tbody tr th {\n",
       "        vertical-align: top;\n",
       "    }\n",
       "\n",
       "    .dataframe thead th {\n",
       "        text-align: right;\n",
       "    }\n",
       "</style>\n",
       "<table border=\"1\" class=\"dataframe\">\n",
       "  <thead>\n",
       "    <tr style=\"text-align: right;\">\n",
       "      <th></th>\n",
       "      <th>encounter_id</th>\n",
       "      <th>patient_nbr</th>\n",
       "      <th>race</th>\n",
       "      <th>gender</th>\n",
       "      <th>age</th>\n",
       "      <th>weight</th>\n",
       "      <th>admission_type_id</th>\n",
       "      <th>discharge_disposition_id</th>\n",
       "      <th>admission_source_id</th>\n",
       "      <th>time_in_hospital</th>\n",
       "      <th>payer_code</th>\n",
       "      <th>medical_specialty</th>\n",
       "      <th>primary_diagnosis_code</th>\n",
       "      <th>other_diagnosis_codes</th>\n",
       "      <th>number_outpatient</th>\n",
       "      <th>number_inpatient</th>\n",
       "      <th>number_emergency</th>\n",
       "      <th>num_lab_procedures</th>\n",
       "      <th>number_diagnoses</th>\n",
       "      <th>num_medications</th>\n",
       "      <th>num_procedures</th>\n",
       "      <th>ndc_code</th>\n",
       "      <th>max_glu_serum</th>\n",
       "      <th>A1Cresult</th>\n",
       "      <th>change</th>\n",
       "      <th>readmitted</th>\n",
       "      <th>generic_drug_name</th>\n",
       "    </tr>\n",
       "  </thead>\n",
       "  <tbody>\n",
       "    <tr>\n",
       "      <th>0</th>\n",
       "      <td>149190</td>\n",
       "      <td>55629189</td>\n",
       "      <td>Caucasian</td>\n",
       "      <td>Female</td>\n",
       "      <td>[10-20)</td>\n",
       "      <td>?</td>\n",
       "      <td>1</td>\n",
       "      <td>1</td>\n",
       "      <td>7</td>\n",
       "      <td>3</td>\n",
       "      <td>?</td>\n",
       "      <td>?</td>\n",
       "      <td>276</td>\n",
       "      <td>250.01|255</td>\n",
       "      <td>0</td>\n",
       "      <td>0</td>\n",
       "      <td>0</td>\n",
       "      <td>59</td>\n",
       "      <td>9</td>\n",
       "      <td>18</td>\n",
       "      <td>0</td>\n",
       "      <td>68071-1701</td>\n",
       "      <td>None</td>\n",
       "      <td>None</td>\n",
       "      <td>Ch</td>\n",
       "      <td>&gt;30</td>\n",
       "      <td>Novolin R</td>\n",
       "    </tr>\n",
       "    <tr>\n",
       "      <th>1</th>\n",
       "      <td>500364</td>\n",
       "      <td>82442376</td>\n",
       "      <td>Caucasian</td>\n",
       "      <td>Male</td>\n",
       "      <td>[30-40)</td>\n",
       "      <td>?</td>\n",
       "      <td>1</td>\n",
       "      <td>1</td>\n",
       "      <td>7</td>\n",
       "      <td>2</td>\n",
       "      <td>?</td>\n",
       "      <td>?</td>\n",
       "      <td>8</td>\n",
       "      <td>250.43|403</td>\n",
       "      <td>0</td>\n",
       "      <td>0</td>\n",
       "      <td>0</td>\n",
       "      <td>44</td>\n",
       "      <td>7</td>\n",
       "      <td>16</td>\n",
       "      <td>1</td>\n",
       "      <td>68071-1701</td>\n",
       "      <td>None</td>\n",
       "      <td>None</td>\n",
       "      <td>Ch</td>\n",
       "      <td>NO</td>\n",
       "      <td>Novolin R</td>\n",
       "    </tr>\n",
       "    <tr>\n",
       "      <th>2</th>\n",
       "      <td>16680</td>\n",
       "      <td>42519267</td>\n",
       "      <td>Caucasian</td>\n",
       "      <td>Male</td>\n",
       "      <td>[40-50)</td>\n",
       "      <td>?</td>\n",
       "      <td>1</td>\n",
       "      <td>1</td>\n",
       "      <td>7</td>\n",
       "      <td>1</td>\n",
       "      <td>?</td>\n",
       "      <td>?</td>\n",
       "      <td>197</td>\n",
       "      <td>157|250</td>\n",
       "      <td>0</td>\n",
       "      <td>0</td>\n",
       "      <td>0</td>\n",
       "      <td>51</td>\n",
       "      <td>5</td>\n",
       "      <td>8</td>\n",
       "      <td>0</td>\n",
       "      <td>68071-1701</td>\n",
       "      <td>None</td>\n",
       "      <td>None</td>\n",
       "      <td>Ch</td>\n",
       "      <td>NO</td>\n",
       "      <td>Novolin R</td>\n",
       "    </tr>\n",
       "    <tr>\n",
       "      <th>3</th>\n",
       "      <td>15738</td>\n",
       "      <td>63555939</td>\n",
       "      <td>Caucasian</td>\n",
       "      <td>Female</td>\n",
       "      <td>[90-100)</td>\n",
       "      <td>?</td>\n",
       "      <td>3</td>\n",
       "      <td>3</td>\n",
       "      <td>4</td>\n",
       "      <td>12</td>\n",
       "      <td>?</td>\n",
       "      <td>InternalMedicine</td>\n",
       "      <td>434</td>\n",
       "      <td>198|486</td>\n",
       "      <td>0</td>\n",
       "      <td>0</td>\n",
       "      <td>0</td>\n",
       "      <td>33</td>\n",
       "      <td>8</td>\n",
       "      <td>18</td>\n",
       "      <td>3</td>\n",
       "      <td>68071-1701</td>\n",
       "      <td>None</td>\n",
       "      <td>None</td>\n",
       "      <td>Ch</td>\n",
       "      <td>NO</td>\n",
       "      <td>Novolin R</td>\n",
       "    </tr>\n",
       "    <tr>\n",
       "      <th>4</th>\n",
       "      <td>28236</td>\n",
       "      <td>89869032</td>\n",
       "      <td>AfricanAmerican</td>\n",
       "      <td>Female</td>\n",
       "      <td>[40-50)</td>\n",
       "      <td>?</td>\n",
       "      <td>1</td>\n",
       "      <td>1</td>\n",
       "      <td>7</td>\n",
       "      <td>9</td>\n",
       "      <td>?</td>\n",
       "      <td>?</td>\n",
       "      <td>250.7</td>\n",
       "      <td>403|996</td>\n",
       "      <td>0</td>\n",
       "      <td>0</td>\n",
       "      <td>0</td>\n",
       "      <td>47</td>\n",
       "      <td>9</td>\n",
       "      <td>17</td>\n",
       "      <td>2</td>\n",
       "      <td>68071-1701</td>\n",
       "      <td>None</td>\n",
       "      <td>None</td>\n",
       "      <td>No</td>\n",
       "      <td>&gt;30</td>\n",
       "      <td>Novolin R</td>\n",
       "    </tr>\n",
       "    <tr>\n",
       "      <th>...</th>\n",
       "      <td>...</td>\n",
       "      <td>...</td>\n",
       "      <td>...</td>\n",
       "      <td>...</td>\n",
       "      <td>...</td>\n",
       "      <td>...</td>\n",
       "      <td>...</td>\n",
       "      <td>...</td>\n",
       "      <td>...</td>\n",
       "      <td>...</td>\n",
       "      <td>...</td>\n",
       "      <td>...</td>\n",
       "      <td>...</td>\n",
       "      <td>...</td>\n",
       "      <td>...</td>\n",
       "      <td>...</td>\n",
       "      <td>...</td>\n",
       "      <td>...</td>\n",
       "      <td>...</td>\n",
       "      <td>...</td>\n",
       "      <td>...</td>\n",
       "      <td>...</td>\n",
       "      <td>...</td>\n",
       "      <td>...</td>\n",
       "      <td>...</td>\n",
       "      <td>...</td>\n",
       "      <td>...</td>\n",
       "    </tr>\n",
       "    <tr>\n",
       "      <th>120015</th>\n",
       "      <td>233607492</td>\n",
       "      <td>41369121</td>\n",
       "      <td>Caucasian</td>\n",
       "      <td>Female</td>\n",
       "      <td>[60-70)</td>\n",
       "      <td>?</td>\n",
       "      <td>1</td>\n",
       "      <td>1</td>\n",
       "      <td>7</td>\n",
       "      <td>2</td>\n",
       "      <td>SP</td>\n",
       "      <td>?</td>\n",
       "      <td>250.8</td>\n",
       "      <td>110|786</td>\n",
       "      <td>0</td>\n",
       "      <td>2</td>\n",
       "      <td>0</td>\n",
       "      <td>38</td>\n",
       "      <td>4</td>\n",
       "      <td>7</td>\n",
       "      <td>0</td>\n",
       "      <td>64764-302</td>\n",
       "      <td>None</td>\n",
       "      <td>None</td>\n",
       "      <td>Ch</td>\n",
       "      <td>&gt;30</td>\n",
       "      <td>Duetact</td>\n",
       "    </tr>\n",
       "    <tr>\n",
       "      <th>120016</th>\n",
       "      <td>254292852</td>\n",
       "      <td>100438128</td>\n",
       "      <td>Caucasian</td>\n",
       "      <td>Male</td>\n",
       "      <td>[60-70)</td>\n",
       "      <td>?</td>\n",
       "      <td>2</td>\n",
       "      <td>6</td>\n",
       "      <td>7</td>\n",
       "      <td>7</td>\n",
       "      <td>MC</td>\n",
       "      <td>Emergency/Trauma</td>\n",
       "      <td>38</td>\n",
       "      <td>276|707</td>\n",
       "      <td>1</td>\n",
       "      <td>0</td>\n",
       "      <td>0</td>\n",
       "      <td>76</td>\n",
       "      <td>9</td>\n",
       "      <td>19</td>\n",
       "      <td>2</td>\n",
       "      <td>0781-5635</td>\n",
       "      <td>None</td>\n",
       "      <td>None</td>\n",
       "      <td>Ch</td>\n",
       "      <td>NO</td>\n",
       "      <td>Pioglitazone Hydrochloride And Glimepiride</td>\n",
       "    </tr>\n",
       "    <tr>\n",
       "      <th>120017</th>\n",
       "      <td>254292852</td>\n",
       "      <td>100438128</td>\n",
       "      <td>Caucasian</td>\n",
       "      <td>Male</td>\n",
       "      <td>[60-70)</td>\n",
       "      <td>?</td>\n",
       "      <td>2</td>\n",
       "      <td>6</td>\n",
       "      <td>7</td>\n",
       "      <td>7</td>\n",
       "      <td>MC</td>\n",
       "      <td>Emergency/Trauma</td>\n",
       "      <td>38</td>\n",
       "      <td>276|707</td>\n",
       "      <td>1</td>\n",
       "      <td>0</td>\n",
       "      <td>0</td>\n",
       "      <td>76</td>\n",
       "      <td>9</td>\n",
       "      <td>19</td>\n",
       "      <td>2</td>\n",
       "      <td>0781-5635</td>\n",
       "      <td>None</td>\n",
       "      <td>None</td>\n",
       "      <td>Ch</td>\n",
       "      <td>NO</td>\n",
       "      <td>Pioglitazone Hydrochloride And Glimepiride</td>\n",
       "    </tr>\n",
       "    <tr>\n",
       "      <th>120018</th>\n",
       "      <td>403720562</td>\n",
       "      <td>41348115</td>\n",
       "      <td>Caucasian</td>\n",
       "      <td>Female</td>\n",
       "      <td>[60-70)</td>\n",
       "      <td>?</td>\n",
       "      <td>3</td>\n",
       "      <td>3</td>\n",
       "      <td>1</td>\n",
       "      <td>6</td>\n",
       "      <td>CP</td>\n",
       "      <td>Radiologist</td>\n",
       "      <td>715</td>\n",
       "      <td>250|272</td>\n",
       "      <td>0</td>\n",
       "      <td>0</td>\n",
       "      <td>0</td>\n",
       "      <td>23</td>\n",
       "      <td>4</td>\n",
       "      <td>20</td>\n",
       "      <td>1</td>\n",
       "      <td>33342-177</td>\n",
       "      <td>None</td>\n",
       "      <td>None</td>\n",
       "      <td>Ch</td>\n",
       "      <td>NO</td>\n",
       "      <td>Pioglitazole And Metformin Hydrochloride</td>\n",
       "    </tr>\n",
       "    <tr>\n",
       "      <th>120019</th>\n",
       "      <td>438411776</td>\n",
       "      <td>84752001</td>\n",
       "      <td>Caucasian</td>\n",
       "      <td>Female</td>\n",
       "      <td>[70-80)</td>\n",
       "      <td>?</td>\n",
       "      <td>2</td>\n",
       "      <td>1</td>\n",
       "      <td>1</td>\n",
       "      <td>3</td>\n",
       "      <td>MC</td>\n",
       "      <td>?</td>\n",
       "      <td>428</td>\n",
       "      <td>427|250</td>\n",
       "      <td>1</td>\n",
       "      <td>0</td>\n",
       "      <td>1</td>\n",
       "      <td>11</td>\n",
       "      <td>6</td>\n",
       "      <td>7</td>\n",
       "      <td>0</td>\n",
       "      <td>43063-699</td>\n",
       "      <td>None</td>\n",
       "      <td>None</td>\n",
       "      <td>No</td>\n",
       "      <td>&gt;30</td>\n",
       "      <td>Glimepiride</td>\n",
       "    </tr>\n",
       "  </tbody>\n",
       "</table>\n",
       "<p>120020 rows × 27 columns</p>\n",
       "</div>"
      ],
      "text/plain": [
       "        encounter_id  patient_nbr             race  gender       age weight  \\\n",
       "0             149190     55629189        Caucasian  Female   [10-20)      ?   \n",
       "1             500364     82442376        Caucasian    Male   [30-40)      ?   \n",
       "2              16680     42519267        Caucasian    Male   [40-50)      ?   \n",
       "3              15738     63555939        Caucasian  Female  [90-100)      ?   \n",
       "4              28236     89869032  AfricanAmerican  Female   [40-50)      ?   \n",
       "...              ...          ...              ...     ...       ...    ...   \n",
       "120015     233607492     41369121        Caucasian  Female   [60-70)      ?   \n",
       "120016     254292852    100438128        Caucasian    Male   [60-70)      ?   \n",
       "120017     254292852    100438128        Caucasian    Male   [60-70)      ?   \n",
       "120018     403720562     41348115        Caucasian  Female   [60-70)      ?   \n",
       "120019     438411776     84752001        Caucasian  Female   [70-80)      ?   \n",
       "\n",
       "        admission_type_id  discharge_disposition_id  admission_source_id  \\\n",
       "0                       1                         1                    7   \n",
       "1                       1                         1                    7   \n",
       "2                       1                         1                    7   \n",
       "3                       3                         3                    4   \n",
       "4                       1                         1                    7   \n",
       "...                   ...                       ...                  ...   \n",
       "120015                  1                         1                    7   \n",
       "120016                  2                         6                    7   \n",
       "120017                  2                         6                    7   \n",
       "120018                  3                         3                    1   \n",
       "120019                  2                         1                    1   \n",
       "\n",
       "        time_in_hospital payer_code medical_specialty primary_diagnosis_code  \\\n",
       "0                      3          ?                 ?                    276   \n",
       "1                      2          ?                 ?                      8   \n",
       "2                      1          ?                 ?                    197   \n",
       "3                     12          ?  InternalMedicine                    434   \n",
       "4                      9          ?                 ?                  250.7   \n",
       "...                  ...        ...               ...                    ...   \n",
       "120015                 2         SP                 ?                  250.8   \n",
       "120016                 7         MC  Emergency/Trauma                     38   \n",
       "120017                 7         MC  Emergency/Trauma                     38   \n",
       "120018                 6         CP       Radiologist                    715   \n",
       "120019                 3         MC                 ?                    428   \n",
       "\n",
       "       other_diagnosis_codes  number_outpatient  number_inpatient  \\\n",
       "0                 250.01|255                  0                 0   \n",
       "1                 250.43|403                  0                 0   \n",
       "2                    157|250                  0                 0   \n",
       "3                    198|486                  0                 0   \n",
       "4                    403|996                  0                 0   \n",
       "...                      ...                ...               ...   \n",
       "120015               110|786                  0                 2   \n",
       "120016               276|707                  1                 0   \n",
       "120017               276|707                  1                 0   \n",
       "120018               250|272                  0                 0   \n",
       "120019               427|250                  1                 0   \n",
       "\n",
       "        number_emergency  num_lab_procedures  number_diagnoses  \\\n",
       "0                      0                  59                 9   \n",
       "1                      0                  44                 7   \n",
       "2                      0                  51                 5   \n",
       "3                      0                  33                 8   \n",
       "4                      0                  47                 9   \n",
       "...                  ...                 ...               ...   \n",
       "120015                 0                  38                 4   \n",
       "120016                 0                  76                 9   \n",
       "120017                 0                  76                 9   \n",
       "120018                 0                  23                 4   \n",
       "120019                 1                  11                 6   \n",
       "\n",
       "        num_medications  num_procedures    ndc_code max_glu_serum A1Cresult  \\\n",
       "0                    18               0  68071-1701          None      None   \n",
       "1                    16               1  68071-1701          None      None   \n",
       "2                     8               0  68071-1701          None      None   \n",
       "3                    18               3  68071-1701          None      None   \n",
       "4                    17               2  68071-1701          None      None   \n",
       "...                 ...             ...         ...           ...       ...   \n",
       "120015                7               0   64764-302          None      None   \n",
       "120016               19               2   0781-5635          None      None   \n",
       "120017               19               2   0781-5635          None      None   \n",
       "120018               20               1   33342-177          None      None   \n",
       "120019                7               0   43063-699          None      None   \n",
       "\n",
       "       change readmitted                           generic_drug_name  \n",
       "0          Ch        >30                                   Novolin R  \n",
       "1          Ch         NO                                   Novolin R  \n",
       "2          Ch         NO                                   Novolin R  \n",
       "3          Ch         NO                                   Novolin R  \n",
       "4          No        >30                                   Novolin R  \n",
       "...       ...        ...                                         ...  \n",
       "120015     Ch        >30                                     Duetact  \n",
       "120016     Ch         NO  Pioglitazone Hydrochloride And Glimepiride  \n",
       "120017     Ch         NO  Pioglitazone Hydrochloride And Glimepiride  \n",
       "120018     Ch         NO    Pioglitazole And Metformin Hydrochloride  \n",
       "120019     No        >30                                 Glimepiride  \n",
       "\n",
       "[120020 rows x 27 columns]"
      ]
     },
     "execution_count": 20,
     "metadata": {},
     "output_type": "execute_result"
    }
   ],
   "source": [
    "reduce_dim_df"
   ]
  },
  {
   "cell_type": "code",
   "execution_count": 21,
   "metadata": {},
   "outputs": [],
   "source": [
    "# Rename column 'Proprietary Name' to 'generic_drug_name'\n",
    "#reduce_dim_df.rename(columns = {'Proprietary Name':'generic_drug_name'},inplace=True)"
   ]
  },
  {
   "cell_type": "code",
   "execution_count": 22,
   "metadata": {},
   "outputs": [],
   "source": [
    "#reduce_dim_df"
   ]
  },
  {
   "cell_type": "code",
   "execution_count": 23,
   "metadata": {},
   "outputs": [
    {
     "data": {
      "text/plain": [
       "True"
      ]
     },
     "execution_count": 23,
     "metadata": {},
     "output_type": "execute_result"
    }
   ],
   "source": [
    "# Number of unique values should be less for the new output field\n",
    "(df['ndc_code'].nunique() > reduce_dim_df['generic_drug_name'].nunique())"
   ]
  },
  {
   "cell_type": "code",
   "execution_count": 24,
   "metadata": {},
   "outputs": [
    {
     "name": "stdout",
     "output_type": "stream",
     "text": [
      "          ndc_code                           generic_drug_name\n",
      "0       68071-1701                                   Novolin R\n",
      "1       68071-1701                                   Novolin R\n",
      "2       68071-1701                                   Novolin R\n",
      "3       68071-1701                                   Novolin R\n",
      "4       68071-1701                                   Novolin R\n",
      "...            ...                                         ...\n",
      "120015   64764-302                                     Duetact\n",
      "120016   0781-5635  Pioglitazone Hydrochloride And Glimepiride\n",
      "120017   0781-5635  Pioglitazone Hydrochloride And Glimepiride\n",
      "120018   33342-177    Pioglitazole And Metformin Hydrochloride\n",
      "120019   43063-699                                 Glimepiride\n",
      "\n",
      "[120020 rows x 2 columns]\n"
     ]
    }
   ],
   "source": [
    "# Display NDC Codes vs Generic Drug Mapping  \n",
    "print(reduce_dim_df[['ndc_code','generic_drug_name']])"
   ]
  },
  {
   "cell_type": "code",
   "execution_count": 25,
   "metadata": {},
   "outputs": [
    {
     "data": {
      "text/plain": [
       "36"
      ]
     },
     "execution_count": 25,
     "metadata": {},
     "output_type": "execute_result"
    }
   ],
   "source": [
    "reduce_dim_df['generic_drug_name'].nunique()"
   ]
  },
  {
   "cell_type": "code",
   "execution_count": 26,
   "metadata": {},
   "outputs": [
    {
     "data": {
      "text/plain": [
       "Text(0.5, 1.0, 'Generic Drug Name - Distribution ')"
      ]
     },
     "execution_count": 26,
     "metadata": {},
     "output_type": "execute_result"
    },
    {
     "data": {
      "image/png": "[encoded data removed]",
      "text/plain": [
       "<Figure size 1152x720 with 1 Axes>"
      ]
     },
     "metadata": {
      "needs_background": "light"
     },
     "output_type": "display_data"
    }
   ],
   "source": [
    "# Plot Generic Drug Name from the dataset\n",
    "plt.figure(figsize =(16,10))\n",
    "reduce_dim_df['generic_drug_name'].value_counts().sort_values(ascending=True).plot(kind='barh')\n",
    "plt.xlabel('Count')\n",
    "plt.ylabel('Generic Drug')\n",
    "plt.title('Generic Drug Name - Distribution ')"
   ]
  },
  {
   "cell_type": "markdown",
   "metadata": {},
   "source": [
    "## Select First Encounter for each Patient "
   ]
  },
  {
   "cell_type": "markdown",
   "metadata": {},
   "source": [
    "**Question 4**: In order to simplify the aggregation of data for the model, we will only select the first encounter for each patient in the dataset. This is to reduce the risk of data leakage of future patient encounters and to reduce complexity of the data transformation and modeling steps. We will assume that sorting in numerical order on the encounter_id provides the time horizon for determining which encounters come before and after another.\n",
    "\n",
    "Responses >>>\n",
    "1.  Using below mentioned function ,  we have selected first encounters for each patient.\n",
    "2.  To ensure there is no data leakage , Ran a test as well and printed output.  \n",
    "3.  There are 56133 patients and 56133 encounters in the dataset now.  So, test is successful and there is no data leakage."
   ]
  },
  {
   "cell_type": "code",
   "execution_count": 27,
   "metadata": {},
   "outputs": [],
   "source": [
    "from student_utils import select_first_encounter\n",
    "first_encounter_df = select_first_encounter(reduce_dim_df)"
   ]
  },
  {
   "cell_type": "code",
   "execution_count": 28,
   "metadata": {},
   "outputs": [
    {
     "name": "stdout",
     "output_type": "stream",
     "text": [
      "Number of unique patients:56133\n",
      "Number of unique encounters:56133\n",
      "Tests passed!!\n"
     ]
    }
   ],
   "source": [
    "# unique patients in transformed dataset\n",
    "unique_patients = first_encounter_df['patient_nbr'].nunique()\n",
    "print(\"Number of unique patients:{}\".format(unique_patients))\n",
    "\n",
    "# unique encounters in transformed dataset\n",
    "unique_encounters = first_encounter_df['encounter_id'].nunique()\n",
    "print(\"Number of unique encounters:{}\".format(unique_encounters))\n",
    "\n",
    "original_unique_patient_number = reduce_dim_df['patient_nbr'].nunique()\n",
    "# number of unique patients should be equal to the number of unique encounters and patients in the final dataset\n",
    "assert original_unique_patient_number == unique_patients\n",
    "assert original_unique_patient_number == unique_encounters\n",
    "print(\"Tests passed!!\")"
   ]
  },
  {
   "cell_type": "code",
   "execution_count": 29,
   "metadata": {},
   "outputs": [
    {
     "data": {
      "text/html": [
       "<div>\n",
       "<style scoped>\n",
       "    .dataframe tbody tr th:only-of-type {\n",
       "        vertical-align: middle;\n",
       "    }\n",
       "\n",
       "    .dataframe tbody tr th {\n",
       "        vertical-align: top;\n",
       "    }\n",
       "\n",
       "    .dataframe thead th {\n",
       "        text-align: right;\n",
       "    }\n",
       "</style>\n",
       "<table border=\"1\" class=\"dataframe\">\n",
       "  <thead>\n",
       "    <tr style=\"text-align: right;\">\n",
       "      <th></th>\n",
       "      <th>encounter_id</th>\n",
       "      <th>patient_nbr</th>\n",
       "      <th>race</th>\n",
       "      <th>gender</th>\n",
       "      <th>age</th>\n",
       "      <th>weight</th>\n",
       "      <th>admission_type_id</th>\n",
       "      <th>discharge_disposition_id</th>\n",
       "      <th>admission_source_id</th>\n",
       "      <th>time_in_hospital</th>\n",
       "      <th>payer_code</th>\n",
       "      <th>medical_specialty</th>\n",
       "      <th>primary_diagnosis_code</th>\n",
       "      <th>other_diagnosis_codes</th>\n",
       "      <th>number_outpatient</th>\n",
       "      <th>number_inpatient</th>\n",
       "      <th>number_emergency</th>\n",
       "      <th>num_lab_procedures</th>\n",
       "      <th>number_diagnoses</th>\n",
       "      <th>num_medications</th>\n",
       "      <th>num_procedures</th>\n",
       "      <th>ndc_code</th>\n",
       "      <th>max_glu_serum</th>\n",
       "      <th>A1Cresult</th>\n",
       "      <th>change</th>\n",
       "      <th>readmitted</th>\n",
       "      <th>generic_drug_name</th>\n",
       "    </tr>\n",
       "  </thead>\n",
       "  <tbody>\n",
       "    <tr>\n",
       "      <th>22979</th>\n",
       "      <td>12522</td>\n",
       "      <td>48330783</td>\n",
       "      <td>Caucasian</td>\n",
       "      <td>Female</td>\n",
       "      <td>[80-90)</td>\n",
       "      <td>?</td>\n",
       "      <td>2</td>\n",
       "      <td>1</td>\n",
       "      <td>4</td>\n",
       "      <td>13</td>\n",
       "      <td>?</td>\n",
       "      <td>?</td>\n",
       "      <td>398</td>\n",
       "      <td>427|38</td>\n",
       "      <td>0</td>\n",
       "      <td>0</td>\n",
       "      <td>0</td>\n",
       "      <td>68</td>\n",
       "      <td>8</td>\n",
       "      <td>28</td>\n",
       "      <td>2</td>\n",
       "      <td>0049-4110</td>\n",
       "      <td>None</td>\n",
       "      <td>None</td>\n",
       "      <td>Ch</td>\n",
       "      <td>NO</td>\n",
       "      <td>Glucotrol</td>\n",
       "    </tr>\n",
       "    <tr>\n",
       "      <th>3</th>\n",
       "      <td>15738</td>\n",
       "      <td>63555939</td>\n",
       "      <td>Caucasian</td>\n",
       "      <td>Female</td>\n",
       "      <td>[90-100)</td>\n",
       "      <td>?</td>\n",
       "      <td>3</td>\n",
       "      <td>3</td>\n",
       "      <td>4</td>\n",
       "      <td>12</td>\n",
       "      <td>?</td>\n",
       "      <td>InternalMedicine</td>\n",
       "      <td>434</td>\n",
       "      <td>198|486</td>\n",
       "      <td>0</td>\n",
       "      <td>0</td>\n",
       "      <td>0</td>\n",
       "      <td>33</td>\n",
       "      <td>8</td>\n",
       "      <td>18</td>\n",
       "      <td>3</td>\n",
       "      <td>68071-1701</td>\n",
       "      <td>None</td>\n",
       "      <td>None</td>\n",
       "      <td>Ch</td>\n",
       "      <td>NO</td>\n",
       "      <td>Novolin R</td>\n",
       "    </tr>\n",
       "    <tr>\n",
       "      <th>22978</th>\n",
       "      <td>16680</td>\n",
       "      <td>42519267</td>\n",
       "      <td>Caucasian</td>\n",
       "      <td>Male</td>\n",
       "      <td>[40-50)</td>\n",
       "      <td>?</td>\n",
       "      <td>1</td>\n",
       "      <td>1</td>\n",
       "      <td>7</td>\n",
       "      <td>1</td>\n",
       "      <td>?</td>\n",
       "      <td>?</td>\n",
       "      <td>197</td>\n",
       "      <td>157|250</td>\n",
       "      <td>0</td>\n",
       "      <td>0</td>\n",
       "      <td>0</td>\n",
       "      <td>51</td>\n",
       "      <td>5</td>\n",
       "      <td>8</td>\n",
       "      <td>0</td>\n",
       "      <td>0049-4110</td>\n",
       "      <td>None</td>\n",
       "      <td>None</td>\n",
       "      <td>Ch</td>\n",
       "      <td>NO</td>\n",
       "      <td>Glucotrol</td>\n",
       "    </tr>\n",
       "    <tr>\n",
       "      <th>4</th>\n",
       "      <td>28236</td>\n",
       "      <td>89869032</td>\n",
       "      <td>AfricanAmerican</td>\n",
       "      <td>Female</td>\n",
       "      <td>[40-50)</td>\n",
       "      <td>?</td>\n",
       "      <td>1</td>\n",
       "      <td>1</td>\n",
       "      <td>7</td>\n",
       "      <td>9</td>\n",
       "      <td>?</td>\n",
       "      <td>?</td>\n",
       "      <td>250.7</td>\n",
       "      <td>403|996</td>\n",
       "      <td>0</td>\n",
       "      <td>0</td>\n",
       "      <td>0</td>\n",
       "      <td>47</td>\n",
       "      <td>9</td>\n",
       "      <td>17</td>\n",
       "      <td>2</td>\n",
       "      <td>68071-1701</td>\n",
       "      <td>None</td>\n",
       "      <td>None</td>\n",
       "      <td>No</td>\n",
       "      <td>&gt;30</td>\n",
       "      <td>Novolin R</td>\n",
       "    </tr>\n",
       "    <tr>\n",
       "      <th>26409</th>\n",
       "      <td>35754</td>\n",
       "      <td>82637451</td>\n",
       "      <td>Caucasian</td>\n",
       "      <td>Male</td>\n",
       "      <td>[50-60)</td>\n",
       "      <td>?</td>\n",
       "      <td>2</td>\n",
       "      <td>1</td>\n",
       "      <td>2</td>\n",
       "      <td>3</td>\n",
       "      <td>?</td>\n",
       "      <td>?</td>\n",
       "      <td>414</td>\n",
       "      <td>411|250</td>\n",
       "      <td>0</td>\n",
       "      <td>0</td>\n",
       "      <td>0</td>\n",
       "      <td>31</td>\n",
       "      <td>9</td>\n",
       "      <td>16</td>\n",
       "      <td>6</td>\n",
       "      <td>47918-902</td>\n",
       "      <td>None</td>\n",
       "      <td>None</td>\n",
       "      <td>No</td>\n",
       "      <td>&gt;30</td>\n",
       "      <td>Afrezza</td>\n",
       "    </tr>\n",
       "  </tbody>\n",
       "</table>\n",
       "</div>"
      ],
      "text/plain": [
       "       encounter_id  patient_nbr             race  gender       age weight  \\\n",
       "22979         12522     48330783        Caucasian  Female   [80-90)      ?   \n",
       "3             15738     63555939        Caucasian  Female  [90-100)      ?   \n",
       "22978         16680     42519267        Caucasian    Male   [40-50)      ?   \n",
       "4             28236     89869032  AfricanAmerican  Female   [40-50)      ?   \n",
       "26409         35754     82637451        Caucasian    Male   [50-60)      ?   \n",
       "\n",
       "       admission_type_id  discharge_disposition_id  admission_source_id  \\\n",
       "22979                  2                         1                    4   \n",
       "3                      3                         3                    4   \n",
       "22978                  1                         1                    7   \n",
       "4                      1                         1                    7   \n",
       "26409                  2                         1                    2   \n",
       "\n",
       "       time_in_hospital payer_code medical_specialty primary_diagnosis_code  \\\n",
       "22979                13          ?                 ?                    398   \n",
       "3                    12          ?  InternalMedicine                    434   \n",
       "22978                 1          ?                 ?                    197   \n",
       "4                     9          ?                 ?                  250.7   \n",
       "26409                 3          ?                 ?                    414   \n",
       "\n",
       "      other_diagnosis_codes  number_outpatient  number_inpatient  \\\n",
       "22979                427|38                  0                 0   \n",
       "3                   198|486                  0                 0   \n",
       "22978               157|250                  0                 0   \n",
       "4                   403|996                  0                 0   \n",
       "26409               411|250                  0                 0   \n",
       "\n",
       "       number_emergency  num_lab_procedures  number_diagnoses  \\\n",
       "22979                 0                  68                 8   \n",
       "3                     0                  33                 8   \n",
       "22978                 0                  51                 5   \n",
       "4                     0                  47                 9   \n",
       "26409                 0                  31                 9   \n",
       "\n",
       "       num_medications  num_procedures    ndc_code max_glu_serum A1Cresult  \\\n",
       "22979               28               2   0049-4110          None      None   \n",
       "3                   18               3  68071-1701          None      None   \n",
       "22978                8               0   0049-4110          None      None   \n",
       "4                   17               2  68071-1701          None      None   \n",
       "26409               16               6   47918-902          None      None   \n",
       "\n",
       "      change readmitted generic_drug_name  \n",
       "22979     Ch         NO         Glucotrol  \n",
       "3         Ch         NO         Novolin R  \n",
       "22978     Ch         NO         Glucotrol  \n",
       "4         No        >30         Novolin R  \n",
       "26409     No        >30           Afrezza  "
      ]
     },
     "execution_count": 29,
     "metadata": {},
     "output_type": "execute_result"
    }
   ],
   "source": [
    "first_encounter_df.head()"
   ]
  },
  {
   "cell_type": "markdown",
   "metadata": {},
   "source": [
    "## Aggregate Dataset to Right Level for Modeling "
   ]
  },
  {
   "cell_type": "markdown",
   "metadata": {},
   "source": [
    "In order to provide a broad scope of the steps and to prevent students from getting stuck with data transformations, we have selected the aggregation columns and provided a function to build the dataset at the appropriate level. The 'aggregate_dataset\" function that you can find in the 'utils.py' file can take the preceding dataframe with the 'generic_drug_name' field and transform the data appropriately for the project. \n",
    "\n",
    "To make it simpler for students, we are creating dummy columns for each unique generic drug name and adding those are input features to the model. There are other options for data representation but this is out of scope for the time constraints of the course."
   ]
  },
  {
   "cell_type": "code",
   "execution_count": 30,
   "metadata": {},
   "outputs": [
    {
     "name": "stderr",
     "output_type": "stream",
     "text": [
      "/home/workspace/starter_code/utils.py:10: FutureWarning: Indexing with multiple keys (implicitly converted to a tuple of keys) will be deprecated, use a list instead.\n",
      "  array_field].apply(lambda x: x[array_field].values.tolist()).reset_index().rename(columns={\n"
     ]
    }
   ],
   "source": [
    "exclusion_list = ['generic_drug_name']\n",
    "grouping_field_list = [c for c in first_encounter_df.columns if c not in exclusion_list]\n",
    "agg_drug_df, ndc_col_list = aggregate_dataset(first_encounter_df, grouping_field_list, 'generic_drug_name')"
   ]
  },
  {
   "cell_type": "code",
   "execution_count": 31,
   "metadata": {},
   "outputs": [],
   "source": [
    "assert len(agg_drug_df) == agg_drug_df['patient_nbr'].nunique() == agg_drug_df['encounter_id'].nunique()"
   ]
  },
  {
   "cell_type": "code",
   "execution_count": 32,
   "metadata": {},
   "outputs": [
    {
     "data": {
      "text/html": [
       "<div>\n",
       "<style scoped>\n",
       "    .dataframe tbody tr th:only-of-type {\n",
       "        vertical-align: middle;\n",
       "    }\n",
       "\n",
       "    .dataframe tbody tr th {\n",
       "        vertical-align: top;\n",
       "    }\n",
       "\n",
       "    .dataframe thead th {\n",
       "        text-align: right;\n",
       "    }\n",
       "</style>\n",
       "<table border=\"1\" class=\"dataframe\">\n",
       "  <thead>\n",
       "    <tr style=\"text-align: right;\">\n",
       "      <th></th>\n",
       "      <th>encounter_id</th>\n",
       "      <th>patient_nbr</th>\n",
       "      <th>race</th>\n",
       "      <th>gender</th>\n",
       "      <th>age</th>\n",
       "      <th>weight</th>\n",
       "      <th>admission_type_id</th>\n",
       "      <th>discharge_disposition_id</th>\n",
       "      <th>admission_source_id</th>\n",
       "      <th>time_in_hospital</th>\n",
       "      <th>payer_code</th>\n",
       "      <th>medical_specialty</th>\n",
       "      <th>primary_diagnosis_code</th>\n",
       "      <th>other_diagnosis_codes</th>\n",
       "      <th>number_outpatient</th>\n",
       "      <th>number_inpatient</th>\n",
       "      <th>number_emergency</th>\n",
       "      <th>num_lab_procedures</th>\n",
       "      <th>number_diagnoses</th>\n",
       "      <th>num_medications</th>\n",
       "      <th>num_procedures</th>\n",
       "      <th>ndc_code</th>\n",
       "      <th>max_glu_serum</th>\n",
       "      <th>A1Cresult</th>\n",
       "      <th>change</th>\n",
       "      <th>readmitted</th>\n",
       "      <th>generic_drug_name_array</th>\n",
       "      <th>Acarbose</th>\n",
       "      <th>Afrezza</th>\n",
       "      <th>Amaryl</th>\n",
       "      <th>Avandia_2MG</th>\n",
       "      <th>Avandia_4MG</th>\n",
       "      <th>Glimepiride</th>\n",
       "      <th>Glipizide</th>\n",
       "      <th>Glipizide_And_Metformin_Hcl</th>\n",
       "      <th>Glipizide_And_Metformin_Hydrochloride</th>\n",
       "      <th>Glucophage</th>\n",
       "      <th>Glucophage_XR</th>\n",
       "      <th>Glucotrol</th>\n",
       "      <th>Glucotrol_XL</th>\n",
       "      <th>Glyburide</th>\n",
       "      <th>Glyburide_And_Metformin_Hydrochloride</th>\n",
       "      <th>Glyburide-metformin_Hydrochloride</th>\n",
       "      <th>Glynase</th>\n",
       "      <th>Glyset</th>\n",
       "      <th>Humulin_R</th>\n",
       "      <th>Metformin_Hcl</th>\n",
       "      <th>Metformin_Hydrochloride</th>\n",
       "      <th>Metformin_Hydrochloride_Extended_Release</th>\n",
       "      <th>Miglitol</th>\n",
       "      <th>Nateglinide</th>\n",
       "      <th>Novolin_R</th>\n",
       "      <th>Pioglitazole_And_Metformin_Hydrochloride</th>\n",
       "      <th>Pioglitazone</th>\n",
       "      <th>Pioglitazone_Hydrochloride_And_Glimepiride</th>\n",
       "      <th>Prandin</th>\n",
       "      <th>Repaglinide</th>\n",
       "      <th>Riomet</th>\n",
       "      <th>Riomet_Er</th>\n",
       "      <th>Starlix</th>\n",
       "      <th>Tolazamide</th>\n",
       "      <th>Tolbutamide</th>\n",
       "    </tr>\n",
       "  </thead>\n",
       "  <tbody>\n",
       "    <tr>\n",
       "      <th>0</th>\n",
       "      <td>12522</td>\n",
       "      <td>48330783</td>\n",
       "      <td>Caucasian</td>\n",
       "      <td>Female</td>\n",
       "      <td>[80-90)</td>\n",
       "      <td>?</td>\n",
       "      <td>2</td>\n",
       "      <td>1</td>\n",
       "      <td>4</td>\n",
       "      <td>13</td>\n",
       "      <td>?</td>\n",
       "      <td>?</td>\n",
       "      <td>398</td>\n",
       "      <td>427|38</td>\n",
       "      <td>0</td>\n",
       "      <td>0</td>\n",
       "      <td>0</td>\n",
       "      <td>68</td>\n",
       "      <td>8</td>\n",
       "      <td>28</td>\n",
       "      <td>2</td>\n",
       "      <td>0049-4110</td>\n",
       "      <td>None</td>\n",
       "      <td>None</td>\n",
       "      <td>Ch</td>\n",
       "      <td>NO</td>\n",
       "      <td>[Glucotrol]</td>\n",
       "      <td>0</td>\n",
       "      <td>0</td>\n",
       "      <td>0</td>\n",
       "      <td>0</td>\n",
       "      <td>0</td>\n",
       "      <td>0</td>\n",
       "      <td>0</td>\n",
       "      <td>0</td>\n",
       "      <td>0</td>\n",
       "      <td>0</td>\n",
       "      <td>0</td>\n",
       "      <td>1</td>\n",
       "      <td>0</td>\n",
       "      <td>0</td>\n",
       "      <td>0</td>\n",
       "      <td>0</td>\n",
       "      <td>0</td>\n",
       "      <td>0</td>\n",
       "      <td>0</td>\n",
       "      <td>0</td>\n",
       "      <td>0</td>\n",
       "      <td>0</td>\n",
       "      <td>0</td>\n",
       "      <td>0</td>\n",
       "      <td>0</td>\n",
       "      <td>0</td>\n",
       "      <td>0</td>\n",
       "      <td>0</td>\n",
       "      <td>0</td>\n",
       "      <td>0</td>\n",
       "      <td>0</td>\n",
       "      <td>0</td>\n",
       "      <td>0</td>\n",
       "      <td>0</td>\n",
       "      <td>0</td>\n",
       "    </tr>\n",
       "    <tr>\n",
       "      <th>1</th>\n",
       "      <td>15738</td>\n",
       "      <td>63555939</td>\n",
       "      <td>Caucasian</td>\n",
       "      <td>Female</td>\n",
       "      <td>[90-100)</td>\n",
       "      <td>?</td>\n",
       "      <td>3</td>\n",
       "      <td>3</td>\n",
       "      <td>4</td>\n",
       "      <td>12</td>\n",
       "      <td>?</td>\n",
       "      <td>InternalMedicine</td>\n",
       "      <td>434</td>\n",
       "      <td>198|486</td>\n",
       "      <td>0</td>\n",
       "      <td>0</td>\n",
       "      <td>0</td>\n",
       "      <td>33</td>\n",
       "      <td>8</td>\n",
       "      <td>18</td>\n",
       "      <td>3</td>\n",
       "      <td>68071-1701</td>\n",
       "      <td>None</td>\n",
       "      <td>None</td>\n",
       "      <td>Ch</td>\n",
       "      <td>NO</td>\n",
       "      <td>[Novolin R]</td>\n",
       "      <td>0</td>\n",
       "      <td>0</td>\n",
       "      <td>0</td>\n",
       "      <td>0</td>\n",
       "      <td>0</td>\n",
       "      <td>0</td>\n",
       "      <td>0</td>\n",
       "      <td>0</td>\n",
       "      <td>0</td>\n",
       "      <td>0</td>\n",
       "      <td>0</td>\n",
       "      <td>0</td>\n",
       "      <td>0</td>\n",
       "      <td>0</td>\n",
       "      <td>0</td>\n",
       "      <td>0</td>\n",
       "      <td>0</td>\n",
       "      <td>0</td>\n",
       "      <td>0</td>\n",
       "      <td>0</td>\n",
       "      <td>0</td>\n",
       "      <td>0</td>\n",
       "      <td>0</td>\n",
       "      <td>0</td>\n",
       "      <td>1</td>\n",
       "      <td>0</td>\n",
       "      <td>0</td>\n",
       "      <td>0</td>\n",
       "      <td>0</td>\n",
       "      <td>0</td>\n",
       "      <td>0</td>\n",
       "      <td>0</td>\n",
       "      <td>0</td>\n",
       "      <td>0</td>\n",
       "      <td>0</td>\n",
       "    </tr>\n",
       "    <tr>\n",
       "      <th>2</th>\n",
       "      <td>16680</td>\n",
       "      <td>42519267</td>\n",
       "      <td>Caucasian</td>\n",
       "      <td>Male</td>\n",
       "      <td>[40-50)</td>\n",
       "      <td>?</td>\n",
       "      <td>1</td>\n",
       "      <td>1</td>\n",
       "      <td>7</td>\n",
       "      <td>1</td>\n",
       "      <td>?</td>\n",
       "      <td>?</td>\n",
       "      <td>197</td>\n",
       "      <td>157|250</td>\n",
       "      <td>0</td>\n",
       "      <td>0</td>\n",
       "      <td>0</td>\n",
       "      <td>51</td>\n",
       "      <td>5</td>\n",
       "      <td>8</td>\n",
       "      <td>0</td>\n",
       "      <td>0049-4110</td>\n",
       "      <td>None</td>\n",
       "      <td>None</td>\n",
       "      <td>Ch</td>\n",
       "      <td>NO</td>\n",
       "      <td>[Glucotrol]</td>\n",
       "      <td>0</td>\n",
       "      <td>0</td>\n",
       "      <td>0</td>\n",
       "      <td>0</td>\n",
       "      <td>0</td>\n",
       "      <td>0</td>\n",
       "      <td>0</td>\n",
       "      <td>0</td>\n",
       "      <td>0</td>\n",
       "      <td>0</td>\n",
       "      <td>0</td>\n",
       "      <td>1</td>\n",
       "      <td>0</td>\n",
       "      <td>0</td>\n",
       "      <td>0</td>\n",
       "      <td>0</td>\n",
       "      <td>0</td>\n",
       "      <td>0</td>\n",
       "      <td>0</td>\n",
       "      <td>0</td>\n",
       "      <td>0</td>\n",
       "      <td>0</td>\n",
       "      <td>0</td>\n",
       "      <td>0</td>\n",
       "      <td>0</td>\n",
       "      <td>0</td>\n",
       "      <td>0</td>\n",
       "      <td>0</td>\n",
       "      <td>0</td>\n",
       "      <td>0</td>\n",
       "      <td>0</td>\n",
       "      <td>0</td>\n",
       "      <td>0</td>\n",
       "      <td>0</td>\n",
       "      <td>0</td>\n",
       "    </tr>\n",
       "    <tr>\n",
       "      <th>3</th>\n",
       "      <td>28236</td>\n",
       "      <td>89869032</td>\n",
       "      <td>AfricanAmerican</td>\n",
       "      <td>Female</td>\n",
       "      <td>[40-50)</td>\n",
       "      <td>?</td>\n",
       "      <td>1</td>\n",
       "      <td>1</td>\n",
       "      <td>7</td>\n",
       "      <td>9</td>\n",
       "      <td>?</td>\n",
       "      <td>?</td>\n",
       "      <td>250.7</td>\n",
       "      <td>403|996</td>\n",
       "      <td>0</td>\n",
       "      <td>0</td>\n",
       "      <td>0</td>\n",
       "      <td>47</td>\n",
       "      <td>9</td>\n",
       "      <td>17</td>\n",
       "      <td>2</td>\n",
       "      <td>68071-1701</td>\n",
       "      <td>None</td>\n",
       "      <td>None</td>\n",
       "      <td>No</td>\n",
       "      <td>&gt;30</td>\n",
       "      <td>[Novolin R]</td>\n",
       "      <td>0</td>\n",
       "      <td>0</td>\n",
       "      <td>0</td>\n",
       "      <td>0</td>\n",
       "      <td>0</td>\n",
       "      <td>0</td>\n",
       "      <td>0</td>\n",
       "      <td>0</td>\n",
       "      <td>0</td>\n",
       "      <td>0</td>\n",
       "      <td>0</td>\n",
       "      <td>0</td>\n",
       "      <td>0</td>\n",
       "      <td>0</td>\n",
       "      <td>0</td>\n",
       "      <td>0</td>\n",
       "      <td>0</td>\n",
       "      <td>0</td>\n",
       "      <td>0</td>\n",
       "      <td>0</td>\n",
       "      <td>0</td>\n",
       "      <td>0</td>\n",
       "      <td>0</td>\n",
       "      <td>0</td>\n",
       "      <td>1</td>\n",
       "      <td>0</td>\n",
       "      <td>0</td>\n",
       "      <td>0</td>\n",
       "      <td>0</td>\n",
       "      <td>0</td>\n",
       "      <td>0</td>\n",
       "      <td>0</td>\n",
       "      <td>0</td>\n",
       "      <td>0</td>\n",
       "      <td>0</td>\n",
       "    </tr>\n",
       "    <tr>\n",
       "      <th>4</th>\n",
       "      <td>35754</td>\n",
       "      <td>82637451</td>\n",
       "      <td>Caucasian</td>\n",
       "      <td>Male</td>\n",
       "      <td>[50-60)</td>\n",
       "      <td>?</td>\n",
       "      <td>2</td>\n",
       "      <td>1</td>\n",
       "      <td>2</td>\n",
       "      <td>3</td>\n",
       "      <td>?</td>\n",
       "      <td>?</td>\n",
       "      <td>414</td>\n",
       "      <td>411|250</td>\n",
       "      <td>0</td>\n",
       "      <td>0</td>\n",
       "      <td>0</td>\n",
       "      <td>31</td>\n",
       "      <td>9</td>\n",
       "      <td>16</td>\n",
       "      <td>6</td>\n",
       "      <td>47918-902</td>\n",
       "      <td>None</td>\n",
       "      <td>None</td>\n",
       "      <td>No</td>\n",
       "      <td>&gt;30</td>\n",
       "      <td>[Afrezza]</td>\n",
       "      <td>0</td>\n",
       "      <td>1</td>\n",
       "      <td>0</td>\n",
       "      <td>0</td>\n",
       "      <td>0</td>\n",
       "      <td>0</td>\n",
       "      <td>0</td>\n",
       "      <td>0</td>\n",
       "      <td>0</td>\n",
       "      <td>0</td>\n",
       "      <td>0</td>\n",
       "      <td>0</td>\n",
       "      <td>0</td>\n",
       "      <td>0</td>\n",
       "      <td>0</td>\n",
       "      <td>0</td>\n",
       "      <td>0</td>\n",
       "      <td>0</td>\n",
       "      <td>0</td>\n",
       "      <td>0</td>\n",
       "      <td>0</td>\n",
       "      <td>0</td>\n",
       "      <td>0</td>\n",
       "      <td>0</td>\n",
       "      <td>0</td>\n",
       "      <td>0</td>\n",
       "      <td>0</td>\n",
       "      <td>0</td>\n",
       "      <td>0</td>\n",
       "      <td>0</td>\n",
       "      <td>0</td>\n",
       "      <td>0</td>\n",
       "      <td>0</td>\n",
       "      <td>0</td>\n",
       "      <td>0</td>\n",
       "    </tr>\n",
       "  </tbody>\n",
       "</table>\n",
       "</div>"
      ],
      "text/plain": [
       "   encounter_id  patient_nbr             race  gender       age weight  \\\n",
       "0         12522     48330783        Caucasian  Female   [80-90)      ?   \n",
       "1         15738     63555939        Caucasian  Female  [90-100)      ?   \n",
       "2         16680     42519267        Caucasian    Male   [40-50)      ?   \n",
       "3         28236     89869032  AfricanAmerican  Female   [40-50)      ?   \n",
       "4         35754     82637451        Caucasian    Male   [50-60)      ?   \n",
       "\n",
       "   admission_type_id  discharge_disposition_id  admission_source_id  \\\n",
       "0                  2                         1                    4   \n",
       "1                  3                         3                    4   \n",
       "2                  1                         1                    7   \n",
       "3                  1                         1                    7   \n",
       "4                  2                         1                    2   \n",
       "\n",
       "   time_in_hospital payer_code medical_specialty primary_diagnosis_code  \\\n",
       "0                13          ?                 ?                    398   \n",
       "1                12          ?  InternalMedicine                    434   \n",
       "2                 1          ?                 ?                    197   \n",
       "3                 9          ?                 ?                  250.7   \n",
       "4                 3          ?                 ?                    414   \n",
       "\n",
       "  other_diagnosis_codes  number_outpatient  number_inpatient  \\\n",
       "0                427|38                  0                 0   \n",
       "1               198|486                  0                 0   \n",
       "2               157|250                  0                 0   \n",
       "3               403|996                  0                 0   \n",
       "4               411|250                  0                 0   \n",
       "\n",
       "   number_emergency  num_lab_procedures  number_diagnoses  num_medications  \\\n",
       "0                 0                  68                 8               28   \n",
       "1                 0                  33                 8               18   \n",
       "2                 0                  51                 5                8   \n",
       "3                 0                  47                 9               17   \n",
       "4                 0                  31                 9               16   \n",
       "\n",
       "   num_procedures    ndc_code max_glu_serum A1Cresult change readmitted  \\\n",
       "0               2   0049-4110          None      None     Ch         NO   \n",
       "1               3  68071-1701          None      None     Ch         NO   \n",
       "2               0   0049-4110          None      None     Ch         NO   \n",
       "3               2  68071-1701          None      None     No        >30   \n",
       "4               6   47918-902          None      None     No        >30   \n",
       "\n",
       "  generic_drug_name_array  Acarbose  Afrezza  Amaryl  Avandia_2MG  \\\n",
       "0             [Glucotrol]         0        0       0            0   \n",
       "1             [Novolin R]         0        0       0            0   \n",
       "2             [Glucotrol]         0        0       0            0   \n",
       "3             [Novolin R]         0        0       0            0   \n",
       "4               [Afrezza]         0        1       0            0   \n",
       "\n",
       "   Avandia_4MG  Glimepiride  Glipizide  Glipizide_And_Metformin_Hcl  \\\n",
       "0            0            0          0                            0   \n",
       "1            0            0          0                            0   \n",
       "2            0            0          0                            0   \n",
       "3            0            0          0                            0   \n",
       "4            0            0          0                            0   \n",
       "\n",
       "   Glipizide_And_Metformin_Hydrochloride  Glucophage  Glucophage_XR  \\\n",
       "0                                      0           0              0   \n",
       "1                                      0           0              0   \n",
       "2                                      0           0              0   \n",
       "3                                      0           0              0   \n",
       "4                                      0           0              0   \n",
       "\n",
       "   Glucotrol  Glucotrol_XL  Glyburide  Glyburide_And_Metformin_Hydrochloride  \\\n",
       "0          1             0          0                                      0   \n",
       "1          0             0          0                                      0   \n",
       "2          1             0          0                                      0   \n",
       "3          0             0          0                                      0   \n",
       "4          0             0          0                                      0   \n",
       "\n",
       "   Glyburide-metformin_Hydrochloride  Glynase  Glyset  Humulin_R  \\\n",
       "0                                  0        0       0          0   \n",
       "1                                  0        0       0          0   \n",
       "2                                  0        0       0          0   \n",
       "3                                  0        0       0          0   \n",
       "4                                  0        0       0          0   \n",
       "\n",
       "   Metformin_Hcl  Metformin_Hydrochloride  \\\n",
       "0              0                        0   \n",
       "1              0                        0   \n",
       "2              0                        0   \n",
       "3              0                        0   \n",
       "4              0                        0   \n",
       "\n",
       "   Metformin_Hydrochloride_Extended_Release  Miglitol  Nateglinide  Novolin_R  \\\n",
       "0                                         0         0            0          0   \n",
       "1                                         0         0            0          1   \n",
       "2                                         0         0            0          0   \n",
       "3                                         0         0            0          1   \n",
       "4                                         0         0            0          0   \n",
       "\n",
       "   Pioglitazole_And_Metformin_Hydrochloride  Pioglitazone  \\\n",
       "0                                         0             0   \n",
       "1                                         0             0   \n",
       "2                                         0             0   \n",
       "3                                         0             0   \n",
       "4                                         0             0   \n",
       "\n",
       "   Pioglitazone_Hydrochloride_And_Glimepiride  Prandin  Repaglinide  Riomet  \\\n",
       "0                                           0        0            0       0   \n",
       "1                                           0        0            0       0   \n",
       "2                                           0        0            0       0   \n",
       "3                                           0        0            0       0   \n",
       "4                                           0        0            0       0   \n",
       "\n",
       "   Riomet_Er  Starlix  Tolazamide  Tolbutamide  \n",
       "0          0        0           0            0  \n",
       "1          0        0           0            0  \n",
       "2          0        0           0            0  \n",
       "3          0        0           0            0  \n",
       "4          0        0           0            0  "
      ]
     },
     "execution_count": 32,
     "metadata": {},
     "output_type": "execute_result"
    }
   ],
   "source": [
    "agg_drug_df.head()"
   ]
  },
  {
   "cell_type": "markdown",
   "metadata": {},
   "source": [
    "## Prepare Fields and Cast Dataset "
   ]
  },
  {
   "cell_type": "markdown",
   "metadata": {},
   "source": [
    "### Feature Selection"
   ]
  },
  {
   "cell_type": "markdown",
   "metadata": {},
   "source": [
    "**Question 5**: After you have aggregated the dataset to the right level, we can do feature selection (we will include the ndc_col_list, dummy column features too). In the block below, please select the categorical and numerical features that you will use for the model, so that we can create a dataset subset. \n",
    "\n",
    "For the payer_code and weight fields, please provide whether you think we should include/exclude the field in our model and give a justification/rationale for this based off of the statistics of the data. Feel free to use visualizations or summary statistics to support your choice."
   ]
  },
  {
   "cell_type": "markdown",
   "metadata": {},
   "source": [
    "Student response: \n",
    "1. As we can see from below analysis (value counts analysis for weight and Payer code),  54127 Patients (out of 56133 total patients) have null values for their weights.  This means that most of the Patient records do not have their weight information. So, it will not be impact our model if we exclude it from our feature list.  Therefore, we can make decision to exclude weight from feature columns list. \n",
    "\n",
    "2. Payer code  -  There are 23319 patient records with no payer code information. Payer code is for health insurance company. Since its a categorical variable with payer information, it will not make sense to impute null payer code with any specific payer code name ( where there is null value).  Also, Payer code information does not have much impact on patient selection for drug testing . Therefore, we will exclude it from feature selection list."
   ]
  },
  {
   "cell_type": "code",
   "execution_count": 33,
   "metadata": {},
   "outputs": [
    {
     "data": {
      "text/plain": [
       "?            54127\n",
       "[75-100)       840\n",
       "[50-75)        542\n",
       "[100-125)      392\n",
       "[125-150)      104\n",
       "[25-50)         58\n",
       "[0-25)          36\n",
       "[150-175)       23\n",
       "[175-200)        8\n",
       ">200             3\n",
       "Name: weight, dtype: int64"
      ]
     },
     "execution_count": 33,
     "metadata": {},
     "output_type": "execute_result"
    }
   ],
   "source": [
    "agg_drug_df['weight'].value_counts()"
   ]
  },
  {
   "cell_type": "code",
   "execution_count": 34,
   "metadata": {},
   "outputs": [
    {
     "data": {
      "text/plain": [
       "?     23319\n",
       "MC    16626\n",
       "HM     3093\n",
       "SP     2819\n",
       "BC     2684\n",
       "MD     1860\n",
       "CP     1558\n",
       "UN     1522\n",
       "CM     1120\n",
       "OG      562\n",
       "PO      372\n",
       "DM      305\n",
       "WC       98\n",
       "CH       90\n",
       "OT       50\n",
       "SI       28\n",
       "MP       26\n",
       "FR        1\n",
       "Name: payer_code, dtype: int64"
      ]
     },
     "execution_count": 34,
     "metadata": {},
     "output_type": "execute_result"
    }
   ],
   "source": [
    "agg_drug_df['payer_code'].value_counts()"
   ]
  },
  {
   "cell_type": "code",
   "execution_count": 35,
   "metadata": {},
   "outputs": [
    {
     "data": {
      "text/plain": [
       "['Acarbose',\n",
       " 'Afrezza',\n",
       " 'Amaryl',\n",
       " 'Avandia_2MG',\n",
       " 'Avandia_4MG',\n",
       " 'Glimepiride',\n",
       " 'Glipizide',\n",
       " 'Glipizide_And_Metformin_Hcl',\n",
       " 'Glipizide_And_Metformin_Hydrochloride',\n",
       " 'Glucophage',\n",
       " 'Glucophage_XR',\n",
       " 'Glucotrol',\n",
       " 'Glucotrol_XL',\n",
       " 'Glyburide',\n",
       " 'Glyburide_And_Metformin_Hydrochloride',\n",
       " 'Glyburide-metformin_Hydrochloride',\n",
       " 'Glynase',\n",
       " 'Glyset',\n",
       " 'Humulin_R',\n",
       " 'Metformin_Hcl',\n",
       " 'Metformin_Hydrochloride',\n",
       " 'Metformin_Hydrochloride_Extended_Release',\n",
       " 'Miglitol',\n",
       " 'Nateglinide',\n",
       " 'Novolin_R',\n",
       " 'Pioglitazole_And_Metformin_Hydrochloride',\n",
       " 'Pioglitazone',\n",
       " 'Pioglitazone_Hydrochloride_And_Glimepiride',\n",
       " 'Prandin',\n",
       " 'Repaglinide',\n",
       " 'Riomet',\n",
       " 'Riomet_Er',\n",
       " 'Starlix',\n",
       " 'Tolazamide',\n",
       " 'Tolbutamide']"
      ]
     },
     "execution_count": 35,
     "metadata": {},
     "output_type": "execute_result"
    }
   ],
   "source": [
    "ndc_col_list"
   ]
  },
  {
   "cell_type": "code",
   "execution_count": 36,
   "metadata": {},
   "outputs": [],
   "source": [
    "'''\n",
    "Please update the list to include the features you think are appropriate for the model \n",
    "and the field that we will be using to train the model. There are three required demographic features for the model \n",
    "and I have inserted a list with them already in the categorical list. \n",
    "These will be required for later steps when analyzing data splits and model biases.\n",
    "'''\n",
    "\n",
    "# required_demo_col_list = ['race', 'gender', 'age']\n",
    "# student_categorical_col_list = [ \"feature_A\", \"feature_B\", .... ] + required_demo_col_list + ndc_col_list\n",
    "# student_numerical_col_list = [ \"feature_A\", \"feature_B\", .... ]\n",
    "# PREDICTOR_FIELD = ''\n",
    "\n",
    "required_demo_col_list = ['race', 'gender', 'age']\n",
    "\n",
    "student_categorical_col_list = [ \"ndc_code\", \"readmitted\", 'admission_type_id', 'discharge_disposition_id',\n",
    "                                'max_glu_serum', 'admission_source_id', 'A1Cresult', 'primary_diagnosis_code',\n",
    "                                'other_diagnosis_codes', 'change'] + required_demo_col_list + ndc_col_list\n",
    "\n",
    "student_numerical_col_list = [ \"num_procedures\", \"num_medications\", 'number_diagnoses']\n",
    "\n",
    "PREDICTOR_FIELD = 'time_in_hospital'\n"
   ]
  },
  {
   "cell_type": "code",
   "execution_count": 37,
   "metadata": {},
   "outputs": [],
   "source": [
    "def select_model_features(df, categorical_col_list, numerical_col_list, PREDICTOR_FIELD, grouping_key='patient_nbr'):\n",
    "    selected_col_list = [grouping_key] + [PREDICTOR_FIELD] + categorical_col_list + numerical_col_list   \n",
    "    return agg_drug_df[selected_col_list]\n"
   ]
  },
  {
   "cell_type": "code",
   "execution_count": 38,
   "metadata": {},
   "outputs": [],
   "source": [
    "selected_features_df = select_model_features(agg_drug_df, student_categorical_col_list, student_numerical_col_list,\n",
    "                                            PREDICTOR_FIELD)"
   ]
  },
  {
   "cell_type": "markdown",
   "metadata": {},
   "source": [
    "Feature Columns "
   ]
  },
  {
   "cell_type": "code",
   "execution_count": 39,
   "metadata": {},
   "outputs": [
    {
     "data": {
      "text/html": [
       "<div>\n",
       "<style scoped>\n",
       "    .dataframe tbody tr th:only-of-type {\n",
       "        vertical-align: middle;\n",
       "    }\n",
       "\n",
       "    .dataframe tbody tr th {\n",
       "        vertical-align: top;\n",
       "    }\n",
       "\n",
       "    .dataframe thead th {\n",
       "        text-align: right;\n",
       "    }\n",
       "</style>\n",
       "<table border=\"1\" class=\"dataframe\">\n",
       "  <thead>\n",
       "    <tr style=\"text-align: right;\">\n",
       "      <th></th>\n",
       "      <th>patient_nbr</th>\n",
       "      <th>time_in_hospital</th>\n",
       "      <th>ndc_code</th>\n",
       "      <th>readmitted</th>\n",
       "      <th>admission_type_id</th>\n",
       "      <th>discharge_disposition_id</th>\n",
       "      <th>max_glu_serum</th>\n",
       "      <th>admission_source_id</th>\n",
       "      <th>A1Cresult</th>\n",
       "      <th>primary_diagnosis_code</th>\n",
       "      <th>other_diagnosis_codes</th>\n",
       "      <th>change</th>\n",
       "      <th>race</th>\n",
       "      <th>gender</th>\n",
       "      <th>age</th>\n",
       "      <th>Acarbose</th>\n",
       "      <th>Afrezza</th>\n",
       "      <th>Amaryl</th>\n",
       "      <th>Avandia_2MG</th>\n",
       "      <th>Avandia_4MG</th>\n",
       "      <th>Glimepiride</th>\n",
       "      <th>Glipizide</th>\n",
       "      <th>Glipizide_And_Metformin_Hcl</th>\n",
       "      <th>Glipizide_And_Metformin_Hydrochloride</th>\n",
       "      <th>Glucophage</th>\n",
       "      <th>Glucophage_XR</th>\n",
       "      <th>Glucotrol</th>\n",
       "      <th>Glucotrol_XL</th>\n",
       "      <th>Glyburide</th>\n",
       "      <th>Glyburide_And_Metformin_Hydrochloride</th>\n",
       "      <th>Glyburide-metformin_Hydrochloride</th>\n",
       "      <th>Glynase</th>\n",
       "      <th>Glyset</th>\n",
       "      <th>Humulin_R</th>\n",
       "      <th>Metformin_Hcl</th>\n",
       "      <th>Metformin_Hydrochloride</th>\n",
       "      <th>Metformin_Hydrochloride_Extended_Release</th>\n",
       "      <th>Miglitol</th>\n",
       "      <th>Nateglinide</th>\n",
       "      <th>Novolin_R</th>\n",
       "      <th>Pioglitazole_And_Metformin_Hydrochloride</th>\n",
       "      <th>Pioglitazone</th>\n",
       "      <th>Pioglitazone_Hydrochloride_And_Glimepiride</th>\n",
       "      <th>Prandin</th>\n",
       "      <th>Repaglinide</th>\n",
       "      <th>Riomet</th>\n",
       "      <th>Riomet_Er</th>\n",
       "      <th>Starlix</th>\n",
       "      <th>Tolazamide</th>\n",
       "      <th>Tolbutamide</th>\n",
       "      <th>num_procedures</th>\n",
       "      <th>num_medications</th>\n",
       "      <th>number_diagnoses</th>\n",
       "    </tr>\n",
       "  </thead>\n",
       "  <tbody>\n",
       "    <tr>\n",
       "      <th>0</th>\n",
       "      <td>48330783</td>\n",
       "      <td>13</td>\n",
       "      <td>0049-4110</td>\n",
       "      <td>NO</td>\n",
       "      <td>2</td>\n",
       "      <td>1</td>\n",
       "      <td>None</td>\n",
       "      <td>4</td>\n",
       "      <td>None</td>\n",
       "      <td>398</td>\n",
       "      <td>427|38</td>\n",
       "      <td>Ch</td>\n",
       "      <td>Caucasian</td>\n",
       "      <td>Female</td>\n",
       "      <td>[80-90)</td>\n",
       "      <td>0</td>\n",
       "      <td>0</td>\n",
       "      <td>0</td>\n",
       "      <td>0</td>\n",
       "      <td>0</td>\n",
       "      <td>0</td>\n",
       "      <td>0</td>\n",
       "      <td>0</td>\n",
       "      <td>0</td>\n",
       "      <td>0</td>\n",
       "      <td>0</td>\n",
       "      <td>1</td>\n",
       "      <td>0</td>\n",
       "      <td>0</td>\n",
       "      <td>0</td>\n",
       "      <td>0</td>\n",
       "      <td>0</td>\n",
       "      <td>0</td>\n",
       "      <td>0</td>\n",
       "      <td>0</td>\n",
       "      <td>0</td>\n",
       "      <td>0</td>\n",
       "      <td>0</td>\n",
       "      <td>0</td>\n",
       "      <td>0</td>\n",
       "      <td>0</td>\n",
       "      <td>0</td>\n",
       "      <td>0</td>\n",
       "      <td>0</td>\n",
       "      <td>0</td>\n",
       "      <td>0</td>\n",
       "      <td>0</td>\n",
       "      <td>0</td>\n",
       "      <td>0</td>\n",
       "      <td>0</td>\n",
       "      <td>2</td>\n",
       "      <td>28</td>\n",
       "      <td>8</td>\n",
       "    </tr>\n",
       "    <tr>\n",
       "      <th>1</th>\n",
       "      <td>63555939</td>\n",
       "      <td>12</td>\n",
       "      <td>68071-1701</td>\n",
       "      <td>NO</td>\n",
       "      <td>3</td>\n",
       "      <td>3</td>\n",
       "      <td>None</td>\n",
       "      <td>4</td>\n",
       "      <td>None</td>\n",
       "      <td>434</td>\n",
       "      <td>198|486</td>\n",
       "      <td>Ch</td>\n",
       "      <td>Caucasian</td>\n",
       "      <td>Female</td>\n",
       "      <td>[90-100)</td>\n",
       "      <td>0</td>\n",
       "      <td>0</td>\n",
       "      <td>0</td>\n",
       "      <td>0</td>\n",
       "      <td>0</td>\n",
       "      <td>0</td>\n",
       "      <td>0</td>\n",
       "      <td>0</td>\n",
       "      <td>0</td>\n",
       "      <td>0</td>\n",
       "      <td>0</td>\n",
       "      <td>0</td>\n",
       "      <td>0</td>\n",
       "      <td>0</td>\n",
       "      <td>0</td>\n",
       "      <td>0</td>\n",
       "      <td>0</td>\n",
       "      <td>0</td>\n",
       "      <td>0</td>\n",
       "      <td>0</td>\n",
       "      <td>0</td>\n",
       "      <td>0</td>\n",
       "      <td>0</td>\n",
       "      <td>0</td>\n",
       "      <td>1</td>\n",
       "      <td>0</td>\n",
       "      <td>0</td>\n",
       "      <td>0</td>\n",
       "      <td>0</td>\n",
       "      <td>0</td>\n",
       "      <td>0</td>\n",
       "      <td>0</td>\n",
       "      <td>0</td>\n",
       "      <td>0</td>\n",
       "      <td>0</td>\n",
       "      <td>3</td>\n",
       "      <td>18</td>\n",
       "      <td>8</td>\n",
       "    </tr>\n",
       "    <tr>\n",
       "      <th>2</th>\n",
       "      <td>42519267</td>\n",
       "      <td>1</td>\n",
       "      <td>0049-4110</td>\n",
       "      <td>NO</td>\n",
       "      <td>1</td>\n",
       "      <td>1</td>\n",
       "      <td>None</td>\n",
       "      <td>7</td>\n",
       "      <td>None</td>\n",
       "      <td>197</td>\n",
       "      <td>157|250</td>\n",
       "      <td>Ch</td>\n",
       "      <td>Caucasian</td>\n",
       "      <td>Male</td>\n",
       "      <td>[40-50)</td>\n",
       "      <td>0</td>\n",
       "      <td>0</td>\n",
       "      <td>0</td>\n",
       "      <td>0</td>\n",
       "      <td>0</td>\n",
       "      <td>0</td>\n",
       "      <td>0</td>\n",
       "      <td>0</td>\n",
       "      <td>0</td>\n",
       "      <td>0</td>\n",
       "      <td>0</td>\n",
       "      <td>1</td>\n",
       "      <td>0</td>\n",
       "      <td>0</td>\n",
       "      <td>0</td>\n",
       "      <td>0</td>\n",
       "      <td>0</td>\n",
       "      <td>0</td>\n",
       "      <td>0</td>\n",
       "      <td>0</td>\n",
       "      <td>0</td>\n",
       "      <td>0</td>\n",
       "      <td>0</td>\n",
       "      <td>0</td>\n",
       "      <td>0</td>\n",
       "      <td>0</td>\n",
       "      <td>0</td>\n",
       "      <td>0</td>\n",
       "      <td>0</td>\n",
       "      <td>0</td>\n",
       "      <td>0</td>\n",
       "      <td>0</td>\n",
       "      <td>0</td>\n",
       "      <td>0</td>\n",
       "      <td>0</td>\n",
       "      <td>0</td>\n",
       "      <td>8</td>\n",
       "      <td>5</td>\n",
       "    </tr>\n",
       "    <tr>\n",
       "      <th>3</th>\n",
       "      <td>89869032</td>\n",
       "      <td>9</td>\n",
       "      <td>68071-1701</td>\n",
       "      <td>&gt;30</td>\n",
       "      <td>1</td>\n",
       "      <td>1</td>\n",
       "      <td>None</td>\n",
       "      <td>7</td>\n",
       "      <td>None</td>\n",
       "      <td>250.7</td>\n",
       "      <td>403|996</td>\n",
       "      <td>No</td>\n",
       "      <td>AfricanAmerican</td>\n",
       "      <td>Female</td>\n",
       "      <td>[40-50)</td>\n",
       "      <td>0</td>\n",
       "      <td>0</td>\n",
       "      <td>0</td>\n",
       "      <td>0</td>\n",
       "      <td>0</td>\n",
       "      <td>0</td>\n",
       "      <td>0</td>\n",
       "      <td>0</td>\n",
       "      <td>0</td>\n",
       "      <td>0</td>\n",
       "      <td>0</td>\n",
       "      <td>0</td>\n",
       "      <td>0</td>\n",
       "      <td>0</td>\n",
       "      <td>0</td>\n",
       "      <td>0</td>\n",
       "      <td>0</td>\n",
       "      <td>0</td>\n",
       "      <td>0</td>\n",
       "      <td>0</td>\n",
       "      <td>0</td>\n",
       "      <td>0</td>\n",
       "      <td>0</td>\n",
       "      <td>0</td>\n",
       "      <td>1</td>\n",
       "      <td>0</td>\n",
       "      <td>0</td>\n",
       "      <td>0</td>\n",
       "      <td>0</td>\n",
       "      <td>0</td>\n",
       "      <td>0</td>\n",
       "      <td>0</td>\n",
       "      <td>0</td>\n",
       "      <td>0</td>\n",
       "      <td>0</td>\n",
       "      <td>2</td>\n",
       "      <td>17</td>\n",
       "      <td>9</td>\n",
       "    </tr>\n",
       "    <tr>\n",
       "      <th>4</th>\n",
       "      <td>82637451</td>\n",
       "      <td>3</td>\n",
       "      <td>47918-902</td>\n",
       "      <td>&gt;30</td>\n",
       "      <td>2</td>\n",
       "      <td>1</td>\n",
       "      <td>None</td>\n",
       "      <td>2</td>\n",
       "      <td>None</td>\n",
       "      <td>414</td>\n",
       "      <td>411|250</td>\n",
       "      <td>No</td>\n",
       "      <td>Caucasian</td>\n",
       "      <td>Male</td>\n",
       "      <td>[50-60)</td>\n",
       "      <td>0</td>\n",
       "      <td>1</td>\n",
       "      <td>0</td>\n",
       "      <td>0</td>\n",
       "      <td>0</td>\n",
       "      <td>0</td>\n",
       "      <td>0</td>\n",
       "      <td>0</td>\n",
       "      <td>0</td>\n",
       "      <td>0</td>\n",
       "      <td>0</td>\n",
       "      <td>0</td>\n",
       "      <td>0</td>\n",
       "      <td>0</td>\n",
       "      <td>0</td>\n",
       "      <td>0</td>\n",
       "      <td>0</td>\n",
       "      <td>0</td>\n",
       "      <td>0</td>\n",
       "      <td>0</td>\n",
       "      <td>0</td>\n",
       "      <td>0</td>\n",
       "      <td>0</td>\n",
       "      <td>0</td>\n",
       "      <td>0</td>\n",
       "      <td>0</td>\n",
       "      <td>0</td>\n",
       "      <td>0</td>\n",
       "      <td>0</td>\n",
       "      <td>0</td>\n",
       "      <td>0</td>\n",
       "      <td>0</td>\n",
       "      <td>0</td>\n",
       "      <td>0</td>\n",
       "      <td>0</td>\n",
       "      <td>6</td>\n",
       "      <td>16</td>\n",
       "      <td>9</td>\n",
       "    </tr>\n",
       "    <tr>\n",
       "      <th>...</th>\n",
       "      <td>...</td>\n",
       "      <td>...</td>\n",
       "      <td>...</td>\n",
       "      <td>...</td>\n",
       "      <td>...</td>\n",
       "      <td>...</td>\n",
       "      <td>...</td>\n",
       "      <td>...</td>\n",
       "      <td>...</td>\n",
       "      <td>...</td>\n",
       "      <td>...</td>\n",
       "      <td>...</td>\n",
       "      <td>...</td>\n",
       "      <td>...</td>\n",
       "      <td>...</td>\n",
       "      <td>...</td>\n",
       "      <td>...</td>\n",
       "      <td>...</td>\n",
       "      <td>...</td>\n",
       "      <td>...</td>\n",
       "      <td>...</td>\n",
       "      <td>...</td>\n",
       "      <td>...</td>\n",
       "      <td>...</td>\n",
       "      <td>...</td>\n",
       "      <td>...</td>\n",
       "      <td>...</td>\n",
       "      <td>...</td>\n",
       "      <td>...</td>\n",
       "      <td>...</td>\n",
       "      <td>...</td>\n",
       "      <td>...</td>\n",
       "      <td>...</td>\n",
       "      <td>...</td>\n",
       "      <td>...</td>\n",
       "      <td>...</td>\n",
       "      <td>...</td>\n",
       "      <td>...</td>\n",
       "      <td>...</td>\n",
       "      <td>...</td>\n",
       "      <td>...</td>\n",
       "      <td>...</td>\n",
       "      <td>...</td>\n",
       "      <td>...</td>\n",
       "      <td>...</td>\n",
       "      <td>...</td>\n",
       "      <td>...</td>\n",
       "      <td>...</td>\n",
       "      <td>...</td>\n",
       "      <td>...</td>\n",
       "      <td>...</td>\n",
       "      <td>...</td>\n",
       "      <td>...</td>\n",
       "    </tr>\n",
       "    <tr>\n",
       "      <th>56128</th>\n",
       "      <td>183087545</td>\n",
       "      <td>9</td>\n",
       "      <td>47918-902</td>\n",
       "      <td>&gt;30</td>\n",
       "      <td>1</td>\n",
       "      <td>1</td>\n",
       "      <td>None</td>\n",
       "      <td>7</td>\n",
       "      <td>&gt;7</td>\n",
       "      <td>574</td>\n",
       "      <td>574|250.02</td>\n",
       "      <td>Ch</td>\n",
       "      <td>Caucasian</td>\n",
       "      <td>Female</td>\n",
       "      <td>[70-80)</td>\n",
       "      <td>0</td>\n",
       "      <td>1</td>\n",
       "      <td>0</td>\n",
       "      <td>0</td>\n",
       "      <td>0</td>\n",
       "      <td>0</td>\n",
       "      <td>0</td>\n",
       "      <td>0</td>\n",
       "      <td>0</td>\n",
       "      <td>0</td>\n",
       "      <td>0</td>\n",
       "      <td>0</td>\n",
       "      <td>0</td>\n",
       "      <td>0</td>\n",
       "      <td>0</td>\n",
       "      <td>0</td>\n",
       "      <td>0</td>\n",
       "      <td>0</td>\n",
       "      <td>0</td>\n",
       "      <td>0</td>\n",
       "      <td>0</td>\n",
       "      <td>0</td>\n",
       "      <td>0</td>\n",
       "      <td>0</td>\n",
       "      <td>0</td>\n",
       "      <td>0</td>\n",
       "      <td>0</td>\n",
       "      <td>0</td>\n",
       "      <td>0</td>\n",
       "      <td>0</td>\n",
       "      <td>0</td>\n",
       "      <td>0</td>\n",
       "      <td>0</td>\n",
       "      <td>0</td>\n",
       "      <td>0</td>\n",
       "      <td>2</td>\n",
       "      <td>33</td>\n",
       "      <td>9</td>\n",
       "    </tr>\n",
       "    <tr>\n",
       "      <th>56129</th>\n",
       "      <td>188574944</td>\n",
       "      <td>14</td>\n",
       "      <td>0049-0178</td>\n",
       "      <td>&gt;30</td>\n",
       "      <td>1</td>\n",
       "      <td>1</td>\n",
       "      <td>None</td>\n",
       "      <td>7</td>\n",
       "      <td>&gt;8</td>\n",
       "      <td>592</td>\n",
       "      <td>599|518</td>\n",
       "      <td>Ch</td>\n",
       "      <td>Other</td>\n",
       "      <td>Female</td>\n",
       "      <td>[40-50)</td>\n",
       "      <td>0</td>\n",
       "      <td>0</td>\n",
       "      <td>0</td>\n",
       "      <td>0</td>\n",
       "      <td>0</td>\n",
       "      <td>0</td>\n",
       "      <td>0</td>\n",
       "      <td>0</td>\n",
       "      <td>0</td>\n",
       "      <td>0</td>\n",
       "      <td>0</td>\n",
       "      <td>0</td>\n",
       "      <td>1</td>\n",
       "      <td>0</td>\n",
       "      <td>0</td>\n",
       "      <td>0</td>\n",
       "      <td>0</td>\n",
       "      <td>0</td>\n",
       "      <td>0</td>\n",
       "      <td>0</td>\n",
       "      <td>0</td>\n",
       "      <td>0</td>\n",
       "      <td>0</td>\n",
       "      <td>0</td>\n",
       "      <td>0</td>\n",
       "      <td>0</td>\n",
       "      <td>0</td>\n",
       "      <td>0</td>\n",
       "      <td>0</td>\n",
       "      <td>0</td>\n",
       "      <td>0</td>\n",
       "      <td>0</td>\n",
       "      <td>0</td>\n",
       "      <td>0</td>\n",
       "      <td>0</td>\n",
       "      <td>6</td>\n",
       "      <td>26</td>\n",
       "      <td>9</td>\n",
       "    </tr>\n",
       "    <tr>\n",
       "      <th>56130</th>\n",
       "      <td>140199494</td>\n",
       "      <td>2</td>\n",
       "      <td>47918-902</td>\n",
       "      <td>&gt;30</td>\n",
       "      <td>1</td>\n",
       "      <td>1</td>\n",
       "      <td>None</td>\n",
       "      <td>7</td>\n",
       "      <td>None</td>\n",
       "      <td>996</td>\n",
       "      <td>585|403</td>\n",
       "      <td>No</td>\n",
       "      <td>Other</td>\n",
       "      <td>Female</td>\n",
       "      <td>[60-70)</td>\n",
       "      <td>0</td>\n",
       "      <td>1</td>\n",
       "      <td>0</td>\n",
       "      <td>0</td>\n",
       "      <td>0</td>\n",
       "      <td>0</td>\n",
       "      <td>0</td>\n",
       "      <td>0</td>\n",
       "      <td>0</td>\n",
       "      <td>0</td>\n",
       "      <td>0</td>\n",
       "      <td>0</td>\n",
       "      <td>0</td>\n",
       "      <td>0</td>\n",
       "      <td>0</td>\n",
       "      <td>0</td>\n",
       "      <td>0</td>\n",
       "      <td>0</td>\n",
       "      <td>0</td>\n",
       "      <td>0</td>\n",
       "      <td>0</td>\n",
       "      <td>0</td>\n",
       "      <td>0</td>\n",
       "      <td>0</td>\n",
       "      <td>0</td>\n",
       "      <td>0</td>\n",
       "      <td>0</td>\n",
       "      <td>0</td>\n",
       "      <td>0</td>\n",
       "      <td>0</td>\n",
       "      <td>0</td>\n",
       "      <td>0</td>\n",
       "      <td>0</td>\n",
       "      <td>0</td>\n",
       "      <td>0</td>\n",
       "      <td>6</td>\n",
       "      <td>17</td>\n",
       "      <td>9</td>\n",
       "    </tr>\n",
       "    <tr>\n",
       "      <th>56131</th>\n",
       "      <td>181593374</td>\n",
       "      <td>5</td>\n",
       "      <td>68071-1701</td>\n",
       "      <td>NO</td>\n",
       "      <td>1</td>\n",
       "      <td>1</td>\n",
       "      <td>None</td>\n",
       "      <td>7</td>\n",
       "      <td>None</td>\n",
       "      <td>491</td>\n",
       "      <td>518|511</td>\n",
       "      <td>No</td>\n",
       "      <td>Caucasian</td>\n",
       "      <td>Female</td>\n",
       "      <td>[70-80)</td>\n",
       "      <td>0</td>\n",
       "      <td>0</td>\n",
       "      <td>0</td>\n",
       "      <td>0</td>\n",
       "      <td>0</td>\n",
       "      <td>0</td>\n",
       "      <td>0</td>\n",
       "      <td>0</td>\n",
       "      <td>0</td>\n",
       "      <td>0</td>\n",
       "      <td>0</td>\n",
       "      <td>0</td>\n",
       "      <td>0</td>\n",
       "      <td>0</td>\n",
       "      <td>0</td>\n",
       "      <td>0</td>\n",
       "      <td>0</td>\n",
       "      <td>0</td>\n",
       "      <td>0</td>\n",
       "      <td>0</td>\n",
       "      <td>0</td>\n",
       "      <td>0</td>\n",
       "      <td>0</td>\n",
       "      <td>0</td>\n",
       "      <td>1</td>\n",
       "      <td>0</td>\n",
       "      <td>0</td>\n",
       "      <td>0</td>\n",
       "      <td>0</td>\n",
       "      <td>0</td>\n",
       "      <td>0</td>\n",
       "      <td>0</td>\n",
       "      <td>0</td>\n",
       "      <td>0</td>\n",
       "      <td>0</td>\n",
       "      <td>1</td>\n",
       "      <td>16</td>\n",
       "      <td>9</td>\n",
       "    </tr>\n",
       "    <tr>\n",
       "      <th>56132</th>\n",
       "      <td>120975314</td>\n",
       "      <td>5</td>\n",
       "      <td>47918-902</td>\n",
       "      <td>NO</td>\n",
       "      <td>1</td>\n",
       "      <td>1</td>\n",
       "      <td>None</td>\n",
       "      <td>7</td>\n",
       "      <td>None</td>\n",
       "      <td>292</td>\n",
       "      <td>8|304</td>\n",
       "      <td>Ch</td>\n",
       "      <td>Caucasian</td>\n",
       "      <td>Female</td>\n",
       "      <td>[80-90)</td>\n",
       "      <td>0</td>\n",
       "      <td>1</td>\n",
       "      <td>0</td>\n",
       "      <td>0</td>\n",
       "      <td>0</td>\n",
       "      <td>0</td>\n",
       "      <td>0</td>\n",
       "      <td>0</td>\n",
       "      <td>0</td>\n",
       "      <td>0</td>\n",
       "      <td>0</td>\n",
       "      <td>0</td>\n",
       "      <td>0</td>\n",
       "      <td>0</td>\n",
       "      <td>0</td>\n",
       "      <td>0</td>\n",
       "      <td>0</td>\n",
       "      <td>0</td>\n",
       "      <td>0</td>\n",
       "      <td>0</td>\n",
       "      <td>0</td>\n",
       "      <td>0</td>\n",
       "      <td>0</td>\n",
       "      <td>0</td>\n",
       "      <td>0</td>\n",
       "      <td>0</td>\n",
       "      <td>0</td>\n",
       "      <td>0</td>\n",
       "      <td>0</td>\n",
       "      <td>0</td>\n",
       "      <td>0</td>\n",
       "      <td>0</td>\n",
       "      <td>0</td>\n",
       "      <td>0</td>\n",
       "      <td>0</td>\n",
       "      <td>1</td>\n",
       "      <td>22</td>\n",
       "      <td>9</td>\n",
       "    </tr>\n",
       "  </tbody>\n",
       "</table>\n",
       "<p>56133 rows × 53 columns</p>\n",
       "</div>"
      ],
      "text/plain": [
       "       patient_nbr  time_in_hospital    ndc_code readmitted  \\\n",
       "0         48330783                13   0049-4110         NO   \n",
       "1         63555939                12  68071-1701         NO   \n",
       "2         42519267                 1   0049-4110         NO   \n",
       "3         89869032                 9  68071-1701        >30   \n",
       "4         82637451                 3   47918-902        >30   \n",
       "...            ...               ...         ...        ...   \n",
       "56128    183087545                 9   47918-902        >30   \n",
       "56129    188574944                14   0049-0178        >30   \n",
       "56130    140199494                 2   47918-902        >30   \n",
       "56131    181593374                 5  68071-1701         NO   \n",
       "56132    120975314                 5   47918-902         NO   \n",
       "\n",
       "       admission_type_id  discharge_disposition_id max_glu_serum  \\\n",
       "0                      2                         1          None   \n",
       "1                      3                         3          None   \n",
       "2                      1                         1          None   \n",
       "3                      1                         1          None   \n",
       "4                      2                         1          None   \n",
       "...                  ...                       ...           ...   \n",
       "56128                  1                         1          None   \n",
       "56129                  1                         1          None   \n",
       "56130                  1                         1          None   \n",
       "56131                  1                         1          None   \n",
       "56132                  1                         1          None   \n",
       "\n",
       "       admission_source_id A1Cresult primary_diagnosis_code  \\\n",
       "0                        4      None                    398   \n",
       "1                        4      None                    434   \n",
       "2                        7      None                    197   \n",
       "3                        7      None                  250.7   \n",
       "4                        2      None                    414   \n",
       "...                    ...       ...                    ...   \n",
       "56128                    7        >7                    574   \n",
       "56129                    7        >8                    592   \n",
       "56130                    7      None                    996   \n",
       "56131                    7      None                    491   \n",
       "56132                    7      None                    292   \n",
       "\n",
       "      other_diagnosis_codes change             race  gender       age  \\\n",
       "0                    427|38     Ch        Caucasian  Female   [80-90)   \n",
       "1                   198|486     Ch        Caucasian  Female  [90-100)   \n",
       "2                   157|250     Ch        Caucasian    Male   [40-50)   \n",
       "3                   403|996     No  AfricanAmerican  Female   [40-50)   \n",
       "4                   411|250     No        Caucasian    Male   [50-60)   \n",
       "...                     ...    ...              ...     ...       ...   \n",
       "56128            574|250.02     Ch        Caucasian  Female   [70-80)   \n",
       "56129               599|518     Ch            Other  Female   [40-50)   \n",
       "56130               585|403     No            Other  Female   [60-70)   \n",
       "56131               518|511     No        Caucasian  Female   [70-80)   \n",
       "56132                 8|304     Ch        Caucasian  Female   [80-90)   \n",
       "\n",
       "       Acarbose  Afrezza  Amaryl  Avandia_2MG  Avandia_4MG  Glimepiride  \\\n",
       "0             0        0       0            0            0            0   \n",
       "1             0        0       0            0            0            0   \n",
       "2             0        0       0            0            0            0   \n",
       "3             0        0       0            0            0            0   \n",
       "4             0        1       0            0            0            0   \n",
       "...         ...      ...     ...          ...          ...          ...   \n",
       "56128         0        1       0            0            0            0   \n",
       "56129         0        0       0            0            0            0   \n",
       "56130         0        1       0            0            0            0   \n",
       "56131         0        0       0            0            0            0   \n",
       "56132         0        1       0            0            0            0   \n",
       "\n",
       "       Glipizide  Glipizide_And_Metformin_Hcl  \\\n",
       "0              0                            0   \n",
       "1              0                            0   \n",
       "2              0                            0   \n",
       "3              0                            0   \n",
       "4              0                            0   \n",
       "...          ...                          ...   \n",
       "56128          0                            0   \n",
       "56129          0                            0   \n",
       "56130          0                            0   \n",
       "56131          0                            0   \n",
       "56132          0                            0   \n",
       "\n",
       "       Glipizide_And_Metformin_Hydrochloride  Glucophage  Glucophage_XR  \\\n",
       "0                                          0           0              0   \n",
       "1                                          0           0              0   \n",
       "2                                          0           0              0   \n",
       "3                                          0           0              0   \n",
       "4                                          0           0              0   \n",
       "...                                      ...         ...            ...   \n",
       "56128                                      0           0              0   \n",
       "56129                                      0           0              0   \n",
       "56130                                      0           0              0   \n",
       "56131                                      0           0              0   \n",
       "56132                                      0           0              0   \n",
       "\n",
       "       Glucotrol  Glucotrol_XL  Glyburide  \\\n",
       "0              1             0          0   \n",
       "1              0             0          0   \n",
       "2              1             0          0   \n",
       "3              0             0          0   \n",
       "4              0             0          0   \n",
       "...          ...           ...        ...   \n",
       "56128          0             0          0   \n",
       "56129          0             1          0   \n",
       "56130          0             0          0   \n",
       "56131          0             0          0   \n",
       "56132          0             0          0   \n",
       "\n",
       "       Glyburide_And_Metformin_Hydrochloride  \\\n",
       "0                                          0   \n",
       "1                                          0   \n",
       "2                                          0   \n",
       "3                                          0   \n",
       "4                                          0   \n",
       "...                                      ...   \n",
       "56128                                      0   \n",
       "56129                                      0   \n",
       "56130                                      0   \n",
       "56131                                      0   \n",
       "56132                                      0   \n",
       "\n",
       "       Glyburide-metformin_Hydrochloride  Glynase  Glyset  Humulin_R  \\\n",
       "0                                      0        0       0          0   \n",
       "1                                      0        0       0          0   \n",
       "2                                      0        0       0          0   \n",
       "3                                      0        0       0          0   \n",
       "4                                      0        0       0          0   \n",
       "...                                  ...      ...     ...        ...   \n",
       "56128                                  0        0       0          0   \n",
       "56129                                  0        0       0          0   \n",
       "56130                                  0        0       0          0   \n",
       "56131                                  0        0       0          0   \n",
       "56132                                  0        0       0          0   \n",
       "\n",
       "       Metformin_Hcl  Metformin_Hydrochloride  \\\n",
       "0                  0                        0   \n",
       "1                  0                        0   \n",
       "2                  0                        0   \n",
       "3                  0                        0   \n",
       "4                  0                        0   \n",
       "...              ...                      ...   \n",
       "56128              0                        0   \n",
       "56129              0                        0   \n",
       "56130              0                        0   \n",
       "56131              0                        0   \n",
       "56132              0                        0   \n",
       "\n",
       "       Metformin_Hydrochloride_Extended_Release  Miglitol  Nateglinide  \\\n",
       "0                                             0         0            0   \n",
       "1                                             0         0            0   \n",
       "2                                             0         0            0   \n",
       "3                                             0         0            0   \n",
       "4                                             0         0            0   \n",
       "...                                         ...       ...          ...   \n",
       "56128                                         0         0            0   \n",
       "56129                                         0         0            0   \n",
       "56130                                         0         0            0   \n",
       "56131                                         0         0            0   \n",
       "56132                                         0         0            0   \n",
       "\n",
       "       Novolin_R  Pioglitazole_And_Metformin_Hydrochloride  Pioglitazone  \\\n",
       "0              0                                         0             0   \n",
       "1              1                                         0             0   \n",
       "2              0                                         0             0   \n",
       "3              1                                         0             0   \n",
       "4              0                                         0             0   \n",
       "...          ...                                       ...           ...   \n",
       "56128          0                                         0             0   \n",
       "56129          0                                         0             0   \n",
       "56130          0                                         0             0   \n",
       "56131          1                                         0             0   \n",
       "56132          0                                         0             0   \n",
       "\n",
       "       Pioglitazone_Hydrochloride_And_Glimepiride  Prandin  Repaglinide  \\\n",
       "0                                               0        0            0   \n",
       "1                                               0        0            0   \n",
       "2                                               0        0            0   \n",
       "3                                               0        0            0   \n",
       "4                                               0        0            0   \n",
       "...                                           ...      ...          ...   \n",
       "56128                                           0        0            0   \n",
       "56129                                           0        0            0   \n",
       "56130                                           0        0            0   \n",
       "56131                                           0        0            0   \n",
       "56132                                           0        0            0   \n",
       "\n",
       "       Riomet  Riomet_Er  Starlix  Tolazamide  Tolbutamide  num_procedures  \\\n",
       "0           0          0        0           0            0               2   \n",
       "1           0          0        0           0            0               3   \n",
       "2           0          0        0           0            0               0   \n",
       "3           0          0        0           0            0               2   \n",
       "4           0          0        0           0            0               6   \n",
       "...       ...        ...      ...         ...          ...             ...   \n",
       "56128       0          0        0           0            0               2   \n",
       "56129       0          0        0           0            0               6   \n",
       "56130       0          0        0           0            0               6   \n",
       "56131       0          0        0           0            0               1   \n",
       "56132       0          0        0           0            0               1   \n",
       "\n",
       "       num_medications  number_diagnoses  \n",
       "0                   28                 8  \n",
       "1                   18                 8  \n",
       "2                    8                 5  \n",
       "3                   17                 9  \n",
       "4                   16                 9  \n",
       "...                ...               ...  \n",
       "56128               33                 9  \n",
       "56129               26                 9  \n",
       "56130               17                 9  \n",
       "56131               16                 9  \n",
       "56132               22                 9  \n",
       "\n",
       "[56133 rows x 53 columns]"
      ]
     },
     "execution_count": 39,
     "metadata": {},
     "output_type": "execute_result"
    }
   ],
   "source": [
    "selected_features_df"
   ]
  },
  {
   "cell_type": "code",
   "execution_count": 40,
   "metadata": {},
   "outputs": [
    {
     "data": {
      "text/plain": [
       "Index(['patient_nbr', 'time_in_hospital', 'ndc_code', 'readmitted',\n",
       "       'admission_type_id', 'discharge_disposition_id', 'max_glu_serum',\n",
       "       'admission_source_id', 'A1Cresult', 'primary_diagnosis_code',\n",
       "       'other_diagnosis_codes', 'change', 'race', 'gender', 'age', 'Acarbose',\n",
       "       'Afrezza', 'Amaryl', 'Avandia_2MG', 'Avandia_4MG', 'Glimepiride',\n",
       "       'Glipizide', 'Glipizide_And_Metformin_Hcl',\n",
       "       'Glipizide_And_Metformin_Hydrochloride', 'Glucophage', 'Glucophage_XR',\n",
       "       'Glucotrol', 'Glucotrol_XL', 'Glyburide',\n",
       "       'Glyburide_And_Metformin_Hydrochloride',\n",
       "       'Glyburide-metformin_Hydrochloride', 'Glynase', 'Glyset', 'Humulin_R',\n",
       "       'Metformin_Hcl', 'Metformin_Hydrochloride',\n",
       "       'Metformin_Hydrochloride_Extended_Release', 'Miglitol', 'Nateglinide',\n",
       "       'Novolin_R', 'Pioglitazole_And_Metformin_Hydrochloride', 'Pioglitazone',\n",
       "       'Pioglitazone_Hydrochloride_And_Glimepiride', 'Prandin', 'Repaglinide',\n",
       "       'Riomet', 'Riomet_Er', 'Starlix', 'Tolazamide', 'Tolbutamide',\n",
       "       'num_procedures', 'num_medications', 'number_diagnoses'],\n",
       "      dtype='object')"
      ]
     },
     "execution_count": 40,
     "metadata": {},
     "output_type": "execute_result"
    }
   ],
   "source": [
    "# Feature column list \n",
    "selected_features_df.columns"
   ]
  },
  {
   "cell_type": "markdown",
   "metadata": {},
   "source": [
    "### Preprocess Dataset - Casting and Imputing  "
   ]
  },
  {
   "cell_type": "markdown",
   "metadata": {},
   "source": [
    "We will cast and impute the dataset before splitting so that we do not have to repeat these steps across the splits in the next step. For imputing, there can be deeper analysis into which features to impute and how to impute but for the sake of time, we are taking a general strategy of imputing zero for only numerical features. \n",
    "\n",
    "OPTIONAL: What are some potential issues with this approach? Can you recommend a better way and also implement it?"
   ]
  },
  {
   "cell_type": "code",
   "execution_count": 41,
   "metadata": {},
   "outputs": [
    {
     "name": "stderr",
     "output_type": "stream",
     "text": [
      "/home/workspace/starter_code/utils.py:29: SettingWithCopyWarning: \n",
      "A value is trying to be set on a copy of a slice from a DataFrame.\n",
      "Try using .loc[row_indexer,col_indexer] = value instead\n",
      "\n",
      "See the caveats in the documentation: https://pandas.pydata.org/pandas-docs/stable/user_guide/indexing.html#returning-a-view-versus-a-copy\n",
      "  df[predictor] = df[predictor].astype(float)\n",
      "/home/workspace/starter_code/utils.py:31: SettingWithCopyWarning: \n",
      "A value is trying to be set on a copy of a slice from a DataFrame.\n",
      "Try using .loc[row_indexer,col_indexer] = value instead\n",
      "\n",
      "See the caveats in the documentation: https://pandas.pydata.org/pandas-docs/stable/user_guide/indexing.html#returning-a-view-versus-a-copy\n",
      "  df[c] = cast_df(df, c, d_type=str)\n",
      "/home/workspace/starter_code/utils.py:33: SettingWithCopyWarning: \n",
      "A value is trying to be set on a copy of a slice from a DataFrame.\n",
      "Try using .loc[row_indexer,col_indexer] = value instead\n",
      "\n",
      "See the caveats in the documentation: https://pandas.pydata.org/pandas-docs/stable/user_guide/indexing.html#returning-a-view-versus-a-copy\n",
      "  df[numerical_column] = impute_df(df, numerical_column, numerical_impute_value)\n"
     ]
    }
   ],
   "source": [
    "processed_df = preprocess_df(selected_features_df, student_categorical_col_list, \n",
    "        student_numerical_col_list, PREDICTOR_FIELD, categorical_impute_value='nan', numerical_impute_value=0)"
   ]
  },
  {
   "cell_type": "markdown",
   "metadata": {},
   "source": [
    "## Split Dataset into Train, Validation, and Test Partitions"
   ]
  },
  {
   "cell_type": "markdown",
   "metadata": {},
   "source": [
    "**Question 6**: In order to prepare the data for being trained and evaluated by a deep learning model, we will split the dataset into three partitions, with the validation partition used for optimizing the model hyperparameters during training. One of the key parts is that we need to be sure that the data does not accidently leak across partitions.\n",
    "\n",
    "Please complete the function below to split the input dataset into three partitions(train, validation, test) with the following requirements.\n",
    "- Approximately 60%/20%/20%  train/validation/test split\n",
    "- Randomly sample different patients into each data partition\n",
    "- **IMPORTANT** Make sure that a patient's data is not in more than one partition, so that we can avoid possible data leakage.\n",
    "- Make sure that the total number of unique patients across the splits is equal to the total number of unique patients in the original dataset\n",
    "- Total number of rows in original dataset = sum of rows across all three dataset partitions\n",
    "\n",
    "Student Response >>  Please see below for responses.  Here is overall test results:\n",
    "\n",
    "******Overall Training, Validation and Test Datasets Record Counts - Break Down************\n",
    "             \n",
    "Total number of records in Original dataset :   56133\n",
    "Total number of records in Training dataset :   33680\n",
    "Total number of records in Validation dataset : 11226\n",
    "Total number of records in Test dataset :       11227\n",
    "          \n",
    "Training Dataset   split % :                    60.00\n",
    "Validation Dataset split % :                    20.00\n",
    "Validation Dataset split % :                    20.00"
   ]
  },
  {
   "cell_type": "code",
   "execution_count": 42,
   "metadata": {},
   "outputs": [],
   "source": [
    "from student_utils import patient_dataset_splitter\n",
    "d_train, d_val, d_test = patient_dataset_splitter(processed_df, 'patient_nbr')"
   ]
  },
  {
   "cell_type": "code",
   "execution_count": 43,
   "metadata": {},
   "outputs": [
    {
     "name": "stdout",
     "output_type": "stream",
     "text": [
      "******Overall Training, Validation and Test Datasets Record Counts - Break Down************\n",
      "             \n",
      "Total number of records in Original dataset :   56133\n",
      "Total number of records in Training dataset :   33680\n",
      "Total number of records in Validation dataset : 11226\n",
      "Total number of records in Test dataset :       11227\n",
      "          \n",
      "Training Dataset   split % :                    60.00\n",
      "Validation Dataset split % :                    20.00\n",
      "Validation Dataset split % :                    20.00\n"
     ]
    }
   ],
   "source": [
    "print( '******Overall Training, Validation and Test Datasets Record Counts - Break Down************')\n",
    "print('             ')\n",
    "print(f'Total number of records in Original dataset :   {len(processed_df)}')\n",
    "print(f'Total number of records in Training dataset :   {len(d_train)}')\n",
    "print(f'Total number of records in Validation dataset : {len(d_val)}')\n",
    "print(f'Total number of records in Test dataset :       {len(d_test)}')\n",
    "print('          ')\n",
    "print(f'Training Dataset   split % :                    {((len(d_train)*100)/(len(processed_df))):.2f}')\n",
    "print(f'Validation Dataset split % :                    {((len(d_val)*100)/(len(processed_df))):.2f}')\n",
    "print(f'Validation Dataset split % :                    {((len(d_test)*100)/(len(processed_df))):.2f}')"
   ]
  },
  {
   "cell_type": "code",
   "execution_count": 44,
   "metadata": {},
   "outputs": [
    {
     "name": "stdout",
     "output_type": "stream",
     "text": [
      "Test passed : Total Number of rows in the orginal dataset = Train Record Count + Validation Record Count + Test Record Count\n"
     ]
    }
   ],
   "source": [
    "assert len(d_train) + len(d_val) + len(d_test) == len(processed_df)\n",
    "print(\"Test passed : Total Number of rows in the orginal dataset = Train Record Count + Validation Record Count + Test Record Count\")"
   ]
  },
  {
   "cell_type": "code",
   "execution_count": 45,
   "metadata": {},
   "outputs": [
    {
     "name": "stdout",
     "output_type": "stream",
     "text": [
      "Total Unique Patient Record Count in Training Dataset  : 33680\n",
      "Total Unique Patient Record Count in Validation Dataset : 11226\n",
      "Total Unique Patient Record Count in Test Dataset       : 11227\n",
      "Total Unique Patient Record Count in Original Dataset   : 56133\n",
      "       \n",
      "Test passed for number of unique patients being equal!\n"
     ]
    }
   ],
   "source": [
    "assert (d_train['patient_nbr'].nunique() + d_val['patient_nbr'].nunique() + d_test['patient_nbr'].nunique()) == agg_drug_df['patient_nbr'].nunique()\n",
    "\n",
    "print(f\"Total Unique Patient Record Count in Training Dataset  : {d_train['patient_nbr'].nunique()}\")\n",
    "print(f\"Total Unique Patient Record Count in Validation Dataset : {d_val['patient_nbr'].nunique()}\")\n",
    "print(f\"Total Unique Patient Record Count in Test Dataset       : {d_test['patient_nbr'].nunique()}\")\n",
    "print(f\"Total Unique Patient Record Count in Original Dataset   : {processed_df['patient_nbr'].nunique()}\")\n",
    "print ('       ')   \n",
    "print(\"Test passed for number of unique patients being equal!\")"
   ]
  },
  {
   "cell_type": "markdown",
   "metadata": {},
   "source": [
    "## Demographic Representation Analysis of Split"
   ]
  },
  {
   "cell_type": "markdown",
   "metadata": {},
   "source": [
    "After the split, we should check to see the distribution of key features/groups and make sure that there is representative samples across the partitions. The show_group_stats_viz function in the utils.py file can be used to group and visualize different groups and dataframe partitions."
   ]
  },
  {
   "cell_type": "markdown",
   "metadata": {},
   "source": [
    "### Label Distribution Across Partitions"
   ]
  },
  {
   "cell_type": "markdown",
   "metadata": {},
   "source": [
    "Below you can see the distributution of the label across your splits. Are the histogram distribution shapes similar across partitions?\n",
    "\n",
    "Respone >>> \n",
    "Based on below visuals, Label field (PREDICTOR Field) :'Time in Hospital' distribution for Original,Training,Validation and Test datasets look similar."
   ]
  },
  {
   "cell_type": "code",
   "execution_count": 46,
   "metadata": {},
   "outputs": [
    {
     "name": "stdout",
     "output_type": "stream",
     "text": [
      "time_in_hospital\n",
      "1.0      7532\n",
      "2.0      9473\n",
      "3.0     10028\n",
      "4.0      7681\n",
      "5.0      5566\n",
      "6.0      4122\n",
      "7.0      3231\n",
      "8.0      2419\n",
      "9.0      1655\n",
      "10.0     1292\n",
      "11.0     1054\n",
      "12.0      807\n",
      "13.0      702\n",
      "14.0      571\n",
      "dtype: int64\n",
      "AxesSubplot(0.125,0.125;0.775x0.755)\n"
     ]
    },
    {
     "data": {
      "text/plain": [
       "Text(0.5, 1.0, 'Patient Time in Hospital - Distribution - for Original Dataset')"
      ]
     },
     "execution_count": 46,
     "metadata": {},
     "output_type": "execute_result"
    },
    {
     "data": {
      "image/png": "[encoded data removed]",
      "text/plain": [
       "<Figure size 432x288 with 1 Axes>"
      ]
     },
     "metadata": {
      "needs_background": "light"
     },
     "output_type": "display_data"
    }
   ],
   "source": [
    "# Patient Time in Hospital - Distribution - for Original Dataset\n",
    "show_group_stats_viz(processed_df, PREDICTOR_FIELD)\n",
    "plt.xlabel('Patient Count')\n",
    "plt.ylabel('Time in Hospital')\n",
    "plt.title('Patient Time in Hospital - Distribution - for Original Dataset')"
   ]
  },
  {
   "cell_type": "code",
   "execution_count": 47,
   "metadata": {},
   "outputs": [
    {
     "name": "stdout",
     "output_type": "stream",
     "text": [
      "time_in_hospital\n",
      "1.0     4526\n",
      "2.0     5735\n",
      "3.0     6110\n",
      "4.0     4602\n",
      "5.0     3318\n",
      "6.0     2429\n",
      "7.0     1934\n",
      "8.0     1427\n",
      "9.0      959\n",
      "10.0     763\n",
      "11.0     641\n",
      "12.0     502\n",
      "13.0     408\n",
      "14.0     326\n",
      "dtype: int64\n",
      "AxesSubplot(0.125,0.125;0.775x0.755)\n"
     ]
    },
    {
     "data": {
      "text/plain": [
       "Text(0.5, 1.0, 'Patient Time in Hospital - Distribution - for Training Dataset')"
      ]
     },
     "execution_count": 47,
     "metadata": {},
     "output_type": "execute_result"
    },
    {
     "data": {
      "image/png": "[encoded data removed]",
      "text/plain": [
       "<Figure size 432x288 with 1 Axes>"
      ]
     },
     "metadata": {
      "needs_background": "light"
     },
     "output_type": "display_data"
    }
   ],
   "source": [
    "# Patient Time in Hospital - Distribution - for Training Dataset\n",
    "show_group_stats_viz(d_train, PREDICTOR_FIELD)\n",
    "plt.xlabel('Patient Count')\n",
    "plt.ylabel('Time in Hospital')\n",
    "plt.title('Patient Time in Hospital - Distribution - for Training Dataset')"
   ]
  },
  {
   "cell_type": "code",
   "execution_count": 48,
   "metadata": {},
   "outputs": [
    {
     "name": "stdout",
     "output_type": "stream",
     "text": [
      "time_in_hospital\n",
      "1.0     1497\n",
      "2.0     1902\n",
      "3.0     1926\n",
      "4.0     1517\n",
      "5.0     1130\n",
      "6.0      856\n",
      "7.0      655\n",
      "8.0      493\n",
      "9.0      354\n",
      "10.0     255\n",
      "11.0     210\n",
      "12.0     158\n",
      "13.0     156\n",
      "14.0     118\n",
      "dtype: int64\n",
      "AxesSubplot(0.125,0.125;0.775x0.755)\n"
     ]
    },
    {
     "data": {
      "text/plain": [
       "Text(0.5, 1.0, 'Patient Time in Hospital - Distribution - for Test Dataset')"
      ]
     },
     "execution_count": 48,
     "metadata": {},
     "output_type": "execute_result"
    },
    {
     "data": {
      "image/png": "[encoded data removed]",
      "text/plain": [
       "<Figure size 432x288 with 1 Axes>"
      ]
     },
     "metadata": {
      "needs_background": "light"
     },
     "output_type": "display_data"
    }
   ],
   "source": [
    "# Patient Time in Hospital - Distribution - for Test Dataset'\n",
    "show_group_stats_viz(d_test, PREDICTOR_FIELD)\n",
    "plt.xlabel('Patient Count')\n",
    "plt.ylabel('Time in Hospital')\n",
    "plt.title('Patient Time in Hospital - Distribution - for Test Dataset')"
   ]
  },
  {
   "cell_type": "code",
   "execution_count": 49,
   "metadata": {},
   "outputs": [
    {
     "name": "stdout",
     "output_type": "stream",
     "text": [
      "time_in_hospital\n",
      "1.0     1509\n",
      "2.0     1836\n",
      "3.0     1992\n",
      "4.0     1562\n",
      "5.0     1118\n",
      "6.0      837\n",
      "7.0      642\n",
      "8.0      499\n",
      "9.0      342\n",
      "10.0     274\n",
      "11.0     203\n",
      "12.0     147\n",
      "13.0     138\n",
      "14.0     127\n",
      "dtype: int64\n",
      "AxesSubplot(0.125,0.125;0.775x0.755)\n"
     ]
    },
    {
     "data": {
      "text/plain": [
       "Text(0.5, 1.0, 'Patient Time in Hospital - Distribution - for Validation Dataset')"
      ]
     },
     "execution_count": 49,
     "metadata": {},
     "output_type": "execute_result"
    },
    {
     "data": {
      "image/png": "[encoded data removed]",
      "text/plain": [
       "<Figure size 432x288 with 1 Axes>"
      ]
     },
     "metadata": {
      "needs_background": "light"
     },
     "output_type": "display_data"
    }
   ],
   "source": [
    "# Patient Time in Hospital - Distribution - for Validation Dataset'\n",
    "show_group_stats_viz(d_val, PREDICTOR_FIELD)\n",
    "plt.xlabel('Patient Count')\n",
    "plt.ylabel('Time in Hospital')\n",
    "plt.title('Patient Time in Hospital - Distribution - for Validation Dataset')"
   ]
  },
  {
   "cell_type": "code",
   "execution_count": 50,
   "metadata": {},
   "outputs": [
    {
     "name": "stdout",
     "output_type": "stream",
     "text": [
      "race\n",
      "?                   1593\n",
      "AfricanAmerican    10292\n",
      "Asian                370\n",
      "Caucasian          41766\n",
      "Hispanic            1168\n",
      "Other                944\n",
      "dtype: int64\n",
      "AxesSubplot(0.125,0.125;0.775x0.755)\n"
     ]
    },
    {
     "data": {
      "text/plain": [
       "Text(0.5, 1.0, 'Patient Race - Distribution - for Original Dataset')"
      ]
     },
     "execution_count": 50,
     "metadata": {},
     "output_type": "execute_result"
    },
    {
     "data": {
      "image/png": "[encoded data removed]",
      "text/plain": [
       "<Figure size 432x288 with 1 Axes>"
      ]
     },
     "metadata": {
      "needs_background": "light"
     },
     "output_type": "display_data"
    }
   ],
   "source": [
    "# Patient Race - Distribution - for Original Dataset\n",
    "show_group_stats_viz(processed_df, 'race')\n",
    "plt.xlabel('Patient Count')\n",
    "plt.ylabel('Race')\n",
    "plt.title('Patient Race - Distribution - for Original Dataset')"
   ]
  },
  {
   "cell_type": "code",
   "execution_count": 51,
   "metadata": {},
   "outputs": [
    {
     "name": "stdout",
     "output_type": "stream",
     "text": [
      "race\n",
      "?                    965\n",
      "AfricanAmerican     6242\n",
      "Asian                222\n",
      "Caucasian          25021\n",
      "Hispanic             675\n",
      "Other                555\n",
      "dtype: int64\n",
      "AxesSubplot(0.125,0.125;0.775x0.755)\n"
     ]
    },
    {
     "data": {
      "text/plain": [
       "Text(0.5, 1.0, 'Patient Race - Distribution - for Training Dataset')"
      ]
     },
     "execution_count": 51,
     "metadata": {},
     "output_type": "execute_result"
    },
    {
     "data": {
      "image/png": "[encoded data removed]",
      "text/plain": [
       "<Figure size 432x288 with 1 Axes>"
      ]
     },
     "metadata": {
      "needs_background": "light"
     },
     "output_type": "display_data"
    }
   ],
   "source": [
    "# Patient Race - Distribution - for Training Dataset\n",
    "show_group_stats_viz(d_train, 'race')\n",
    "plt.xlabel('Patient Count')\n",
    "plt.ylabel('Race')\n",
    "plt.title('Patient Race - Distribution - for Training Dataset')"
   ]
  },
  {
   "cell_type": "code",
   "execution_count": 52,
   "metadata": {},
   "outputs": [
    {
     "name": "stdout",
     "output_type": "stream",
     "text": [
      "race\n",
      "?                   307\n",
      "AfricanAmerican    2037\n",
      "Asian                76\n",
      "Caucasian          8325\n",
      "Hispanic            276\n",
      "Other               205\n",
      "dtype: int64\n",
      "AxesSubplot(0.125,0.125;0.775x0.755)\n"
     ]
    },
    {
     "data": {
      "text/plain": [
       "Text(0.5, 1.0, 'Patient Race - Distribution - for Validation Dataset')"
      ]
     },
     "execution_count": 52,
     "metadata": {},
     "output_type": "execute_result"
    },
    {
     "data": {
      "image/png": "[encoded data removed]",
      "text/plain": [
       "<Figure size 432x288 with 1 Axes>"
      ]
     },
     "metadata": {
      "needs_background": "light"
     },
     "output_type": "display_data"
    }
   ],
   "source": [
    "# Patient Race - Distribution - for Validation Dataset\n",
    "show_group_stats_viz(d_val, 'race')\n",
    "plt.xlabel('Patient Count')\n",
    "plt.ylabel('Race')\n",
    "plt.title('Patient Race - Distribution - for Validation Dataset')"
   ]
  },
  {
   "cell_type": "code",
   "execution_count": 53,
   "metadata": {},
   "outputs": [
    {
     "name": "stdout",
     "output_type": "stream",
     "text": [
      "race\n",
      "?                   321\n",
      "AfricanAmerican    2013\n",
      "Asian                72\n",
      "Caucasian          8420\n",
      "Hispanic            217\n",
      "Other               184\n",
      "dtype: int64\n",
      "AxesSubplot(0.125,0.125;0.775x0.755)\n"
     ]
    },
    {
     "data": {
      "text/plain": [
       "Text(0.5, 1.0, 'Patient Race - Distribution - for Test Dataset')"
      ]
     },
     "execution_count": 53,
     "metadata": {},
     "output_type": "execute_result"
    },
    {
     "data": {
      "image/png": "[encoded data removed]",
      "text/plain": [
       "<Figure size 432x288 with 1 Axes>"
      ]
     },
     "metadata": {
      "needs_background": "light"
     },
     "output_type": "display_data"
    }
   ],
   "source": [
    "# Patient Race - Distribution - for Test Dataset\n",
    "show_group_stats_viz(d_test, 'race')\n",
    "plt.xlabel('Patient Count')\n",
    "plt.ylabel('Race')\n",
    "plt.title('Patient Race - Distribution - for Test Dataset')"
   ]
  },
  {
   "cell_type": "markdown",
   "metadata": {},
   "source": [
    "## Demographic Group Analysis"
   ]
  },
  {
   "cell_type": "markdown",
   "metadata": {},
   "source": [
    "We should check that our partitions/splits of the dataset are similar in terms of their demographic profiles. Below you can see how we might visualize and analyze the full dataset vs. the partitions.\n",
    "\n",
    "Response >>\n",
    "a. Gender distribution looks similar across Orginal, Training, Validation and Test datasets.\n",
    "b. Race distribution looks similar across Orginal, Training, Validation and Test datasets.\n",
    "c. Age distribution looks similar across Orginal, Training, Validation and Test datasets. "
   ]
  },
  {
   "cell_type": "code",
   "execution_count": 54,
   "metadata": {},
   "outputs": [
    {
     "name": "stdout",
     "output_type": "stream",
     "text": [
      "gender\n",
      "Female             29583\n",
      "Male               26548\n",
      "Unknown/Invalid        2\n",
      "dtype: int64\n",
      "AxesSubplot(0.125,0.125;0.775x0.755)\n"
     ]
    },
    {
     "data": {
      "text/plain": [
       "Text(0.5, 1.0, 'Patient Gender - Distribution - for Original Dataset')"
      ]
     },
     "execution_count": 54,
     "metadata": {},
     "output_type": "execute_result"
    },
    {
     "data": {
      "image/png": "[encoded data removed]",
      "text/plain": [
       "<Figure size 432x288 with 1 Axes>"
      ]
     },
     "metadata": {
      "needs_background": "light"
     },
     "output_type": "display_data"
    }
   ],
   "source": [
    "# Full dataset before splitting\n",
    "patient_demo_features = ['race', 'gender', 'age', 'patient_nbr']\n",
    "patient_group_analysis_df = processed_df[patient_demo_features].groupby('patient_nbr').head(1).reset_index(drop=True)\n",
    "show_group_stats_viz(patient_group_analysis_df, 'gender')\n",
    "plt.xlabel('Patient Count')\n",
    "plt.ylabel('Gender')\n",
    "plt.title('Patient Gender - Distribution - for Original Dataset')"
   ]
  },
  {
   "cell_type": "code",
   "execution_count": 55,
   "metadata": {},
   "outputs": [
    {
     "name": "stdout",
     "output_type": "stream",
     "text": [
      "gender\n",
      "Female             17705\n",
      "Male               15974\n",
      "Unknown/Invalid        1\n",
      "dtype: int64\n",
      "AxesSubplot(0.125,0.125;0.775x0.755)\n"
     ]
    },
    {
     "data": {
      "text/plain": [
       "Text(0.5, 1.0, 'Patient Gender - Distribution - for Training Dataset')"
      ]
     },
     "execution_count": 55,
     "metadata": {},
     "output_type": "execute_result"
    },
    {
     "data": {
      "image/png": "[encoded data removed]",
      "text/plain": [
       "<Figure size 432x288 with 1 Axes>"
      ]
     },
     "metadata": {
      "needs_background": "light"
     },
     "output_type": "display_data"
    }
   ],
   "source": [
    "show_group_stats_viz(d_train, 'gender')\n",
    "plt.xlabel('Patient Count')\n",
    "plt.ylabel('Gender')\n",
    "plt.title('Patient Gender - Distribution - for Training Dataset')"
   ]
  },
  {
   "cell_type": "code",
   "execution_count": 56,
   "metadata": {},
   "outputs": [
    {
     "name": "stdout",
     "output_type": "stream",
     "text": [
      "gender\n",
      "Female    5945\n",
      "Male      5282\n",
      "dtype: int64\n",
      "AxesSubplot(0.125,0.125;0.775x0.755)\n"
     ]
    },
    {
     "data": {
      "text/plain": [
       "Text(0.5, 1.0, 'Patient Gender - Distribution - for Test Dataset')"
      ]
     },
     "execution_count": 56,
     "metadata": {},
     "output_type": "execute_result"
    },
    {
     "data": {
      "image/png": "[encoded data removed]",
      "text/plain": [
       "<Figure size 432x288 with 1 Axes>"
      ]
     },
     "metadata": {
      "needs_background": "light"
     },
     "output_type": "display_data"
    }
   ],
   "source": [
    "show_group_stats_viz(d_test, 'gender')\n",
    "plt.xlabel('Patient Count')\n",
    "plt.ylabel('Gender')\n",
    "plt.title('Patient Gender - Distribution - for Test Dataset')\n"
   ]
  },
  {
   "cell_type": "code",
   "execution_count": 57,
   "metadata": {},
   "outputs": [
    {
     "name": "stdout",
     "output_type": "stream",
     "text": [
      "gender\n",
      "Female             5933\n",
      "Male               5292\n",
      "Unknown/Invalid       1\n",
      "dtype: int64\n",
      "AxesSubplot(0.125,0.125;0.775x0.755)\n"
     ]
    },
    {
     "data": {
      "text/plain": [
       "Text(0.5, 1.0, 'Patient Gender - Distribution - for Validation Dataset')"
      ]
     },
     "execution_count": 57,
     "metadata": {},
     "output_type": "execute_result"
    },
    {
     "data": {
      "image/png": "[encoded data removed]",
      "text/plain": [
       "<Figure size 432x288 with 1 Axes>"
      ]
     },
     "metadata": {
      "needs_background": "light"
     },
     "output_type": "display_data"
    }
   ],
   "source": [
    "show_group_stats_viz(d_val, 'gender')\n",
    "plt.xlabel('Patient Count')\n",
    "plt.ylabel('Gender')\n",
    "plt.title('Patient Gender - Distribution - for Validation Dataset')"
   ]
  },
  {
   "cell_type": "code",
   "execution_count": 58,
   "metadata": {},
   "outputs": [
    {
     "name": "stdout",
     "output_type": "stream",
     "text": [
      "race\n",
      "?                   1593\n",
      "AfricanAmerican    10292\n",
      "Asian                370\n",
      "Caucasian          41766\n",
      "Hispanic            1168\n",
      "Other                944\n",
      "dtype: int64\n",
      "AxesSubplot(0.125,0.125;0.775x0.755)\n"
     ]
    },
    {
     "data": {
      "text/plain": [
       "Text(0.5, 1.0, 'Patient Race - Distribution - for Original Dataset')"
      ]
     },
     "execution_count": 58,
     "metadata": {},
     "output_type": "execute_result"
    },
    {
     "data": {
      "image/png": "[encoded data removed]",
      "text/plain": [
       "<Figure size 432x288 with 1 Axes>"
      ]
     },
     "metadata": {
      "needs_background": "light"
     },
     "output_type": "display_data"
    }
   ],
   "source": [
    "# Patient Race - Distribution - for Original Dataset\n",
    "show_group_stats_viz(processed_df, 'race')\n",
    "plt.xlabel('Patient Count')\n",
    "plt.ylabel('Race')\n",
    "plt.title('Patient Race - Distribution - for Original Dataset')"
   ]
  },
  {
   "cell_type": "code",
   "execution_count": 59,
   "metadata": {},
   "outputs": [
    {
     "name": "stdout",
     "output_type": "stream",
     "text": [
      "race\n",
      "?                    965\n",
      "AfricanAmerican     6242\n",
      "Asian                222\n",
      "Caucasian          25021\n",
      "Hispanic             675\n",
      "Other                555\n",
      "dtype: int64\n",
      "AxesSubplot(0.125,0.125;0.775x0.755)\n"
     ]
    },
    {
     "data": {
      "text/plain": [
       "Text(0.5, 1.0, 'Patient Race - Distribution - for Training Dataset')"
      ]
     },
     "execution_count": 59,
     "metadata": {},
     "output_type": "execute_result"
    },
    {
     "data": {
      "image/png": "[encoded data removed]",
      "text/plain": [
       "<Figure size 432x288 with 1 Axes>"
      ]
     },
     "metadata": {
      "needs_background": "light"
     },
     "output_type": "display_data"
    }
   ],
   "source": [
    "# Patient Race - Distribution - for Training Dataset\n",
    "show_group_stats_viz(d_train, 'race')\n",
    "plt.xlabel('Patient Count')\n",
    "plt.ylabel('Race')\n",
    "plt.title('Patient Race - Distribution - for Training Dataset')"
   ]
  },
  {
   "cell_type": "code",
   "execution_count": 60,
   "metadata": {},
   "outputs": [
    {
     "name": "stdout",
     "output_type": "stream",
     "text": [
      "race\n",
      "?                   307\n",
      "AfricanAmerican    2037\n",
      "Asian                76\n",
      "Caucasian          8325\n",
      "Hispanic            276\n",
      "Other               205\n",
      "dtype: int64\n",
      "AxesSubplot(0.125,0.125;0.775x0.755)\n"
     ]
    },
    {
     "data": {
      "text/plain": [
       "Text(0.5, 1.0, 'Patient Race - Distribution - for Validation Dataset')"
      ]
     },
     "execution_count": 60,
     "metadata": {},
     "output_type": "execute_result"
    },
    {
     "data": {
      "image/png": "[encoded data removed]",
      "text/plain": [
       "<Figure size 432x288 with 1 Axes>"
      ]
     },
     "metadata": {
      "needs_background": "light"
     },
     "output_type": "display_data"
    }
   ],
   "source": [
    "# Patient Race - Distribution - for Validation Dataset\n",
    "show_group_stats_viz(d_val, 'race')\n",
    "plt.xlabel('Patient Count')\n",
    "plt.ylabel('Race')\n",
    "plt.title('Patient Race - Distribution - for Validation Dataset')"
   ]
  },
  {
   "cell_type": "code",
   "execution_count": 61,
   "metadata": {},
   "outputs": [
    {
     "name": "stdout",
     "output_type": "stream",
     "text": [
      "race\n",
      "?                   321\n",
      "AfricanAmerican    2013\n",
      "Asian                72\n",
      "Caucasian          8420\n",
      "Hispanic            217\n",
      "Other               184\n",
      "dtype: int64\n",
      "AxesSubplot(0.125,0.125;0.775x0.755)\n"
     ]
    },
    {
     "data": {
      "text/plain": [
       "Text(0.5, 1.0, 'Patient Race - Distribution - for Test Dataset')"
      ]
     },
     "execution_count": 61,
     "metadata": {},
     "output_type": "execute_result"
    },
    {
     "data": {
      "image/png": "[encoded data removed]",
      "text/plain": [
       "<Figure size 432x288 with 1 Axes>"
      ]
     },
     "metadata": {
      "needs_background": "light"
     },
     "output_type": "display_data"
    }
   ],
   "source": [
    "# Patient Race - Distribution - for Test Dataset\n",
    "show_group_stats_viz(d_test, 'race')\n",
    "plt.xlabel('Patient Count')\n",
    "plt.ylabel('Race')\n",
    "plt.title('Patient Race - Distribution - for Test Dataset')"
   ]
  },
  {
   "cell_type": "code",
   "execution_count": 62,
   "metadata": {},
   "outputs": [
    {
     "name": "stdout",
     "output_type": "stream",
     "text": [
      "age\n",
      "[0-10)        130\n",
      "[10-20)       466\n",
      "[20-30)       890\n",
      "[30-40)      2035\n",
      "[40-50)      5368\n",
      "[50-60)      9869\n",
      "[60-70)     12776\n",
      "[70-80)     14392\n",
      "[80-90)      8848\n",
      "[90-100)     1359\n",
      "dtype: int64\n",
      "AxesSubplot(0.125,0.125;0.775x0.755)\n"
     ]
    },
    {
     "data": {
      "text/plain": [
       "Text(0.5, 1.0, 'Patient Age - Distribution - for Original Dataset')"
      ]
     },
     "execution_count": 62,
     "metadata": {},
     "output_type": "execute_result"
    },
    {
     "data": {
      "image/png": "[encoded data removed]",
      "text/plain": [
       "<Figure size 432x288 with 1 Axes>"
      ]
     },
     "metadata": {
      "needs_background": "light"
     },
     "output_type": "display_data"
    }
   ],
   "source": [
    "# Patient Race - Distribution - for Original Dataset\n",
    "show_group_stats_viz(processed_df, 'age')\n",
    "plt.xlabel('Patient Count')\n",
    "plt.ylabel('Age')\n",
    "plt.title('Patient Age - Distribution - for Original Dataset')"
   ]
  },
  {
   "cell_type": "code",
   "execution_count": 63,
   "metadata": {},
   "outputs": [
    {
     "name": "stdout",
     "output_type": "stream",
     "text": [
      "age\n",
      "[0-10)        71\n",
      "[10-20)      288\n",
      "[20-30)      517\n",
      "[30-40)     1206\n",
      "[40-50)     3209\n",
      "[50-60)     5993\n",
      "[60-70)     7559\n",
      "[70-80)     8742\n",
      "[80-90)     5284\n",
      "[90-100)     811\n",
      "dtype: int64\n",
      "AxesSubplot(0.125,0.125;0.775x0.755)\n"
     ]
    },
    {
     "data": {
      "text/plain": [
       "Text(0.5, 1.0, 'Patient Age - Distribution - for Training Dataset')"
      ]
     },
     "execution_count": 63,
     "metadata": {},
     "output_type": "execute_result"
    },
    {
     "data": {
      "image/png": "[encoded data removed]",
      "text/plain": [
       "<Figure size 432x288 with 1 Axes>"
      ]
     },
     "metadata": {
      "needs_background": "light"
     },
     "output_type": "display_data"
    }
   ],
   "source": [
    "# Patient Race - Distribution - for Training Dataset\n",
    "show_group_stats_viz(d_train, 'age')\n",
    "plt.xlabel('Patient Count')\n",
    "plt.ylabel('Age')\n",
    "plt.title('Patient Age - Distribution - for Training Dataset')"
   ]
  },
  {
   "cell_type": "code",
   "execution_count": 64,
   "metadata": {},
   "outputs": [
    {
     "name": "stdout",
     "output_type": "stream",
     "text": [
      "age\n",
      "[0-10)        28\n",
      "[10-20)       89\n",
      "[20-30)      185\n",
      "[30-40)      432\n",
      "[40-50)     1060\n",
      "[50-60)     1903\n",
      "[60-70)     2645\n",
      "[70-80)     2845\n",
      "[80-90)     1767\n",
      "[90-100)     272\n",
      "dtype: int64\n",
      "AxesSubplot(0.125,0.125;0.775x0.755)\n"
     ]
    },
    {
     "data": {
      "text/plain": [
       "Text(0.5, 1.0, 'Patient Age - Distribution - for Validation Dataset')"
      ]
     },
     "execution_count": 64,
     "metadata": {},
     "output_type": "execute_result"
    },
    {
     "data": {
      "image/png": "[encoded data removed]",
      "text/plain": [
       "<Figure size 432x288 with 1 Axes>"
      ]
     },
     "metadata": {
      "needs_background": "light"
     },
     "output_type": "display_data"
    }
   ],
   "source": [
    "# Patient Race - Distribution - for Validation Dataset\n",
    "show_group_stats_viz(d_val, 'age')\n",
    "plt.xlabel('Patient Count')\n",
    "plt.ylabel('Age')\n",
    "plt.title('Patient Age - Distribution - for Validation Dataset')"
   ]
  },
  {
   "cell_type": "code",
   "execution_count": 65,
   "metadata": {},
   "outputs": [
    {
     "name": "stdout",
     "output_type": "stream",
     "text": [
      "age\n",
      "[0-10)        31\n",
      "[10-20)       89\n",
      "[20-30)      188\n",
      "[30-40)      397\n",
      "[40-50)     1099\n",
      "[50-60)     1973\n",
      "[60-70)     2572\n",
      "[70-80)     2805\n",
      "[80-90)     1797\n",
      "[90-100)     276\n",
      "dtype: int64\n",
      "AxesSubplot(0.125,0.125;0.775x0.755)\n"
     ]
    },
    {
     "data": {
      "text/plain": [
       "Text(0.5, 1.0, 'Patient Age - Distribution - for Test Dataset')"
      ]
     },
     "execution_count": 65,
     "metadata": {},
     "output_type": "execute_result"
    },
    {
     "data": {
      "image/png": "[encoded data removed]",
      "text/plain": [
       "<Figure size 432x288 with 1 Axes>"
      ]
     },
     "metadata": {
      "needs_background": "light"
     },
     "output_type": "display_data"
    }
   ],
   "source": [
    "# Patient Race - Distribution - for Test Dataset\n",
    "show_group_stats_viz(d_test, 'age')\n",
    "plt.xlabel('Patient Count')\n",
    "plt.ylabel('Age')\n",
    "plt.title('Patient Age - Distribution - for Test Dataset')"
   ]
  },
  {
   "cell_type": "markdown",
   "metadata": {},
   "source": [
    "## Convert Dataset Splits to TF Dataset"
   ]
  },
  {
   "cell_type": "markdown",
   "metadata": {},
   "source": [
    "We have provided you the function to convert the Pandas dataframe to TF tensors using the TF Dataset API. \n",
    "Please note that this is not a scalable method and for larger datasets, the 'make_csv_dataset' method is recommended -https://www.tensorflow.org/api_docs/python/tf/data/experimental/make_csv_dataset."
   ]
  },
  {
   "cell_type": "code",
   "execution_count": 66,
   "metadata": {},
   "outputs": [],
   "source": [
    "# Convert dataset from Pandas dataframes to TF dataset \n",
    "batch_size = 128\n",
    "diabetes_train_ds = df_to_dataset(d_train, PREDICTOR_FIELD, batch_size=batch_size)\n",
    "diabetes_val_ds = df_to_dataset(d_val, PREDICTOR_FIELD, batch_size=batch_size)\n",
    "diabetes_test_ds = df_to_dataset(d_test, PREDICTOR_FIELD, batch_size=batch_size)"
   ]
  },
  {
   "cell_type": "code",
   "execution_count": 67,
   "metadata": {},
   "outputs": [],
   "source": [
    "# We use this sample of the dataset to show transformations later\n",
    "diabetes_batch = next(iter(diabetes_train_ds))[0]\n",
    "def demo(feature_column, example_batch):\n",
    "    feature_layer = layers.DenseFeatures(feature_column)\n",
    "    print(feature_layer(example_batch))"
   ]
  },
  {
   "cell_type": "markdown",
   "metadata": {},
   "source": [
    "# 4. Create Categorical Features with TF Feature Columns"
   ]
  },
  {
   "cell_type": "markdown",
   "metadata": {},
   "source": [
    "## Build Vocabulary for Categorical Features"
   ]
  },
  {
   "cell_type": "markdown",
   "metadata": {},
   "source": [
    "Before we can create the TF categorical features, we must first create the vocab files with the unique values for a given field that are from the **training** dataset. Below we have provided a function that you can use that only requires providing the pandas train dataset partition and the list of the categorical columns in a list format. The output variable 'vocab_file_list' will be a list of the file paths that can be used in the next step for creating the categorical features."
   ]
  },
  {
   "cell_type": "code",
   "execution_count": 68,
   "metadata": {},
   "outputs": [],
   "source": [
    "vocab_file_list = build_vocab_files(d_train, student_categorical_col_list)"
   ]
  },
  {
   "cell_type": "code",
   "execution_count": 69,
   "metadata": {},
   "outputs": [
    {
     "data": {
      "text/plain": [
       "['./diabetes_vocab/ndc_code_vocab.txt',\n",
       " './diabetes_vocab/readmitted_vocab.txt',\n",
       " './diabetes_vocab/admission_type_id_vocab.txt',\n",
       " './diabetes_vocab/discharge_disposition_id_vocab.txt',\n",
       " './diabetes_vocab/max_glu_serum_vocab.txt',\n",
       " './diabetes_vocab/admission_source_id_vocab.txt',\n",
       " './diabetes_vocab/A1Cresult_vocab.txt',\n",
       " './diabetes_vocab/primary_diagnosis_code_vocab.txt',\n",
       " './diabetes_vocab/other_diagnosis_codes_vocab.txt',\n",
       " './diabetes_vocab/change_vocab.txt',\n",
       " './diabetes_vocab/race_vocab.txt',\n",
       " './diabetes_vocab/gender_vocab.txt',\n",
       " './diabetes_vocab/age_vocab.txt',\n",
       " './diabetes_vocab/Acarbose_vocab.txt',\n",
       " './diabetes_vocab/Afrezza_vocab.txt',\n",
       " './diabetes_vocab/Amaryl_vocab.txt',\n",
       " './diabetes_vocab/Avandia_2MG_vocab.txt',\n",
       " './diabetes_vocab/Avandia_4MG_vocab.txt',\n",
       " './diabetes_vocab/Glimepiride_vocab.txt',\n",
       " './diabetes_vocab/Glipizide_vocab.txt',\n",
       " './diabetes_vocab/Glipizide_And_Metformin_Hcl_vocab.txt',\n",
       " './diabetes_vocab/Glipizide_And_Metformin_Hydrochloride_vocab.txt',\n",
       " './diabetes_vocab/Glucophage_vocab.txt',\n",
       " './diabetes_vocab/Glucophage_XR_vocab.txt',\n",
       " './diabetes_vocab/Glucotrol_vocab.txt',\n",
       " './diabetes_vocab/Glucotrol_XL_vocab.txt',\n",
       " './diabetes_vocab/Glyburide_vocab.txt',\n",
       " './diabetes_vocab/Glyburide_And_Metformin_Hydrochloride_vocab.txt',\n",
       " './diabetes_vocab/Glyburide-metformin_Hydrochloride_vocab.txt',\n",
       " './diabetes_vocab/Glynase_vocab.txt',\n",
       " './diabetes_vocab/Glyset_vocab.txt',\n",
       " './diabetes_vocab/Humulin_R_vocab.txt',\n",
       " './diabetes_vocab/Metformin_Hcl_vocab.txt',\n",
       " './diabetes_vocab/Metformin_Hydrochloride_vocab.txt',\n",
       " './diabetes_vocab/Metformin_Hydrochloride_Extended_Release_vocab.txt',\n",
       " './diabetes_vocab/Miglitol_vocab.txt',\n",
       " './diabetes_vocab/Nateglinide_vocab.txt',\n",
       " './diabetes_vocab/Novolin_R_vocab.txt',\n",
       " './diabetes_vocab/Pioglitazole_And_Metformin_Hydrochloride_vocab.txt',\n",
       " './diabetes_vocab/Pioglitazone_vocab.txt',\n",
       " './diabetes_vocab/Pioglitazone_Hydrochloride_And_Glimepiride_vocab.txt',\n",
       " './diabetes_vocab/Prandin_vocab.txt',\n",
       " './diabetes_vocab/Repaglinide_vocab.txt',\n",
       " './diabetes_vocab/Riomet_vocab.txt',\n",
       " './diabetes_vocab/Riomet_Er_vocab.txt',\n",
       " './diabetes_vocab/Starlix_vocab.txt',\n",
       " './diabetes_vocab/Tolazamide_vocab.txt',\n",
       " './diabetes_vocab/Tolbutamide_vocab.txt']"
      ]
     },
     "execution_count": 69,
     "metadata": {},
     "output_type": "execute_result"
    }
   ],
   "source": [
    "vocab_file_list"
   ]
  },
  {
   "cell_type": "markdown",
   "metadata": {},
   "source": [
    "## Create Categorical Features with Tensorflow Feature Column API"
   ]
  },
  {
   "cell_type": "markdown",
   "metadata": {},
   "source": [
    "**Question 7**: Using the vocab file list from above that was derived fromt the features you selected earlier, please create categorical features with the Tensorflow Feature Column API, https://www.tensorflow.org/api_docs/python/tf/feature_column. Below is a function to help guide you."
   ]
  },
  {
   "cell_type": "code",
   "execution_count": 70,
   "metadata": {},
   "outputs": [
    {
     "name": "stdout",
     "output_type": "stream",
     "text": [
      "INFO:tensorflow:vocabulary_size = 237 in ndc_code is inferred from the number of elements in the vocabulary_file ./diabetes_vocab/ndc_code_vocab.txt.\n",
      "INFO:tensorflow:vocabulary_size = 4 in readmitted is inferred from the number of elements in the vocabulary_file ./diabetes_vocab/readmitted_vocab.txt.\n",
      "INFO:tensorflow:vocabulary_size = 9 in admission_type_id is inferred from the number of elements in the vocabulary_file ./diabetes_vocab/admission_type_id_vocab.txt.\n",
      "INFO:tensorflow:vocabulary_size = 26 in discharge_disposition_id is inferred from the number of elements in the vocabulary_file ./diabetes_vocab/discharge_disposition_id_vocab.txt.\n",
      "INFO:tensorflow:vocabulary_size = 5 in max_glu_serum is inferred from the number of elements in the vocabulary_file ./diabetes_vocab/max_glu_serum_vocab.txt.\n",
      "INFO:tensorflow:vocabulary_size = 17 in admission_source_id is inferred from the number of elements in the vocabulary_file ./diabetes_vocab/admission_source_id_vocab.txt.\n",
      "INFO:tensorflow:vocabulary_size = 5 in A1Cresult is inferred from the number of elements in the vocabulary_file ./diabetes_vocab/A1Cresult_vocab.txt.\n",
      "INFO:tensorflow:vocabulary_size = 605 in primary_diagnosis_code is inferred from the number of elements in the vocabulary_file ./diabetes_vocab/primary_diagnosis_code_vocab.txt.\n",
      "INFO:tensorflow:vocabulary_size = 9643 in other_diagnosis_codes is inferred from the number of elements in the vocabulary_file ./diabetes_vocab/other_diagnosis_codes_vocab.txt.\n",
      "INFO:tensorflow:vocabulary_size = 3 in change is inferred from the number of elements in the vocabulary_file ./diabetes_vocab/change_vocab.txt.\n",
      "INFO:tensorflow:vocabulary_size = 7 in race is inferred from the number of elements in the vocabulary_file ./diabetes_vocab/race_vocab.txt.\n",
      "INFO:tensorflow:vocabulary_size = 4 in gender is inferred from the number of elements in the vocabulary_file ./diabetes_vocab/gender_vocab.txt.\n",
      "INFO:tensorflow:vocabulary_size = 11 in age is inferred from the number of elements in the vocabulary_file ./diabetes_vocab/age_vocab.txt.\n",
      "INFO:tensorflow:vocabulary_size = 3 in Acarbose is inferred from the number of elements in the vocabulary_file ./diabetes_vocab/Acarbose_vocab.txt.\n",
      "INFO:tensorflow:vocabulary_size = 3 in Afrezza is inferred from the number of elements in the vocabulary_file ./diabetes_vocab/Afrezza_vocab.txt.\n",
      "INFO:tensorflow:vocabulary_size = 3 in Amaryl is inferred from the number of elements in the vocabulary_file ./diabetes_vocab/Amaryl_vocab.txt.\n",
      "INFO:tensorflow:vocabulary_size = 3 in Avandia_2MG is inferred from the number of elements in the vocabulary_file ./diabetes_vocab/Avandia_2MG_vocab.txt.\n",
      "INFO:tensorflow:vocabulary_size = 3 in Avandia_4MG is inferred from the number of elements in the vocabulary_file ./diabetes_vocab/Avandia_4MG_vocab.txt.\n",
      "INFO:tensorflow:vocabulary_size = 3 in Glimepiride is inferred from the number of elements in the vocabulary_file ./diabetes_vocab/Glimepiride_vocab.txt.\n",
      "INFO:tensorflow:vocabulary_size = 3 in Glipizide is inferred from the number of elements in the vocabulary_file ./diabetes_vocab/Glipizide_vocab.txt.\n",
      "INFO:tensorflow:vocabulary_size = 3 in Glipizide_And_Metformin_Hcl is inferred from the number of elements in the vocabulary_file ./diabetes_vocab/Glipizide_And_Metformin_Hcl_vocab.txt.\n",
      "INFO:tensorflow:vocabulary_size = 3 in Glipizide_And_Metformin_Hydrochloride is inferred from the number of elements in the vocabulary_file ./diabetes_vocab/Glipizide_And_Metformin_Hydrochloride_vocab.txt.\n",
      "INFO:tensorflow:vocabulary_size = 3 in Glucophage is inferred from the number of elements in the vocabulary_file ./diabetes_vocab/Glucophage_vocab.txt.\n",
      "INFO:tensorflow:vocabulary_size = 3 in Glucophage_XR is inferred from the number of elements in the vocabulary_file ./diabetes_vocab/Glucophage_XR_vocab.txt.\n",
      "INFO:tensorflow:vocabulary_size = 3 in Glucotrol is inferred from the number of elements in the vocabulary_file ./diabetes_vocab/Glucotrol_vocab.txt.\n",
      "INFO:tensorflow:vocabulary_size = 3 in Glucotrol_XL is inferred from the number of elements in the vocabulary_file ./diabetes_vocab/Glucotrol_XL_vocab.txt.\n",
      "INFO:tensorflow:vocabulary_size = 3 in Glyburide is inferred from the number of elements in the vocabulary_file ./diabetes_vocab/Glyburide_vocab.txt.\n",
      "INFO:tensorflow:vocabulary_size = 3 in Glyburide_And_Metformin_Hydrochloride is inferred from the number of elements in the vocabulary_file ./diabetes_vocab/Glyburide_And_Metformin_Hydrochloride_vocab.txt.\n",
      "INFO:tensorflow:vocabulary_size = 3 in Glyburide-metformin_Hydrochloride is inferred from the number of elements in the vocabulary_file ./diabetes_vocab/Glyburide-metformin_Hydrochloride_vocab.txt.\n",
      "INFO:tensorflow:vocabulary_size = 3 in Glynase is inferred from the number of elements in the vocabulary_file ./diabetes_vocab/Glynase_vocab.txt.\n",
      "INFO:tensorflow:vocabulary_size = 3 in Glyset is inferred from the number of elements in the vocabulary_file ./diabetes_vocab/Glyset_vocab.txt.\n",
      "INFO:tensorflow:vocabulary_size = 3 in Humulin_R is inferred from the number of elements in the vocabulary_file ./diabetes_vocab/Humulin_R_vocab.txt.\n",
      "INFO:tensorflow:vocabulary_size = 3 in Metformin_Hcl is inferred from the number of elements in the vocabulary_file ./diabetes_vocab/Metformin_Hcl_vocab.txt.\n",
      "INFO:tensorflow:vocabulary_size = 3 in Metformin_Hydrochloride is inferred from the number of elements in the vocabulary_file ./diabetes_vocab/Metformin_Hydrochloride_vocab.txt.\n",
      "INFO:tensorflow:vocabulary_size = 3 in Metformin_Hydrochloride_Extended_Release is inferred from the number of elements in the vocabulary_file ./diabetes_vocab/Metformin_Hydrochloride_Extended_Release_vocab.txt.\n",
      "INFO:tensorflow:vocabulary_size = 3 in Miglitol is inferred from the number of elements in the vocabulary_file ./diabetes_vocab/Miglitol_vocab.txt.\n",
      "INFO:tensorflow:vocabulary_size = 3 in Nateglinide is inferred from the number of elements in the vocabulary_file ./diabetes_vocab/Nateglinide_vocab.txt.\n",
      "INFO:tensorflow:vocabulary_size = 3 in Novolin_R is inferred from the number of elements in the vocabulary_file ./diabetes_vocab/Novolin_R_vocab.txt.\n",
      "INFO:tensorflow:vocabulary_size = 2 in Pioglitazole_And_Metformin_Hydrochloride is inferred from the number of elements in the vocabulary_file ./diabetes_vocab/Pioglitazole_And_Metformin_Hydrochloride_vocab.txt.\n",
      "INFO:tensorflow:vocabulary_size = 3 in Pioglitazone is inferred from the number of elements in the vocabulary_file ./diabetes_vocab/Pioglitazone_vocab.txt.\n",
      "INFO:tensorflow:vocabulary_size = 3 in Pioglitazone_Hydrochloride_And_Glimepiride is inferred from the number of elements in the vocabulary_file ./diabetes_vocab/Pioglitazone_Hydrochloride_And_Glimepiride_vocab.txt.\n",
      "INFO:tensorflow:vocabulary_size = 3 in Prandin is inferred from the number of elements in the vocabulary_file ./diabetes_vocab/Prandin_vocab.txt.\n",
      "INFO:tensorflow:vocabulary_size = 3 in Repaglinide is inferred from the number of elements in the vocabulary_file ./diabetes_vocab/Repaglinide_vocab.txt.\n",
      "INFO:tensorflow:vocabulary_size = 3 in Riomet is inferred from the number of elements in the vocabulary_file ./diabetes_vocab/Riomet_vocab.txt.\n",
      "INFO:tensorflow:vocabulary_size = 3 in Riomet_Er is inferred from the number of elements in the vocabulary_file ./diabetes_vocab/Riomet_Er_vocab.txt.\n",
      "INFO:tensorflow:vocabulary_size = 3 in Starlix is inferred from the number of elements in the vocabulary_file ./diabetes_vocab/Starlix_vocab.txt.\n",
      "INFO:tensorflow:vocabulary_size = 3 in Tolazamide is inferred from the number of elements in the vocabulary_file ./diabetes_vocab/Tolazamide_vocab.txt.\n",
      "INFO:tensorflow:vocabulary_size = 3 in Tolbutamide is inferred from the number of elements in the vocabulary_file ./diabetes_vocab/Tolbutamide_vocab.txt.\n"
     ]
    }
   ],
   "source": [
    "from student_utils import create_tf_categorical_feature_cols\n",
    "tf_cat_col_list = create_tf_categorical_feature_cols(student_categorical_col_list)"
   ]
  },
  {
   "cell_type": "code",
   "execution_count": 71,
   "metadata": {},
   "outputs": [
    {
     "name": "stdout",
     "output_type": "stream",
     "text": [
      "Example categorical field:\n",
      "IndicatorColumn(categorical_column=VocabularyFileCategoricalColumn(key='ndc_code', vocabulary_file='./diabetes_vocab/ndc_code_vocab.txt', vocabulary_size=237, num_oov_buckets=1, dtype=tf.string, default_value=-1))\n",
      "WARNING:tensorflow:From /opt/conda/lib/python3.7/site-packages/tensorflow_core/python/feature_column/feature_column_v2.py:4267: IndicatorColumn._variable_shape (from tensorflow.python.feature_column.feature_column_v2) is deprecated and will be removed in a future version.\n",
      "Instructions for updating:\n",
      "The old _FeatureColumn APIs are being deprecated. Please use the new FeatureColumn APIs instead.\n",
      "WARNING:tensorflow:From /opt/conda/lib/python3.7/site-packages/tensorflow_core/python/feature_column/feature_column_v2.py:4322: VocabularyFileCategoricalColumn._num_buckets (from tensorflow.python.feature_column.feature_column_v2) is deprecated and will be removed in a future version.\n",
      "Instructions for updating:\n",
      "The old _FeatureColumn APIs are being deprecated. Please use the new FeatureColumn APIs instead.\n",
      "tf.Tensor(\n",
      "[[0. 0. 0. ... 0. 0. 0.]\n",
      " [0. 0. 0. ... 0. 0. 0.]\n",
      " [0. 1. 0. ... 0. 0. 0.]\n",
      " ...\n",
      " [0. 0. 1. ... 0. 0. 0.]\n",
      " [0. 0. 0. ... 0. 0. 0.]\n",
      " [0. 0. 0. ... 0. 0. 0.]], shape=(128, 238), dtype=float32)\n"
     ]
    }
   ],
   "source": [
    "test_cat_var1 = tf_cat_col_list[0]\n",
    "print(\"Example categorical field:\\n{}\".format(test_cat_var1))\n",
    "demo(test_cat_var1, diabetes_batch)"
   ]
  },
  {
   "cell_type": "markdown",
   "metadata": {},
   "source": [
    "# 5. Create Numerical Features with TF Feature Columns"
   ]
  },
  {
   "cell_type": "markdown",
   "metadata": {},
   "source": [
    "**Question 8**: Using the TF Feature Column API(https://www.tensorflow.org/api_docs/python/tf/feature_column/), please create normalized Tensorflow numeric features for the model. Try to use the z-score normalizer function below to help as well as the 'calculate_stats_from_train_data' function.\n",
    "\n",
    "Response >>  Numerical features are created using TF Feature columns as shown below."
   ]
  },
  {
   "cell_type": "code",
   "execution_count": 72,
   "metadata": {},
   "outputs": [],
   "source": [
    "from student_utils import create_tf_numeric_feature"
   ]
  },
  {
   "cell_type": "markdown",
   "metadata": {},
   "source": [
    "For simplicity the create_tf_numerical_feature_cols function below uses the same normalizer function across all features(z-score normalization) but if you have time feel free to analyze and adapt the normalizer based off the statistical distributions. You may find this as a good resource in determining which transformation fits best for the data https://developers.google.com/machine-learning/data-prep/transform/normalization.\n"
   ]
  },
  {
   "cell_type": "code",
   "execution_count": 73,
   "metadata": {},
   "outputs": [],
   "source": [
    "def calculate_stats_from_train_data(df, col):\n",
    "    mean = df[col].describe()['mean']\n",
    "    std = df[col].describe()['std']\n",
    "    return mean, std\n",
    "\n",
    "def create_tf_numerical_feature_cols(numerical_col_list, train_df):\n",
    "    tf_numeric_col_list = []\n",
    "    for c in numerical_col_list:\n",
    "        mean, std = calculate_stats_from_train_data(train_df, c)\n",
    "        tf_numeric_feature = create_tf_numeric_feature(c, mean, std)\n",
    "        tf_numeric_col_list.append(tf_numeric_feature)\n",
    "    return tf_numeric_col_list"
   ]
  },
  {
   "cell_type": "code",
   "execution_count": 74,
   "metadata": {},
   "outputs": [],
   "source": [
    "tf_cont_col_list = create_tf_numerical_feature_cols(student_numerical_col_list, d_train)"
   ]
  },
  {
   "cell_type": "code",
   "execution_count": 75,
   "metadata": {},
   "outputs": [
    {
     "name": "stdout",
     "output_type": "stream",
     "text": [
      "Example continuous field:\n",
      "NumericColumn(key='num_procedures', shape=(1,), default_value=(0,), dtype=tf.float64, normalizer_fn=functools.partial(<function normalize_numeric_with_zscore at 0x7f13df3795f0>, mean=1.4268408551068883, std=1.7734087649032282))\n",
      "\n",
      "tf.Tensor(\n",
      "[[ 0.]\n",
      " [-1.]\n",
      " [ 5.]\n",
      " [-1.]\n",
      " [-1.]\n",
      " [ 1.]\n",
      " [ 1.]\n",
      " [-1.]\n",
      " [ 3.]\n",
      " [ 2.]\n",
      " [ 0.]\n",
      " [-1.]\n",
      " [-1.]\n",
      " [ 3.]\n",
      " [-1.]\n",
      " [ 5.]\n",
      " [-1.]\n",
      " [-1.]\n",
      " [-1.]\n",
      " [-1.]\n",
      " [-1.]\n",
      " [-1.]\n",
      " [ 5.]\n",
      " [ 1.]\n",
      " [ 0.]\n",
      " [-1.]\n",
      " [-1.]\n",
      " [-1.]\n",
      " [ 4.]\n",
      " [ 0.]\n",
      " [ 0.]\n",
      " [ 2.]\n",
      " [-1.]\n",
      " [ 0.]\n",
      " [ 2.]\n",
      " [ 2.]\n",
      " [-1.]\n",
      " [ 0.]\n",
      " [-1.]\n",
      " [ 0.]\n",
      " [ 1.]\n",
      " [-1.]\n",
      " [-1.]\n",
      " [ 0.]\n",
      " [-1.]\n",
      " [-1.]\n",
      " [-1.]\n",
      " [-1.]\n",
      " [-1.]\n",
      " [ 5.]\n",
      " [ 0.]\n",
      " [-1.]\n",
      " [-1.]\n",
      " [ 3.]\n",
      " [ 0.]\n",
      " [-1.]\n",
      " [-1.]\n",
      " [-1.]\n",
      " [ 5.]\n",
      " [-1.]\n",
      " [ 1.]\n",
      " [ 2.]\n",
      " [ 2.]\n",
      " [-1.]\n",
      " [ 0.]\n",
      " [ 0.]\n",
      " [ 0.]\n",
      " [ 4.]\n",
      " [-1.]\n",
      " [ 5.]\n",
      " [ 0.]\n",
      " [-1.]\n",
      " [ 1.]\n",
      " [-1.]\n",
      " [ 2.]\n",
      " [-1.]\n",
      " [-1.]\n",
      " [ 5.]\n",
      " [-1.]\n",
      " [-1.]\n",
      " [ 0.]\n",
      " [-1.]\n",
      " [ 1.]\n",
      " [ 0.]\n",
      " [ 0.]\n",
      " [-1.]\n",
      " [-1.]\n",
      " [-1.]\n",
      " [ 5.]\n",
      " [ 1.]\n",
      " [ 0.]\n",
      " [ 3.]\n",
      " [ 3.]\n",
      " [-1.]\n",
      " [ 5.]\n",
      " [ 0.]\n",
      " [-1.]\n",
      " [-1.]\n",
      " [ 2.]\n",
      " [ 0.]\n",
      " [-1.]\n",
      " [ 1.]\n",
      " [-1.]\n",
      " [ 0.]\n",
      " [ 4.]\n",
      " [ 5.]\n",
      " [-1.]\n",
      " [-1.]\n",
      " [ 2.]\n",
      " [ 0.]\n",
      " [ 2.]\n",
      " [ 5.]\n",
      " [-1.]\n",
      " [-1.]\n",
      " [ 0.]\n",
      " [ 5.]\n",
      " [ 2.]\n",
      " [ 1.]\n",
      " [ 2.]\n",
      " [ 2.]\n",
      " [-1.]\n",
      " [-1.]\n",
      " [-1.]\n",
      " [ 1.]\n",
      " [ 2.]\n",
      " [-1.]\n",
      " [ 0.]\n",
      " [ 0.]], shape=(128, 1), dtype=float32)\n"
     ]
    }
   ],
   "source": [
    "test_cont_var1 = tf_cont_col_list[0]\n",
    "print(\"Example continuous field:\\n{}\\n\".format(test_cont_var1))\n",
    "demo(test_cont_var1, diabetes_batch)"
   ]
  },
  {
   "cell_type": "markdown",
   "metadata": {},
   "source": [
    "# 6. Build Deep Learning Regression Model with Sequential API and TF Probability Layers"
   ]
  },
  {
   "cell_type": "markdown",
   "metadata": {},
   "source": [
    "## Use DenseFeatures to combine features for model"
   ]
  },
  {
   "cell_type": "markdown",
   "metadata": {},
   "source": [
    "Now that we have prepared categorical and numerical features using Tensorflow's Feature Column API, we can combine them into a dense vector representation for the model. Below we will create this new input layer, which we will call 'claim_feature_layer'."
   ]
  },
  {
   "cell_type": "code",
   "execution_count": 76,
   "metadata": {},
   "outputs": [],
   "source": [
    "claim_feature_columns = tf_cat_col_list + tf_cont_col_list\n",
    "claim_feature_layer = tf.keras.layers.DenseFeatures(claim_feature_columns)"
   ]
  },
  {
   "cell_type": "code",
   "execution_count": 77,
   "metadata": {},
   "outputs": [
    {
     "data": {
      "text/plain": [
       "[IndicatorColumn(categorical_column=VocabularyFileCategoricalColumn(key='ndc_code', vocabulary_file='./diabetes_vocab/ndc_code_vocab.txt', vocabulary_size=237, num_oov_buckets=1, dtype=tf.string, default_value=-1)),\n",
       " IndicatorColumn(categorical_column=VocabularyFileCategoricalColumn(key='readmitted', vocabulary_file='./diabetes_vocab/readmitted_vocab.txt', vocabulary_size=4, num_oov_buckets=1, dtype=tf.string, default_value=-1)),\n",
       " IndicatorColumn(categorical_column=VocabularyFileCategoricalColumn(key='admission_type_id', vocabulary_file='./diabetes_vocab/admission_type_id_vocab.txt', vocabulary_size=9, num_oov_buckets=1, dtype=tf.string, default_value=-1)),\n",
       " IndicatorColumn(categorical_column=VocabularyFileCategoricalColumn(key='discharge_disposition_id', vocabulary_file='./diabetes_vocab/discharge_disposition_id_vocab.txt', vocabulary_size=26, num_oov_buckets=1, dtype=tf.string, default_value=-1)),\n",
       " IndicatorColumn(categorical_column=VocabularyFileCategoricalColumn(key='max_glu_serum', vocabulary_file='./diabetes_vocab/max_glu_serum_vocab.txt', vocabulary_size=5, num_oov_buckets=1, dtype=tf.string, default_value=-1)),\n",
       " IndicatorColumn(categorical_column=VocabularyFileCategoricalColumn(key='admission_source_id', vocabulary_file='./diabetes_vocab/admission_source_id_vocab.txt', vocabulary_size=17, num_oov_buckets=1, dtype=tf.string, default_value=-1)),\n",
       " IndicatorColumn(categorical_column=VocabularyFileCategoricalColumn(key='A1Cresult', vocabulary_file='./diabetes_vocab/A1Cresult_vocab.txt', vocabulary_size=5, num_oov_buckets=1, dtype=tf.string, default_value=-1)),\n",
       " IndicatorColumn(categorical_column=VocabularyFileCategoricalColumn(key='primary_diagnosis_code', vocabulary_file='./diabetes_vocab/primary_diagnosis_code_vocab.txt', vocabulary_size=605, num_oov_buckets=1, dtype=tf.string, default_value=-1)),\n",
       " IndicatorColumn(categorical_column=VocabularyFileCategoricalColumn(key='other_diagnosis_codes', vocabulary_file='./diabetes_vocab/other_diagnosis_codes_vocab.txt', vocabulary_size=9643, num_oov_buckets=1, dtype=tf.string, default_value=-1)),\n",
       " IndicatorColumn(categorical_column=VocabularyFileCategoricalColumn(key='change', vocabulary_file='./diabetes_vocab/change_vocab.txt', vocabulary_size=3, num_oov_buckets=1, dtype=tf.string, default_value=-1)),\n",
       " IndicatorColumn(categorical_column=VocabularyFileCategoricalColumn(key='race', vocabulary_file='./diabetes_vocab/race_vocab.txt', vocabulary_size=7, num_oov_buckets=1, dtype=tf.string, default_value=-1)),\n",
       " IndicatorColumn(categorical_column=VocabularyFileCategoricalColumn(key='gender', vocabulary_file='./diabetes_vocab/gender_vocab.txt', vocabulary_size=4, num_oov_buckets=1, dtype=tf.string, default_value=-1)),\n",
       " IndicatorColumn(categorical_column=VocabularyFileCategoricalColumn(key='age', vocabulary_file='./diabetes_vocab/age_vocab.txt', vocabulary_size=11, num_oov_buckets=1, dtype=tf.string, default_value=-1)),\n",
       " IndicatorColumn(categorical_column=VocabularyFileCategoricalColumn(key='Acarbose', vocabulary_file='./diabetes_vocab/Acarbose_vocab.txt', vocabulary_size=3, num_oov_buckets=1, dtype=tf.string, default_value=-1)),\n",
       " IndicatorColumn(categorical_column=VocabularyFileCategoricalColumn(key='Afrezza', vocabulary_file='./diabetes_vocab/Afrezza_vocab.txt', vocabulary_size=3, num_oov_buckets=1, dtype=tf.string, default_value=-1)),\n",
       " IndicatorColumn(categorical_column=VocabularyFileCategoricalColumn(key='Amaryl', vocabulary_file='./diabetes_vocab/Amaryl_vocab.txt', vocabulary_size=3, num_oov_buckets=1, dtype=tf.string, default_value=-1)),\n",
       " IndicatorColumn(categorical_column=VocabularyFileCategoricalColumn(key='Avandia_2MG', vocabulary_file='./diabetes_vocab/Avandia_2MG_vocab.txt', vocabulary_size=3, num_oov_buckets=1, dtype=tf.string, default_value=-1)),\n",
       " IndicatorColumn(categorical_column=VocabularyFileCategoricalColumn(key='Avandia_4MG', vocabulary_file='./diabetes_vocab/Avandia_4MG_vocab.txt', vocabulary_size=3, num_oov_buckets=1, dtype=tf.string, default_value=-1)),\n",
       " IndicatorColumn(categorical_column=VocabularyFileCategoricalColumn(key='Glimepiride', vocabulary_file='./diabetes_vocab/Glimepiride_vocab.txt', vocabulary_size=3, num_oov_buckets=1, dtype=tf.string, default_value=-1)),\n",
       " IndicatorColumn(categorical_column=VocabularyFileCategoricalColumn(key='Glipizide', vocabulary_file='./diabetes_vocab/Glipizide_vocab.txt', vocabulary_size=3, num_oov_buckets=1, dtype=tf.string, default_value=-1)),\n",
       " IndicatorColumn(categorical_column=VocabularyFileCategoricalColumn(key='Glipizide_And_Metformin_Hcl', vocabulary_file='./diabetes_vocab/Glipizide_And_Metformin_Hcl_vocab.txt', vocabulary_size=3, num_oov_buckets=1, dtype=tf.string, default_value=-1)),\n",
       " IndicatorColumn(categorical_column=VocabularyFileCategoricalColumn(key='Glipizide_And_Metformin_Hydrochloride', vocabulary_file='./diabetes_vocab/Glipizide_And_Metformin_Hydrochloride_vocab.txt', vocabulary_size=3, num_oov_buckets=1, dtype=tf.string, default_value=-1)),\n",
       " IndicatorColumn(categorical_column=VocabularyFileCategoricalColumn(key='Glucophage', vocabulary_file='./diabetes_vocab/Glucophage_vocab.txt', vocabulary_size=3, num_oov_buckets=1, dtype=tf.string, default_value=-1)),\n",
       " IndicatorColumn(categorical_column=VocabularyFileCategoricalColumn(key='Glucophage_XR', vocabulary_file='./diabetes_vocab/Glucophage_XR_vocab.txt', vocabulary_size=3, num_oov_buckets=1, dtype=tf.string, default_value=-1)),\n",
       " IndicatorColumn(categorical_column=VocabularyFileCategoricalColumn(key='Glucotrol', vocabulary_file='./diabetes_vocab/Glucotrol_vocab.txt', vocabulary_size=3, num_oov_buckets=1, dtype=tf.string, default_value=-1)),\n",
       " IndicatorColumn(categorical_column=VocabularyFileCategoricalColumn(key='Glucotrol_XL', vocabulary_file='./diabetes_vocab/Glucotrol_XL_vocab.txt', vocabulary_size=3, num_oov_buckets=1, dtype=tf.string, default_value=-1)),\n",
       " IndicatorColumn(categorical_column=VocabularyFileCategoricalColumn(key='Glyburide', vocabulary_file='./diabetes_vocab/Glyburide_vocab.txt', vocabulary_size=3, num_oov_buckets=1, dtype=tf.string, default_value=-1)),\n",
       " IndicatorColumn(categorical_column=VocabularyFileCategoricalColumn(key='Glyburide_And_Metformin_Hydrochloride', vocabulary_file='./diabetes_vocab/Glyburide_And_Metformin_Hydrochloride_vocab.txt', vocabulary_size=3, num_oov_buckets=1, dtype=tf.string, default_value=-1)),\n",
       " IndicatorColumn(categorical_column=VocabularyFileCategoricalColumn(key='Glyburide-metformin_Hydrochloride', vocabulary_file='./diabetes_vocab/Glyburide-metformin_Hydrochloride_vocab.txt', vocabulary_size=3, num_oov_buckets=1, dtype=tf.string, default_value=-1)),\n",
       " IndicatorColumn(categorical_column=VocabularyFileCategoricalColumn(key='Glynase', vocabulary_file='./diabetes_vocab/Glynase_vocab.txt', vocabulary_size=3, num_oov_buckets=1, dtype=tf.string, default_value=-1)),\n",
       " IndicatorColumn(categorical_column=VocabularyFileCategoricalColumn(key='Glyset', vocabulary_file='./diabetes_vocab/Glyset_vocab.txt', vocabulary_size=3, num_oov_buckets=1, dtype=tf.string, default_value=-1)),\n",
       " IndicatorColumn(categorical_column=VocabularyFileCategoricalColumn(key='Humulin_R', vocabulary_file='./diabetes_vocab/Humulin_R_vocab.txt', vocabulary_size=3, num_oov_buckets=1, dtype=tf.string, default_value=-1)),\n",
       " IndicatorColumn(categorical_column=VocabularyFileCategoricalColumn(key='Metformin_Hcl', vocabulary_file='./diabetes_vocab/Metformin_Hcl_vocab.txt', vocabulary_size=3, num_oov_buckets=1, dtype=tf.string, default_value=-1)),\n",
       " IndicatorColumn(categorical_column=VocabularyFileCategoricalColumn(key='Metformin_Hydrochloride', vocabulary_file='./diabetes_vocab/Metformin_Hydrochloride_vocab.txt', vocabulary_size=3, num_oov_buckets=1, dtype=tf.string, default_value=-1)),\n",
       " IndicatorColumn(categorical_column=VocabularyFileCategoricalColumn(key='Metformin_Hydrochloride_Extended_Release', vocabulary_file='./diabetes_vocab/Metformin_Hydrochloride_Extended_Release_vocab.txt', vocabulary_size=3, num_oov_buckets=1, dtype=tf.string, default_value=-1)),\n",
       " IndicatorColumn(categorical_column=VocabularyFileCategoricalColumn(key='Miglitol', vocabulary_file='./diabetes_vocab/Miglitol_vocab.txt', vocabulary_size=3, num_oov_buckets=1, dtype=tf.string, default_value=-1)),\n",
       " IndicatorColumn(categorical_column=VocabularyFileCategoricalColumn(key='Nateglinide', vocabulary_file='./diabetes_vocab/Nateglinide_vocab.txt', vocabulary_size=3, num_oov_buckets=1, dtype=tf.string, default_value=-1)),\n",
       " IndicatorColumn(categorical_column=VocabularyFileCategoricalColumn(key='Novolin_R', vocabulary_file='./diabetes_vocab/Novolin_R_vocab.txt', vocabulary_size=3, num_oov_buckets=1, dtype=tf.string, default_value=-1)),\n",
       " IndicatorColumn(categorical_column=VocabularyFileCategoricalColumn(key='Pioglitazole_And_Metformin_Hydrochloride', vocabulary_file='./diabetes_vocab/Pioglitazole_And_Metformin_Hydrochloride_vocab.txt', vocabulary_size=2, num_oov_buckets=1, dtype=tf.string, default_value=-1)),\n",
       " IndicatorColumn(categorical_column=VocabularyFileCategoricalColumn(key='Pioglitazone', vocabulary_file='./diabetes_vocab/Pioglitazone_vocab.txt', vocabulary_size=3, num_oov_buckets=1, dtype=tf.string, default_value=-1)),\n",
       " IndicatorColumn(categorical_column=VocabularyFileCategoricalColumn(key='Pioglitazone_Hydrochloride_And_Glimepiride', vocabulary_file='./diabetes_vocab/Pioglitazone_Hydrochloride_And_Glimepiride_vocab.txt', vocabulary_size=3, num_oov_buckets=1, dtype=tf.string, default_value=-1)),\n",
       " IndicatorColumn(categorical_column=VocabularyFileCategoricalColumn(key='Prandin', vocabulary_file='./diabetes_vocab/Prandin_vocab.txt', vocabulary_size=3, num_oov_buckets=1, dtype=tf.string, default_value=-1)),\n",
       " IndicatorColumn(categorical_column=VocabularyFileCategoricalColumn(key='Repaglinide', vocabulary_file='./diabetes_vocab/Repaglinide_vocab.txt', vocabulary_size=3, num_oov_buckets=1, dtype=tf.string, default_value=-1)),\n",
       " IndicatorColumn(categorical_column=VocabularyFileCategoricalColumn(key='Riomet', vocabulary_file='./diabetes_vocab/Riomet_vocab.txt', vocabulary_size=3, num_oov_buckets=1, dtype=tf.string, default_value=-1)),\n",
       " IndicatorColumn(categorical_column=VocabularyFileCategoricalColumn(key='Riomet_Er', vocabulary_file='./diabetes_vocab/Riomet_Er_vocab.txt', vocabulary_size=3, num_oov_buckets=1, dtype=tf.string, default_value=-1)),\n",
       " IndicatorColumn(categorical_column=VocabularyFileCategoricalColumn(key='Starlix', vocabulary_file='./diabetes_vocab/Starlix_vocab.txt', vocabulary_size=3, num_oov_buckets=1, dtype=tf.string, default_value=-1)),\n",
       " IndicatorColumn(categorical_column=VocabularyFileCategoricalColumn(key='Tolazamide', vocabulary_file='./diabetes_vocab/Tolazamide_vocab.txt', vocabulary_size=3, num_oov_buckets=1, dtype=tf.string, default_value=-1)),\n",
       " IndicatorColumn(categorical_column=VocabularyFileCategoricalColumn(key='Tolbutamide', vocabulary_file='./diabetes_vocab/Tolbutamide_vocab.txt', vocabulary_size=3, num_oov_buckets=1, dtype=tf.string, default_value=-1)),\n",
       " NumericColumn(key='num_procedures', shape=(1,), default_value=(0,), dtype=tf.float64, normalizer_fn=functools.partial(<function normalize_numeric_with_zscore at 0x7f13df3795f0>, mean=1.4268408551068883, std=1.7734087649032282)),\n",
       " NumericColumn(key='num_medications', shape=(1,), default_value=(0,), dtype=tf.float64, normalizer_fn=functools.partial(<function normalize_numeric_with_zscore at 0x7f13df3795f0>, mean=16.551098574821854, std=8.426718952732696)),\n",
       " NumericColumn(key='number_diagnoses', shape=(1,), default_value=(0,), dtype=tf.float64, normalizer_fn=functools.partial(<function normalize_numeric_with_zscore at 0x7f13df3795f0>, mean=7.285777909738718, std=1.9883593930090302))]"
      ]
     },
     "execution_count": 77,
     "metadata": {},
     "output_type": "execute_result"
    }
   ],
   "source": [
    "claim_feature_columns"
   ]
  },
  {
   "cell_type": "markdown",
   "metadata": {},
   "source": [
    "## Build Sequential API Model from DenseFeatures and TF Probability Layers"
   ]
  },
  {
   "cell_type": "markdown",
   "metadata": {},
   "source": [
    "Below we have provided some boilerplate code for building a model that connects the Sequential API, DenseFeatures, and Tensorflow Probability layers into a deep learning model. There are many opportunities to further optimize and explore different architectures through benchmarking and testing approaches in various research papers, loss and evaluation metrics, learning curves, hyperparameter tuning, TF probability layers, etc. Feel free to modify and explore as you wish."
   ]
  },
  {
   "cell_type": "markdown",
   "metadata": {},
   "source": [
    "**OPTIONAL**: Come up with a more optimal neural network architecture and hyperparameters. Share the process in discovering the architecture and hyperparameters."
   ]
  },
  {
   "cell_type": "code",
   "execution_count": 114,
   "metadata": {},
   "outputs": [],
   "source": [
    "def build_sequential_model(feature_layer):\n",
    "    model = tf.keras.Sequential([\n",
    "        feature_layer,\n",
    "        tf.keras.layers.Dense(150, activation='relu'),\n",
    "        tf.keras.layers.Dense(100, activation='relu'),\n",
    "        tf.keras.layers.Dense(75, activation='relu'),\n",
    "        tfp.layers.DenseVariational(1+1, posterior_mean_field, prior_trainable),\n",
    "        tfp.layers.DistributionLambda(\n",
    "            lambda t:tfp.distributions.Normal(loc=t[..., :1],\n",
    "                                             scale=1e-3 + tf.math.softplus(0.01 * t[...,1:])\n",
    "                                             )\n",
    "        ),\n",
    "    ])\n",
    "    return model\n",
    "\n",
    "def build_diabetes_model(train_ds, val_ds,  feature_layer,  epochs=5, loss_metric='mse'):\n",
    "    model = build_sequential_model(feature_layer)\n",
    "    model.compile(optimizer='rmsprop', loss=loss_metric, metrics=[loss_metric])\n",
    "    early_stop = tf.keras.callbacks.EarlyStopping(monitor=loss_metric, patience=5)     \n",
    "    history = model.fit(train_ds, validation_data=val_ds,\n",
    "                        callbacks=[early_stop],\n",
    "                        epochs=epochs)\n",
    "    return model, history "
   ]
  },
  {
   "cell_type": "code",
   "execution_count": 115,
   "metadata": {},
   "outputs": [
    {
     "name": "stdout",
     "output_type": "stream",
     "text": [
      "Train for 264 steps, validate for 88 steps\n",
      "Epoch 1/500\n",
      "264/264 [==============================] - 18s 70ms/step - loss: 27.4954 - mse: 27.3220 - val_loss: 22.9022 - val_mse: 22.4343\n",
      "Epoch 2/500\n",
      "264/264 [==============================] - 13s 47ms/step - loss: 18.6413 - mse: 18.0842 - val_loss: 16.5665 - val_mse: 16.0027\n",
      "Epoch 3/500\n",
      "264/264 [==============================] - 13s 48ms/step - loss: 14.9866 - mse: 14.1904 - val_loss: 14.3061 - val_mse: 13.6454\n",
      "Epoch 4/500\n",
      "264/264 [==============================] - 13s 49ms/step - loss: 13.0557 - mse: 12.2410 - val_loss: 11.4248 - val_mse: 10.5273\n",
      "Epoch 5/500\n",
      "264/264 [==============================] - 13s 49ms/step - loss: 11.1257 - mse: 10.3627 - val_loss: 11.4505 - val_mse: 10.6760\n",
      "Epoch 6/500\n",
      "264/264 [==============================] - 13s 48ms/step - loss: 10.8096 - mse: 9.9446 - val_loss: 10.5650 - val_mse: 9.6753\n",
      "Epoch 7/500\n",
      "264/264 [==============================] - 13s 49ms/step - loss: 10.1647 - mse: 9.2852 - val_loss: 11.1095 - val_mse: 10.1672\n",
      "Epoch 8/500\n",
      "264/264 [==============================] - 13s 48ms/step - loss: 9.4612 - mse: 8.5259 - val_loss: 10.2856 - val_mse: 9.3357\n",
      "Epoch 9/500\n",
      "264/264 [==============================] - 12s 47ms/step - loss: 9.6250 - mse: 8.6099 - val_loss: 9.1671 - val_mse: 8.3677\n",
      "Epoch 10/500\n",
      "264/264 [==============================] - 12s 47ms/step - loss: 9.0958 - mse: 8.1613 - val_loss: 9.6921 - val_mse: 8.5783\n",
      "Epoch 11/500\n",
      "264/264 [==============================] - 12s 46ms/step - loss: 8.9731 - mse: 8.0057 - val_loss: 9.2458 - val_mse: 8.3758\n",
      "Epoch 12/500\n",
      "264/264 [==============================] - 13s 50ms/step - loss: 8.7020 - mse: 7.7158 - val_loss: 8.5436 - val_mse: 7.7256\n",
      "Epoch 13/500\n",
      "264/264 [==============================] - 13s 48ms/step - loss: 8.4581 - mse: 7.4895 - val_loss: 8.5094 - val_mse: 7.9021\n",
      "Epoch 14/500\n",
      "264/264 [==============================] - 12s 47ms/step - loss: 8.4510 - mse: 7.5541 - val_loss: 8.8004 - val_mse: 7.6924\n",
      "Epoch 15/500\n",
      "264/264 [==============================] - 13s 48ms/step - loss: 8.0755 - mse: 7.1042 - val_loss: 8.6548 - val_mse: 7.5443\n",
      "Epoch 16/500\n",
      "264/264 [==============================] - 13s 48ms/step - loss: 7.7472 - mse: 6.8458 - val_loss: 8.4033 - val_mse: 7.5561\n",
      "Epoch 17/500\n",
      "264/264 [==============================] - 13s 48ms/step - loss: 7.5327 - mse: 6.7884 - val_loss: 8.8400 - val_mse: 7.9194\n",
      "Epoch 18/500\n",
      "264/264 [==============================] - 12s 47ms/step - loss: 7.6179 - mse: 6.7284 - val_loss: 8.5525 - val_mse: 7.6361\n",
      "Epoch 19/500\n",
      "264/264 [==============================] - 13s 48ms/step - loss: 7.6715 - mse: 6.8084 - val_loss: 8.4908 - val_mse: 7.4634\n",
      "Epoch 20/500\n",
      "264/264 [==============================] - 12s 47ms/step - loss: 7.5708 - mse: 6.5794 - val_loss: 9.0487 - val_mse: 7.9414\n",
      "Epoch 21/500\n",
      "264/264 [==============================] - 13s 48ms/step - loss: 7.2949 - mse: 6.4340 - val_loss: 7.8462 - val_mse: 7.0288\n",
      "Epoch 22/500\n",
      "264/264 [==============================] - 13s 48ms/step - loss: 7.0988 - mse: 6.2373 - val_loss: 8.0546 - val_mse: 6.9607\n",
      "Epoch 23/500\n",
      "264/264 [==============================] - 13s 49ms/step - loss: 7.3163 - mse: 6.2255 - val_loss: 8.1801 - val_mse: 7.3408\n",
      "Epoch 24/500\n",
      "264/264 [==============================] - 13s 48ms/step - loss: 7.0641 - mse: 6.1482 - val_loss: 7.8986 - val_mse: 6.7901\n",
      "Epoch 25/500\n",
      "264/264 [==============================] - 13s 48ms/step - loss: 6.9208 - mse: 5.9276 - val_loss: 9.0136 - val_mse: 8.0343\n",
      "Epoch 26/500\n",
      "264/264 [==============================] - 13s 48ms/step - loss: 6.8850 - mse: 5.9377 - val_loss: 8.4584 - val_mse: 7.5904\n",
      "Epoch 27/500\n",
      "264/264 [==============================] - 13s 48ms/step - loss: 6.5376 - mse: 5.7342 - val_loss: 9.2048 - val_mse: 8.3575\n",
      "Epoch 28/500\n",
      "264/264 [==============================] - 13s 50ms/step - loss: 6.7874 - mse: 5.6864 - val_loss: 8.3633 - val_mse: 7.1098\n",
      "Epoch 29/500\n",
      "264/264 [==============================] - 13s 49ms/step - loss: 6.5058 - mse: 5.6341 - val_loss: 7.8276 - val_mse: 7.0016\n",
      "Epoch 30/500\n",
      "264/264 [==============================] - 13s 48ms/step - loss: 6.3551 - mse: 5.5256 - val_loss: 8.9424 - val_mse: 8.1216\n",
      "Epoch 31/500\n",
      "264/264 [==============================] - 13s 49ms/step - loss: 6.5211 - mse: 5.5107 - val_loss: 7.8105 - val_mse: 7.0282\n",
      "Epoch 32/500\n",
      "264/264 [==============================] - 13s 49ms/step - loss: 6.1446 - mse: 5.5052 - val_loss: 8.1210 - val_mse: 7.1722\n",
      "Epoch 33/500\n",
      "264/264 [==============================] - 13s 48ms/step - loss: 6.3180 - mse: 5.3444 - val_loss: 10.3977 - val_mse: 9.3752\n",
      "Epoch 34/500\n",
      "264/264 [==============================] - 13s 48ms/step - loss: 6.2874 - mse: 5.3008 - val_loss: 7.8638 - val_mse: 6.9298\n",
      "Epoch 35/500\n",
      "264/264 [==============================] - 13s 48ms/step - loss: 6.0766 - mse: 5.1687 - val_loss: 8.1687 - val_mse: 6.9551\n",
      "Epoch 36/500\n",
      "264/264 [==============================] - 13s 49ms/step - loss: 6.3467 - mse: 5.3380 - val_loss: 8.1523 - val_mse: 7.2182\n",
      "Epoch 37/500\n",
      "264/264 [==============================] - 13s 49ms/step - loss: 5.8096 - mse: 4.9834 - val_loss: 9.4907 - val_mse: 8.4418\n",
      "Epoch 38/500\n",
      "264/264 [==============================] - 13s 48ms/step - loss: 6.2958 - mse: 5.1601 - val_loss: 8.9601 - val_mse: 7.8781\n",
      "Epoch 39/500\n",
      "264/264 [==============================] - 13s 48ms/step - loss: 6.0008 - mse: 5.1463 - val_loss: 8.7580 - val_mse: 7.7450\n",
      "Epoch 40/500\n",
      "264/264 [==============================] - 13s 48ms/step - loss: 5.9225 - mse: 4.9852 - val_loss: 8.1197 - val_mse: 7.2455\n",
      "Epoch 41/500\n",
      "264/264 [==============================] - 13s 48ms/step - loss: 5.8545 - mse: 4.9456 - val_loss: 8.0081 - val_mse: 6.9824\n",
      "Epoch 42/500\n",
      "264/264 [==============================] - 13s 48ms/step - loss: 5.9293 - mse: 4.9731 - val_loss: 8.2635 - val_mse: 7.1130\n",
      "Epoch 43/500\n",
      "264/264 [==============================] - 13s 48ms/step - loss: 5.5484 - mse: 4.4419 - val_loss: 8.4128 - val_mse: 7.4464\n",
      "Epoch 44/500\n",
      "264/264 [==============================] - 13s 49ms/step - loss: 5.5845 - mse: 4.6097 - val_loss: 8.9195 - val_mse: 7.7325\n",
      "Epoch 45/500\n",
      "264/264 [==============================] - 13s 49ms/step - loss: 5.4562 - mse: 4.5660 - val_loss: 9.2608 - val_mse: 8.1770\n",
      "Epoch 46/500\n",
      "264/264 [==============================] - 13s 48ms/step - loss: 5.5003 - mse: 4.5672 - val_loss: 8.9520 - val_mse: 8.0183\n",
      "Epoch 47/500\n",
      "264/264 [==============================] - 13s 48ms/step - loss: 5.6037 - mse: 4.6242 - val_loss: 8.6780 - val_mse: 7.7527\n",
      "Epoch 48/500\n",
      "264/264 [==============================] - 13s 49ms/step - loss: 5.3226 - mse: 4.3936 - val_loss: 8.1752 - val_mse: 7.3604\n",
      "Epoch 49/500\n",
      "264/264 [==============================] - 13s 48ms/step - loss: 5.3628 - mse: 4.5107 - val_loss: 8.1974 - val_mse: 7.2779\n",
      "Epoch 50/500\n",
      "264/264 [==============================] - 13s 48ms/step - loss: 5.2784 - mse: 4.3406 - val_loss: 8.3221 - val_mse: 7.3400\n",
      "Epoch 51/500\n",
      "264/264 [==============================] - 13s 48ms/step - loss: 5.4967 - mse: 4.4986 - val_loss: 8.9905 - val_mse: 7.8724\n",
      "Epoch 52/500\n",
      "264/264 [==============================] - 13s 49ms/step - loss: 5.0887 - mse: 4.2043 - val_loss: 8.2443 - val_mse: 7.2932\n",
      "Epoch 53/500\n",
      "264/264 [==============================] - 13s 48ms/step - loss: 5.3104 - mse: 4.4493 - val_loss: 8.2392 - val_mse: 7.3503\n",
      "Epoch 54/500\n",
      "264/264 [==============================] - 13s 48ms/step - loss: 5.2104 - mse: 4.2033 - val_loss: 8.2196 - val_mse: 7.3680\n",
      "Epoch 55/500\n",
      "264/264 [==============================] - 13s 48ms/step - loss: 5.0195 - mse: 4.1089 - val_loss: 8.3457 - val_mse: 7.3088\n",
      "Epoch 56/500\n",
      "264/264 [==============================] - 13s 48ms/step - loss: 4.9147 - mse: 3.9923 - val_loss: 8.7497 - val_mse: 7.7065\n",
      "Epoch 57/500\n",
      "264/264 [==============================] - 13s 48ms/step - loss: 5.0028 - mse: 4.1331 - val_loss: 8.3774 - val_mse: 7.3631\n",
      "Epoch 58/500\n",
      "264/264 [==============================] - 13s 48ms/step - loss: 5.0421 - mse: 4.0511 - val_loss: 11.8915 - val_mse: 10.8022\n",
      "Epoch 59/500\n",
      "264/264 [==============================] - 12s 47ms/step - loss: 4.9963 - mse: 4.1068 - val_loss: 8.3121 - val_mse: 7.3768\n",
      "Epoch 60/500\n",
      "264/264 [==============================] - 12s 47ms/step - loss: 4.9051 - mse: 3.9774 - val_loss: 8.3542 - val_mse: 7.4164\n",
      "Epoch 61/500\n",
      "264/264 [==============================] - 12s 46ms/step - loss: 4.7946 - mse: 3.8839 - val_loss: 8.1122 - val_mse: 7.0605\n",
      "Epoch 62/500\n",
      "264/264 [==============================] - 12s 47ms/step - loss: 5.0012 - mse: 4.0853 - val_loss: 8.3490 - val_mse: 7.4215\n",
      "Epoch 63/500\n",
      "264/264 [==============================] - 12s 46ms/step - loss: 5.0676 - mse: 4.0500 - val_loss: 7.9328 - val_mse: 7.2728\n",
      "Epoch 64/500\n",
      "264/264 [==============================] - 12s 47ms/step - loss: 4.6338 - mse: 3.8185 - val_loss: 8.2362 - val_mse: 7.2433\n",
      "Epoch 65/500\n",
      "264/264 [==============================] - 12s 46ms/step - loss: 5.0841 - mse: 3.9465 - val_loss: 8.9371 - val_mse: 8.1105\n",
      "Epoch 66/500\n",
      "264/264 [==============================] - 12s 47ms/step - loss: 4.7259 - mse: 3.7249 - val_loss: 8.2950 - val_mse: 7.2098\n",
      "Epoch 67/500\n",
      "264/264 [==============================] - 12s 46ms/step - loss: 4.7243 - mse: 3.7768 - val_loss: 8.7990 - val_mse: 7.6849\n",
      "Epoch 68/500\n",
      "264/264 [==============================] - 12s 46ms/step - loss: 4.6142 - mse: 3.8313 - val_loss: 8.2973 - val_mse: 7.2684\n",
      "Epoch 69/500\n",
      "264/264 [==============================] - 12s 47ms/step - loss: 4.5738 - mse: 3.6555 - val_loss: 8.3843 - val_mse: 7.3523\n",
      "Epoch 70/500\n",
      "264/264 [==============================] - 12s 47ms/step - loss: 4.7109 - mse: 3.7199 - val_loss: 8.5381 - val_mse: 7.7337\n",
      "Epoch 71/500\n",
      "264/264 [==============================] - 12s 47ms/step - loss: 4.6027 - mse: 3.5433 - val_loss: 9.4318 - val_mse: 8.3267\n",
      "Epoch 72/500\n",
      "264/264 [==============================] - 13s 48ms/step - loss: 4.4797 - mse: 3.5440 - val_loss: 9.0272 - val_mse: 8.1842\n",
      "Epoch 73/500\n",
      "264/264 [==============================] - 12s 47ms/step - loss: 4.6980 - mse: 3.8823 - val_loss: 8.1224 - val_mse: 7.1198\n",
      "Epoch 74/500\n",
      "264/264 [==============================] - 12s 46ms/step - loss: 4.4403 - mse: 3.4445 - val_loss: 8.3934 - val_mse: 7.5162\n",
      "Epoch 75/500\n",
      "264/264 [==============================] - 12s 45ms/step - loss: 4.6332 - mse: 3.5944 - val_loss: 8.3470 - val_mse: 7.7503\n",
      "Epoch 76/500\n",
      "264/264 [==============================] - 12s 47ms/step - loss: 4.4507 - mse: 3.5231 - val_loss: 9.3055 - val_mse: 8.2257\n",
      "Epoch 77/500\n",
      "264/264 [==============================] - 12s 45ms/step - loss: 4.4216 - mse: 3.4936 - val_loss: 8.7394 - val_mse: 7.9484\n",
      "Epoch 78/500\n",
      "264/264 [==============================] - 12s 46ms/step - loss: 4.2458 - mse: 3.4792 - val_loss: 9.0373 - val_mse: 8.0691\n",
      "Epoch 79/500\n",
      "264/264 [==============================] - 12s 46ms/step - loss: 4.3465 - mse: 3.4935 - val_loss: 8.5557 - val_mse: 7.4616\n"
     ]
    }
   ],
   "source": [
    "diabetes_model, history = build_diabetes_model(diabetes_train_ds, diabetes_val_ds,  claim_feature_layer,  epochs=500)"
   ]
  },
  {
   "cell_type": "markdown",
   "metadata": {},
   "source": [
    "## Show Model Uncertainty Range with TF Probability"
   ]
  },
  {
   "cell_type": "markdown",
   "metadata": {},
   "source": [
    "**Question 9**: Now that we have trained a model with TF Probability layers, we can extract the mean and standard deviation for each prediction. Please fill in the answer for the m and s variables below. The code for getting the predictions is provided for you below.\n",
    "\n",
    "Response >>  Extracted mean and standard deviation for each predictions.  Please see below."
   ]
  },
  {
   "cell_type": "code",
   "execution_count": 116,
   "metadata": {},
   "outputs": [],
   "source": [
    "feature_list = student_categorical_col_list + student_numerical_col_list\n",
    "diabetes_x_tst = dict(d_test[feature_list])\n",
    "diabetes_yhat = diabetes_model(diabetes_x_tst)\n",
    "preds = diabetes_model.predict(diabetes_test_ds)"
   ]
  },
  {
   "cell_type": "code",
   "execution_count": 117,
   "metadata": {},
   "outputs": [
    {
     "data": {
      "text/plain": [
       "array([[10.567047 ],\n",
       "       [ 5.4578767],\n",
       "       [ 3.0521886],\n",
       "       ...,\n",
       "       [ 1.5078876],\n",
       "       [ 3.577551 ],\n",
       "       [ 3.3974333]], dtype=float32)"
      ]
     },
     "execution_count": 117,
     "metadata": {},
     "output_type": "execute_result"
    }
   ],
   "source": [
    "preds"
   ]
  },
  {
   "cell_type": "code",
   "execution_count": 118,
   "metadata": {},
   "outputs": [],
   "source": [
    "from student_utils import get_mean_std_from_preds\n",
    "m, s = get_mean_std_from_preds(diabetes_yhat)"
   ]
  },
  {
   "cell_type": "code",
   "execution_count": 119,
   "metadata": {},
   "outputs": [
    {
     "data": {
      "text/plain": [
       "<tf.Tensor: shape=(11227, 1), dtype=float32, numpy=\n",
       "array([[0.6908944],\n",
       "       [0.6911451],\n",
       "       [0.6914922],\n",
       "       ...,\n",
       "       [0.6916   ],\n",
       "       [0.6909988],\n",
       "       [0.6913593]], dtype=float32)>"
      ]
     },
     "execution_count": 119,
     "metadata": {},
     "output_type": "execute_result"
    }
   ],
   "source": [
    "s"
   ]
  },
  {
   "cell_type": "code",
   "execution_count": 120,
   "metadata": {},
   "outputs": [
    {
     "data": {
      "text/plain": [
       "<tf.Tensor: shape=(11227, 1), dtype=float32, numpy=\n",
       "array([[5.8843136],\n",
       "       [2.158029 ],\n",
       "       [2.8992243],\n",
       "       ...,\n",
       "       [3.1535525],\n",
       "       [2.1257737],\n",
       "       [2.5836773]], dtype=float32)>"
      ]
     },
     "execution_count": 120,
     "metadata": {},
     "output_type": "execute_result"
    }
   ],
   "source": [
    "m"
   ]
  },
  {
   "cell_type": "markdown",
   "metadata": {},
   "source": [
    "## Show Prediction Output "
   ]
  },
  {
   "cell_type": "code",
   "execution_count": 121,
   "metadata": {},
   "outputs": [],
   "source": [
    "prob_outputs = {\n",
    "    \"pred\": preds.flatten(),\n",
    "    \"actual_value\": d_test['time_in_hospital'].values,\n",
    "    \"pred_mean\": m.numpy().flatten(),\n",
    "    \"pred_std\": s.numpy().flatten()\n",
    "}\n",
    "prob_output_df = pd.DataFrame(prob_outputs)"
   ]
  },
  {
   "cell_type": "code",
   "execution_count": 122,
   "metadata": {},
   "outputs": [
    {
     "data": {
      "text/html": [
       "<div>\n",
       "<style scoped>\n",
       "    .dataframe tbody tr th:only-of-type {\n",
       "        vertical-align: middle;\n",
       "    }\n",
       "\n",
       "    .dataframe tbody tr th {\n",
       "        vertical-align: top;\n",
       "    }\n",
       "\n",
       "    .dataframe thead th {\n",
       "        text-align: right;\n",
       "    }\n",
       "</style>\n",
       "<table border=\"1\" class=\"dataframe\">\n",
       "  <thead>\n",
       "    <tr style=\"text-align: right;\">\n",
       "      <th></th>\n",
       "      <th>pred</th>\n",
       "      <th>actual_value</th>\n",
       "      <th>pred_mean</th>\n",
       "      <th>pred_std</th>\n",
       "    </tr>\n",
       "  </thead>\n",
       "  <tbody>\n",
       "    <tr>\n",
       "      <th>0</th>\n",
       "      <td>10.567047</td>\n",
       "      <td>13.0</td>\n",
       "      <td>5.884314</td>\n",
       "      <td>0.690894</td>\n",
       "    </tr>\n",
       "    <tr>\n",
       "      <th>1</th>\n",
       "      <td>5.457877</td>\n",
       "      <td>1.0</td>\n",
       "      <td>2.158029</td>\n",
       "      <td>0.691145</td>\n",
       "    </tr>\n",
       "    <tr>\n",
       "      <th>2</th>\n",
       "      <td>3.052189</td>\n",
       "      <td>4.0</td>\n",
       "      <td>2.899224</td>\n",
       "      <td>0.691492</td>\n",
       "    </tr>\n",
       "    <tr>\n",
       "      <th>3</th>\n",
       "      <td>5.201452</td>\n",
       "      <td>2.0</td>\n",
       "      <td>2.135834</td>\n",
       "      <td>0.691016</td>\n",
       "    </tr>\n",
       "    <tr>\n",
       "      <th>4</th>\n",
       "      <td>7.930548</td>\n",
       "      <td>3.0</td>\n",
       "      <td>4.209638</td>\n",
       "      <td>0.691101</td>\n",
       "    </tr>\n",
       "  </tbody>\n",
       "</table>\n",
       "</div>"
      ],
      "text/plain": [
       "        pred  actual_value  pred_mean  pred_std\n",
       "0  10.567047          13.0   5.884314  0.690894\n",
       "1   5.457877           1.0   2.158029  0.691145\n",
       "2   3.052189           4.0   2.899224  0.691492\n",
       "3   5.201452           2.0   2.135834  0.691016\n",
       "4   7.930548           3.0   4.209638  0.691101"
      ]
     },
     "execution_count": 122,
     "metadata": {},
     "output_type": "execute_result"
    }
   ],
   "source": [
    "prob_output_df.head()"
   ]
  },
  {
   "cell_type": "markdown",
   "metadata": {},
   "source": [
    "## Convert Regression Output to Classification Output for Patient Selection"
   ]
  },
  {
   "cell_type": "markdown",
   "metadata": {},
   "source": [
    "**Question 10**: Given the output predictions, convert it to a binary label for whether the patient meets the time criteria or does not (HINT: use the mean prediction numpy array). The expected output is a numpy array with a 1 or 0 based off if the prediction meets or doesnt meet the criteria."
   ]
  },
  {
   "cell_type": "code",
   "execution_count": 123,
   "metadata": {},
   "outputs": [
    {
     "data": {
      "text/plain": [
       "0        5.884314\n",
       "1        2.158029\n",
       "2        2.899224\n",
       "3        2.135834\n",
       "4        4.209638\n",
       "           ...   \n",
       "11222    2.159469\n",
       "11223    2.363847\n",
       "11224    3.153553\n",
       "11225    2.125774\n",
       "11226    2.583677\n",
       "Name: pred_mean, Length: 11227, dtype: float32"
      ]
     },
     "execution_count": 123,
     "metadata": {},
     "output_type": "execute_result"
    }
   ],
   "source": [
    "prob_output_df['pred_mean']"
   ]
  },
  {
   "cell_type": "code",
   "execution_count": 124,
   "metadata": {},
   "outputs": [],
   "source": [
    "from student_utils import get_student_binary_prediction\n",
    "student_binary_prediction = get_student_binary_prediction(prob_output_df, 'pred_mean')"
   ]
  },
  {
   "cell_type": "code",
   "execution_count": 125,
   "metadata": {},
   "outputs": [
    {
     "data": {
      "text/plain": [
       "0        1\n",
       "1        0\n",
       "2        0\n",
       "3        0\n",
       "4        0\n",
       "        ..\n",
       "11222    0\n",
       "11223    0\n",
       "11224    0\n",
       "11225    0\n",
       "11226    0\n",
       "Name: score, Length: 11227, dtype: int64"
      ]
     },
     "execution_count": 125,
     "metadata": {},
     "output_type": "execute_result"
    }
   ],
   "source": [
    "student_binary_prediction"
   ]
  },
  {
   "cell_type": "markdown",
   "metadata": {},
   "source": [
    "### Add Binary Prediction to Test Dataframe"
   ]
  },
  {
   "cell_type": "markdown",
   "metadata": {},
   "source": [
    "Using the student_binary_prediction output that is a numpy array with binary labels, we can use this to add to a dataframe to better visualize and also to prepare the data for the Aequitas toolkit. The Aequitas toolkit requires that the predictions be mapped to a binary label for the predictions (called 'score' field) and the actual value (called 'label_value')."
   ]
  },
  {
   "cell_type": "code",
   "execution_count": 126,
   "metadata": {},
   "outputs": [],
   "source": [
    "def add_pred_to_test(test_df, pred_np, demo_col_list):\n",
    "    for c in demo_col_list:\n",
    "        test_df[c] = test_df[c].astype(str)\n",
    "    test_df['score'] = pred_np\n",
    "    test_df['label_value'] = test_df['time_in_hospital'].apply(lambda x: 1 if x >=5 else 0)\n",
    "    return test_df\n",
    "\n",
    "pred_test_df = add_pred_to_test(d_test, student_binary_prediction, ['race', 'gender'])"
   ]
  },
  {
   "cell_type": "code",
   "execution_count": 127,
   "metadata": {},
   "outputs": [
    {
     "data": {
      "text/html": [
       "<div>\n",
       "<style scoped>\n",
       "    .dataframe tbody tr th:only-of-type {\n",
       "        vertical-align: middle;\n",
       "    }\n",
       "\n",
       "    .dataframe tbody tr th {\n",
       "        vertical-align: top;\n",
       "    }\n",
       "\n",
       "    .dataframe thead th {\n",
       "        text-align: right;\n",
       "    }\n",
       "</style>\n",
       "<table border=\"1\" class=\"dataframe\">\n",
       "  <thead>\n",
       "    <tr style=\"text-align: right;\">\n",
       "      <th></th>\n",
       "      <th>patient_nbr</th>\n",
       "      <th>gender</th>\n",
       "      <th>race</th>\n",
       "      <th>time_in_hospital</th>\n",
       "      <th>score</th>\n",
       "      <th>label_value</th>\n",
       "    </tr>\n",
       "  </thead>\n",
       "  <tbody>\n",
       "    <tr>\n",
       "      <th>0</th>\n",
       "      <td>125318084</td>\n",
       "      <td>Male</td>\n",
       "      <td>Caucasian</td>\n",
       "      <td>13.0</td>\n",
       "      <td>1</td>\n",
       "      <td>1</td>\n",
       "    </tr>\n",
       "    <tr>\n",
       "      <th>1</th>\n",
       "      <td>101280168</td>\n",
       "      <td>Female</td>\n",
       "      <td>Caucasian</td>\n",
       "      <td>1.0</td>\n",
       "      <td>0</td>\n",
       "      <td>0</td>\n",
       "    </tr>\n",
       "    <tr>\n",
       "      <th>2</th>\n",
       "      <td>90402138</td>\n",
       "      <td>Male</td>\n",
       "      <td>Caucasian</td>\n",
       "      <td>4.0</td>\n",
       "      <td>0</td>\n",
       "      <td>0</td>\n",
       "    </tr>\n",
       "    <tr>\n",
       "      <th>3</th>\n",
       "      <td>4106358</td>\n",
       "      <td>Female</td>\n",
       "      <td>Caucasian</td>\n",
       "      <td>2.0</td>\n",
       "      <td>0</td>\n",
       "      <td>0</td>\n",
       "    </tr>\n",
       "    <tr>\n",
       "      <th>4</th>\n",
       "      <td>50010552</td>\n",
       "      <td>Male</td>\n",
       "      <td>AfricanAmerican</td>\n",
       "      <td>3.0</td>\n",
       "      <td>0</td>\n",
       "      <td>0</td>\n",
       "    </tr>\n",
       "  </tbody>\n",
       "</table>\n",
       "</div>"
      ],
      "text/plain": [
       "   patient_nbr  gender             race  time_in_hospital  score  label_value\n",
       "0    125318084    Male        Caucasian              13.0      1            1\n",
       "1    101280168  Female        Caucasian               1.0      0            0\n",
       "2     90402138    Male        Caucasian               4.0      0            0\n",
       "3      4106358  Female        Caucasian               2.0      0            0\n",
       "4     50010552    Male  AfricanAmerican               3.0      0            0"
      ]
     },
     "execution_count": 127,
     "metadata": {},
     "output_type": "execute_result"
    }
   ],
   "source": [
    "pred_test_df[['patient_nbr', 'gender', 'race', 'time_in_hospital', 'score', 'label_value']].head()"
   ]
  },
  {
   "cell_type": "markdown",
   "metadata": {},
   "source": [
    "## Model Evaluation Metrics "
   ]
  },
  {
   "cell_type": "markdown",
   "metadata": {},
   "source": [
    "**Question 11**: Now it is time to use the newly created binary labels in the 'pred_test_df' dataframe to evaluate the model with some common classification metrics. Please create a report summary of the performance of the model and be sure to give the ROC AUC, F1 score(weighted), class precision and recall scores. "
   ]
  },
  {
   "cell_type": "markdown",
   "metadata": {},
   "source": [
    "For the report please be sure to include the following three parts:\n",
    "- With a non-technical audience in mind, explain the precision-recall tradeoff in regard to how you have optimized your model.\n",
    "\n",
    "- What are some areas of improvement for future iterations?\n"
   ]
  },
  {
   "cell_type": "markdown",
   "metadata": {},
   "source": [
    "-----------\n",
    "Responses >>\n",
    "---------------------------------------\n",
    "General Understanding :  Precision vs Recall \n",
    "----------------------------------------\n",
    "Recall: ability of a classification model to identify all relevant instances\n",
    "Precision: ability of a classification model to return only relevant instances\n",
    "F1 score: single metric that combines recall and precision using the harmonic mean\n",
    "An ROC curve plots the true positive rate on the y-axis versus the false positive rate on the x-axis. The true positive rate (TPR) is the recall and the false positive rate (FPR) is the probability of a false alarm.\n",
    "\n",
    "----------------------------------------------------\n",
    "Patient Drug Testing ( Precision vs Recall Tradeoff):\n",
    "-------------------------------------------------------\n",
    "1. Precision is important than Recall metrics for Patient Selection for drug testing since selecting \"only\" right patients is important than selecting 'all' patient for drug testing. It will be okay to miss-out few right patients but it will NOT be okay if we select 'wrong' patient for drug testing.  \n",
    "\n",
    "2. For drug test, we want to ensure that we select right patients who are staying for more than 5-7 days.  If we select wrong patient , who is not staying in the hospital for more 5-7 days, then, we can not perform drug test.  Therefore, Precision is more importan for us.  Its okay to miss few right patients by model but it is important that selected patients are accurate and they are staying for more than 5 days - to ensure successful drug test. \n",
    "\n",
    "3. Other balanced approach , we can follow is to set threshold at F1 score.  This may be useful when we want to do balance between precision and recall - where both are important.\n",
    "\n",
    "---------------------------------------------\n",
    "Areas of improvement for future iterations :\n",
    "---------------------------------------------\n",
    "1.  Adjust Network Architure :  Adjust number of hidden layers and number of neurons in each layer.\n",
    "2.  Use different learning rates for model training and tuning\n",
    "4.  Use different batches and epoch for model training and tuning\n",
    "5.  Use drop-out techniques( regularization)\n",
    "6.  Try other optimizer : Adam for loss function optimization\n",
    "7.  Plot model accuracy chart on training vs validation dataset. This is to check if we overfitting or underfitting data."
   ]
  },
  {
   "cell_type": "code",
   "execution_count": 128,
   "metadata": {},
   "outputs": [],
   "source": [
    "# AUC, F1, precision and recall"
   ]
  },
  {
   "cell_type": "code",
   "execution_count": 129,
   "metadata": {},
   "outputs": [
    {
     "name": "stdout",
     "output_type": "stream",
     "text": [
      "[[6224  618]\n",
      " [2505 1880]]\n"
     ]
    }
   ],
   "source": [
    "from sklearn.metrics import confusion_matrix\n",
    "print(confusion_matrix(pred_test_df['label_value'], pred_test_df['score']))\n"
   ]
  },
  {
   "cell_type": "code",
   "execution_count": 130,
   "metadata": {},
   "outputs": [
    {
     "name": "stdout",
     "output_type": "stream",
     "text": [
      "              precision    recall  f1-score   support\n",
      "\n",
      "           0       0.71      0.91      0.80      6842\n",
      "           1       0.75      0.43      0.55      4385\n",
      "\n",
      "    accuracy                           0.72     11227\n",
      "   macro avg       0.73      0.67      0.67     11227\n",
      "weighted avg       0.73      0.72      0.70     11227\n",
      "\n"
     ]
    }
   ],
   "source": [
    "from sklearn.metrics import classification_report\n",
    "print(classification_report(pred_test_df['label_value'], pred_test_df['score']))"
   ]
  },
  {
   "cell_type": "code",
   "execution_count": 131,
   "metadata": {},
   "outputs": [
    {
     "name": "stdout",
     "output_type": "stream",
     "text": [
      "AUC score :  0.6692049275102434\n",
      "F1 score :  0.7005559989897852\n",
      "Precision score:  0.721831299545738\n",
      "Recall score :  0.721831299545738\n"
     ]
    }
   ],
   "source": [
    "from sklearn.metrics import auc, f1_score, roc_auc_score, recall_score, precision_score\n",
    "print(\"AUC score : \",roc_auc_score(pred_test_df['label_value'], pred_test_df['score']))\n",
    "print(\"F1 score : \", f1_score(pred_test_df['label_value'], pred_test_df['score'], average='weighted'))\n",
    "print(\"Precision score: \", precision_score(pred_test_df['label_value'], pred_test_df['score'], average='micro'))\n",
    "print(\"Recall score : \", recall_score(pred_test_df['label_value'], pred_test_df['score'], average='micro'))"
   ]
  },
  {
   "cell_type": "markdown",
   "metadata": {},
   "source": [
    "# 7. Evaluating Potential Model Biases with Aequitas Toolkit"
   ]
  },
  {
   "cell_type": "markdown",
   "metadata": {},
   "source": [
    "## Prepare Data For Aequitas Bias Toolkit "
   ]
  },
  {
   "cell_type": "markdown",
   "metadata": {},
   "source": [
    "Using the gender and race fields, we will prepare the data for the Aequitas Toolkit."
   ]
  },
  {
   "cell_type": "code",
   "execution_count": 132,
   "metadata": {},
   "outputs": [
    {
     "name": "stderr",
     "output_type": "stream",
     "text": [
      "/opt/conda/lib/python3.7/site-packages/aequitas/group.py:143: SettingWithCopyWarning: \n",
      "A value is trying to be set on a copy of a slice from a DataFrame.\n",
      "Try using .loc[row_indexer,col_indexer] = value instead\n",
      "\n",
      "See the caveats in the documentation: https://pandas.pydata.org/pandas-docs/stable/user_guide/indexing.html#returning-a-view-versus-a-copy\n",
      "  df['score'] = df['score'].astype(float)\n"
     ]
    },
    {
     "name": "stdout",
     "output_type": "stream",
     "text": [
      "model_id, score_thresholds 1 {'rank_abs': [2498]}\n"
     ]
    }
   ],
   "source": [
    "# Aequitas\n",
    "from aequitas.preprocessing import preprocess_input_df\n",
    "from aequitas.group import Group\n",
    "from aequitas.plotting import Plot\n",
    "from aequitas.bias import Bias\n",
    "from aequitas.fairness import Fairness\n",
    "\n",
    "ae_subset_df = pred_test_df[['race', 'gender', 'score', 'label_value']]\n",
    "ae_df, _ = preprocess_input_df(ae_subset_df)\n",
    "g = Group()\n",
    "xtab, _ = g.get_crosstabs(ae_df)\n",
    "absolute_metrics = g.list_absolute_metrics(xtab)\n",
    "clean_xtab = xtab.fillna(-1)\n",
    "aqp = Plot()\n",
    "b = Bias()\n"
   ]
  },
  {
   "cell_type": "markdown",
   "metadata": {},
   "source": [
    "## Reference Group Selection"
   ]
  },
  {
   "cell_type": "markdown",
   "metadata": {},
   "source": [
    "Below we have chosen the reference group for our analysis but feel free to select another one."
   ]
  },
  {
   "cell_type": "code",
   "execution_count": 133,
   "metadata": {},
   "outputs": [
    {
     "name": "stdout",
     "output_type": "stream",
     "text": [
      "get_disparity_predefined_group()\n"
     ]
    },
    {
     "name": "stderr",
     "output_type": "stream",
     "text": [
      "/opt/conda/lib/python3.7/site-packages/aequitas/bias.py:368: FutureWarning: The pandas.np module is deprecated and will be removed from pandas in a future version. Import numpy directly instead\n",
      "  df = df.replace(pd.np.inf, fill_divbyzero)\n",
      "/opt/conda/lib/python3.7/site-packages/aequitas/fairness.py:32: FutureWarning: The pandas.np module is deprecated and will be removed from pandas in a future version. Import numpy directly instead\n",
      "  self.fair_eval = lambda tau: lambda x: pd.np.nan if pd.np.isnan(x) else \\\n",
      "/opt/conda/lib/python3.7/site-packages/aequitas/fairness.py:45: FutureWarning: The pandas.np module is deprecated and will be removed from pandas in a future version. Import numpy directly instead\n",
      "  self.high_level_pair_eval = lambda col1, col2: lambda x: pd.np.nan if (pd.np.isnan(x[col1]) and pd.np.isnan(x[col2])) \\\n"
     ]
    }
   ],
   "source": [
    "# test reference group with Caucasian Male\n",
    "bdf = b.get_disparity_predefined_groups(clean_xtab, \n",
    "                    original_df=ae_df, \n",
    "                    ref_groups_dict={'race':'Caucasian', 'gender':'Male'\n",
    "                                     }, \n",
    "                    alpha=0.05, \n",
    "                    check_significance=False)\n",
    "\n",
    "\n",
    "f = Fairness()\n",
    "fdf = f.get_group_value_fairness(bdf)"
   ]
  },
  {
   "cell_type": "markdown",
   "metadata": {},
   "source": [
    "## Race and Gender Bias Analysis for Patient Selection"
   ]
  },
  {
   "cell_type": "code",
   "execution_count": null,
   "metadata": {},
   "outputs": [],
   "source": []
  },
  {
   "cell_type": "markdown",
   "metadata": {},
   "source": [
    "**Question 12**: For the gender and race fields, please plot two metrics that are important for patient selection below and state whether there is a significant bias in your model across any of the groups along with justification for your statement.\n",
    "\n",
    "Responses >>\n",
    "1. Based on below TPR visual for Gender bias, we can see that Males have slightly higher chances to get selected for Patient durg testing.\n",
    "2. Based on below TPR visual for Race bias, we can see that Asian will have higher chances to get selected for patient drug testing ( Their TPR is 0.73)"
   ]
  },
  {
   "cell_type": "code",
   "execution_count": 134,
   "metadata": {
    "scrolled": true
   },
   "outputs": [
    {
     "data": {
      "image/png": "[encoded data removed]",
      "text/plain": [
       "<Figure size 720x360 with 1 Axes>"
      ]
     },
     "metadata": {
      "needs_background": "light"
     },
     "output_type": "display_data"
    }
   ],
   "source": [
    "# Plot two metrics\n",
    "\n",
    "# Is there significant bias in your model for either race or gender?\n",
    "tpr = aqp.plot_group_metric(clean_xtab, 'tpr')"
   ]
  },
  {
   "cell_type": "code",
   "execution_count": 135,
   "metadata": {},
   "outputs": [
    {
     "data": {
      "image/png": "[encoded data removed]",
      "text/plain": [
       "<Figure size 720x360 with 1 Axes>"
      ]
     },
     "metadata": {
      "needs_background": "light"
     },
     "output_type": "display_data"
    }
   ],
   "source": [
    "fpr = aqp.plot_group_metric(clean_xtab, 'fpr')"
   ]
  },
  {
   "cell_type": "code",
   "execution_count": 136,
   "metadata": {},
   "outputs": [
    {
     "data": {
      "image/png": "[encoded data removed]",
      "text/plain": [
       "<Figure size 720x360 with 1 Axes>"
      ]
     },
     "metadata": {
      "needs_background": "light"
     },
     "output_type": "display_data"
    }
   ],
   "source": [
    "tnr = aqp.plot_group_metric(clean_xtab, 'tnr')"
   ]
  },
  {
   "cell_type": "code",
   "execution_count": 137,
   "metadata": {},
   "outputs": [
    {
     "data": {
      "image/png": "[encoded data removed]",
      "text/plain": [
       "<Figure size 720x360 with 1 Axes>"
      ]
     },
     "metadata": {
      "needs_background": "light"
     },
     "output_type": "display_data"
    }
   ],
   "source": [
    "precision = aqp.plot_group_metric(clean_xtab, 'precision')"
   ]
  },
  {
   "cell_type": "markdown",
   "metadata": {},
   "source": [
    "## Fairness Analysis Example - Relative to a Reference Group "
   ]
  },
  {
   "cell_type": "markdown",
   "metadata": {},
   "source": [
    "**Question 13**: Earlier we defined our reference group and then calculated disparity metrics relative to this grouping. Please provide a visualization of the fairness evaluation for this reference group and analyze whether there is disparity.\n",
    "\n",
    "Responses >>\n",
    "1. Based on below Fairnesss disparity chart for RACE(FPR Disparity RACE visual), Asian (FPR=0.45) have lowest chances of falsely selected for drug testing. \n",
    "1. Based on below Fairnesss disparity chart for RACE(TPR Disparity RACE visual), Asian (FPR=1.01) have slightly higher chances to positively selected for drug testing in comparison to Caucasian.\n",
    "2. Based on below disparity chart(TPR) for Gender,  Women have almost same chances to get selected for patient drug testing. \n",
    "3. Based on below disparity chart (FPR) for Gender,  Women have higher chances to falsely selected for patient drug testing .\n"
   ]
  },
  {
   "cell_type": "code",
   "execution_count": 138,
   "metadata": {},
   "outputs": [],
   "source": [
    "# Reference group fairness plot"
   ]
  },
  {
   "cell_type": "code",
   "execution_count": 139,
   "metadata": {},
   "outputs": [
    {
     "data": {
      "image/png": "[encoded data removed]",
      "text/plain": [
       "<Figure size 720x360 with 1 Axes>"
      ]
     },
     "metadata": {
      "needs_background": "light"
     },
     "output_type": "display_data"
    }
   ],
   "source": [
    "fpr_fairness = aqp.plot_fairness_group(fdf, group_metric='fpr', title=True)"
   ]
  },
  {
   "cell_type": "code",
   "execution_count": 140,
   "metadata": {},
   "outputs": [
    {
     "data": {
      "image/png": "[encoded data removed]",
      "text/plain": [
       "<Figure size 360x288 with 1 Axes>"
      ]
     },
     "metadata": {
      "needs_background": "light"
     },
     "output_type": "display_data"
    }
   ],
   "source": [
    "fpr_disparity_fairness = aqp.plot_fairness_disparity(fdf, group_metric='fpr', attribute_name='race')"
   ]
  },
  {
   "cell_type": "code",
   "execution_count": 141,
   "metadata": {},
   "outputs": [
    {
     "data": {
      "image/png": "[encoded data removed]",
      "text/plain": [
       "<Figure size 360x288 with 1 Axes>"
      ]
     },
     "metadata": {
      "needs_background": "light"
     },
     "output_type": "display_data"
    }
   ],
   "source": [
    "tpr_disparity_fairness = aqp.plot_fairness_disparity(fdf, group_metric='tpr', attribute_name='race')"
   ]
  },
  {
   "cell_type": "code",
   "execution_count": 142,
   "metadata": {},
   "outputs": [
    {
     "data": {
      "image/png": "[encoded data removed]",
      "text/plain": [
       "<Figure size 360x288 with 1 Axes>"
      ]
     },
     "metadata": {
      "needs_background": "light"
     },
     "output_type": "display_data"
    }
   ],
   "source": [
    "# Based on below disparity chart(TPR) for Gender,  Women have almost same chances to get selected for patient drug testing .\n",
    "# Based on below disparity chart (FPR) for Gender,  Women have higher chances to falsely selected for patient drug testing .\n",
    "\n",
    "tpr_disparity_fairness = aqp.plot_fairness_disparity(fdf, group_metric='tpr', attribute_name='gender')"
   ]
  },
  {
   "cell_type": "code",
   "execution_count": 143,
   "metadata": {},
   "outputs": [
    {
     "data": {
      "image/png": "[encoded data removed]",
      "text/plain": [
       "<Figure size 360x288 with 1 Axes>"
      ]
     },
     "metadata": {
      "needs_background": "light"
     },
     "output_type": "display_data"
    }
   ],
   "source": [
    "fpr_disparity_fairness = aqp.plot_fairness_disparity(fdf, group_metric='fpr', attribute_name='gender')"
   ]
  },
  {
   "cell_type": "code",
   "execution_count": null,
   "metadata": {},
   "outputs": [],
   "source": []
  },
  {
   "cell_type": "code",
   "execution_count": null,
   "metadata": {},
   "outputs": [],
   "source": []
  }
 ],
 "metadata": {
  "celltoolbar": "Raw Cell Format",
  "kernelspec": {
   "display_name": "Python 3",
   "language": "python",
   "name": "python3"
  },
  "language_info": {
   "codemirror_mode": {
    "name": "ipython",
    "version": 3
   },
   "file_extension": ".py",
   "mimetype": "text/x-python",
   "name": "python",
   "nbconvert_exporter": "python",
   "pygments_lexer": "ipython3",
   "version": "3.7.6"
  }
 },
 "nbformat": 4,
 "nbformat_minor": 2
}
